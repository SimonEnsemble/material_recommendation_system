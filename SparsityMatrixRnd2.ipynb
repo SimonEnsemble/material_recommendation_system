{
 "cells": [
  {
   "cell_type": "code",
   "execution_count": 367,
   "metadata": {},
   "outputs": [],
   "source": [
    "import json\n",
    "import requests\n",
    "import numpy as np\n",
    "import matplotlib.pyplot as plt\n",
    "import random\n",
    "import pprint"
   ]
  },
  {
   "cell_type": "markdown",
   "metadata": {},
   "source": [
    "#TODO add temperature specifications\n",
    "#TODO re order mof_to_row and gas_to_column as well as the reverse ones\n",
    "#TODO henrys law coefficients and does the linear algebra"
   ]
  },
  {
   "cell_type": "code",
   "execution_count": 201,
   "metadata": {},
   "outputs": [],
   "source": [
    "host = \"adsorption.nist.gov\""
   ]
  },
  {
   "cell_type": "markdown",
   "metadata": {},
   "source": [
    "## Creating a Dictionary that converts InChIKey to gas and hashkey to mof"
   ]
  },
  {
   "cell_type": "code",
   "execution_count": 202,
   "metadata": {},
   "outputs": [],
   "source": [
    "##Creating a dictionary of gas names to InChIKey \n",
    "url = \"https://\" + host + \"/isodb/api/gases.json\"\n",
    "bibliography = json.loads(requests.get(url).content)\n",
    "\n",
    "gas_code = {}\n",
    "for gas in bibliography:\n",
    "    gas_code[gas['InChIKey']] = gas['name']\n",
    "\n",
    "#Creates a dictionary for materials \n",
    "url = \"https://\" + host + \"/isodb/api/materials.json\"\n",
    "bibliography = json.loads(requests.get(url).content)\n",
    "\n",
    "material_code = {}\n",
    "for material in bibliography:\n",
    "    material_code[material['hashkey']] = material['name']"
   ]
  },
  {
   "cell_type": "markdown",
   "metadata": {},
   "source": [
    "## Creates a Bar Graph of the types of categories in all of the Isotherms"
   ]
  },
  {
   "cell_type": "code",
   "execution_count": 292,
   "metadata": {},
   "outputs": [
    {
     "name": "stdout",
     "output_type": "stream",
     "text": [
      "The amount of uncategorized isotherms is 23090\n",
      "The amount of epxerimental isotherms is 5723\n",
      "The amount of mod isotherms is 460\n",
      "The amount of qua isotherms is 118\n",
      "The amount of simulated isotherms is 935\n"
     ]
    },
    {
     "data": {
      "image/png": "[encoded data removed]",
      "text/plain": [
       "<Figure size 720x504 with 1 Axes>"
      ]
     },
     "metadata": {
      "needs_background": "light"
     },
     "output_type": "display_data"
    }
   ],
   "source": [
    "#Creating a bar graph to map the different types of categories of each isotherm\n",
    "url = \"https://\" + host + \"/isodb/api/isotherms.json\"\n",
    "isotherm_status = json.loads(requests.get(url).content)\n",
    "\n",
    "isotherm_category = []\n",
    "for isotherm in isotherm_status:\n",
    "    isotherm_category.append(isotherm['category'])\n",
    "\n",
    "uncategorized = isotherm_category.count('')\n",
    "experimental = isotherm_category.count('exp')\n",
    "mod = isotherm_category.count('mod')\n",
    "qua = isotherm_category.count('qua')\n",
    "simulated = isotherm_category.count('sim')\n",
    "\n",
    "print('The amount of uncategorized isotherms is {}'.format(uncategorized))\n",
    "print('The amount of epxerimental isotherms is {}'.format(experimental))\n",
    "print('The amount of mod isotherms is {}'.format(mod))\n",
    "print('The amount of qua isotherms is {}'.format(qua))\n",
    "print('The amount of simulated isotherms is {}'.format(simulated))\n",
    "\n",
    "objects = (\"Uncategorized\", \"'exp'\", \"'mod'\", \"'qua'\", \"'sim'\")\n",
    "y_pos = np.arange(len(objects))\n",
    "bar_height = [uncategorized, experimental, mod, qua, simulated]\n",
    "\n",
    "plt.figure(figsize = (10,7))\n",
    "plt.bar(y_pos, bar_height, align='center', alpha=1)\n",
    "plt.xticks(y_pos, objects)\n",
    "plt.ylabel('Frequency')\n",
    "plt.title('Categories of every Isotherm')\n",
    "\n",
    "plt.show()"
   ]
  },
  {
   "cell_type": "markdown",
   "metadata": {},
   "source": [
    "## Importing all isotherm and taking out non experimental tests"
   ]
  },
  {
   "cell_type": "code",
   "execution_count": 204,
   "metadata": {},
   "outputs": [
    {
     "name": "stdout",
     "output_type": "stream",
     "text": [
      "Number of isotherms before cutting non experimental: 30326\n",
      "Number of isotherms after cutting non experimental: 28813\n"
     ]
    }
   ],
   "source": [
    "url = \"https://\" + host + \"/isodb/api/isotherms.json\"\n",
    "experimental_isotherm = json.loads(requests.get(url).content)\n",
    "print(\"Number of isotherms before cutting non experimental: {}\".format(len(experimental_isotherm)))\n",
    "\n",
    "for isotherm in reversed(experimental_isotherm):\n",
    "    if isotherm['category'] == 'exp' or isotherm['category'] == '':\n",
    "        continue\n",
    "    else:\n",
    "        experimental_isotherm.remove(isotherm)\n",
    "\n",
    "print(\"Number of isotherms after cutting non experimental: {}\".format(len(experimental_isotherm)))"
   ]
  },
  {
   "cell_type": "markdown",
   "metadata": {},
   "source": [
    "## Grabs units"
   ]
  },
  {
   "cell_type": "code",
   "execution_count": 205,
   "metadata": {},
   "outputs": [],
   "source": [
    "#DO NOT RUN THIS UNLESS YOU HAVE 3 HOURs TO KILL but this does grab the units for the experimental isotherms\n",
    "units = []\n",
    "for isotherm in experimental_isotherm:\n",
    "    filename = isotherm['filename']\n",
    "    url = \"https://adsorption.nist.gov/isodb/api/isotherm/\" + filename + \".json\"\n",
    "    bibliography = json.loads(requests.get(url).content)\n",
    "    units.append(bibliography['adsorptionUnits'])"
   ]
  },
  {
   "cell_type": "markdown",
   "metadata": {},
   "source": [
    "## This takes out non viable units, mofs tested with a gas mixture, and numbers the gases and the mofs"
   ]
  },
  {
   "cell_type": "code",
   "execution_count": 281,
   "metadata": {},
   "outputs": [
    {
     "name": "stdout",
     "output_type": "stream",
     "text": [
      "Number of Isotherms before cutting non viable units and gas mixtures: 28813\n",
      "Number of Isotherms after cutting non viable units and gas mixtures: 24710\n",
      "Number of gases in the matrix: 103\n",
      "Number of mofs in the matrix: 4542\n"
     ]
    }
   ],
   "source": [
    "viable_units = ['cm3(STP)/g','g/g','mg/g','ml/g','mmol/g','mmol/kg','mol/g','wt%']\n",
    "boolean_units_array = [x_i in viable_units for x_i in units]\n",
    "boolean_isotherm_array = np.ones(len(experimental_isotherm),dtype = bool)\n",
    "\n",
    "print(\"Number of Isotherms before cutting non viable units and gas mixtures: {}\" .format(np.sum(boolean_isotherm_array)))\n",
    "\n",
    "#Makes the boolean array false if the the units aren't viable or the gas is a mixture\n",
    "for isotherm in range(len(experimental_isotherm)):\n",
    "    if not boolean_units_array[isotherm]:\n",
    "        boolean_isotherm_array[isotherm] = False\n",
    "    elif len(experimental_isotherm[isotherm]['adsorbates']) > 1:\n",
    "        boolean_isotherm_array[isotherm] = False\n",
    "        \n",
    "print(\"Number of Isotherms after cutting non viable units and gas mixtures: {}\" .format(np.sum(boolean_isotherm_array)))\n",
    "\n",
    "#TODO make temperature specifications for each of the isotherms, probably make another conditional statement about the temperature\n",
    "\n",
    "#The below two for loops take every experimental mof and gas and number them \n",
    "count = 0\n",
    "mof_to_row = {}\n",
    "for isotherm in range(len(experimental_isotherm)):\n",
    "    if boolean_isotherm_array[isotherm] and experimental_isotherm[isotherm]['adsorbent']['hashkey'] not in mof_to_row:\n",
    "        mof_to_row[experimental_isotherm[isotherm]['adsorbent']['hashkey']] = count\n",
    "        count += 1\n",
    "\n",
    "row_to_mof = dict(map(reversed, mof_to_row.items())) #inverts the dictionary\n",
    "\n",
    "count = 0\n",
    "gas_to_column = {}\n",
    "for isotherm in range(len(experimental_isotherm)):\n",
    "    if boolean_isotherm_array[isotherm] and experimental_isotherm[isotherm]['adsorbates'][0]['InChIKey'] not in gas_to_column:\n",
    "        gas_to_column[experimental_isotherm[isotherm]['adsorbates'][0]['InChIKey']] = count\n",
    "        count += 1\n",
    "        \n",
    "column_to_gas = dict(map(reversed, gas_to_column.items())) #inverts the dictionary\n",
    "\n",
    "print(\"Number of gases in the matrix: {}\".format(len(gas_to_column)))\n",
    "print(\"Number of mofs in the matrix: {}\".format(len(mof_to_row)))\n",
    "\n",
    "#Setting up a matrix of mofs and gases for available data and frequency of isotherms\n",
    "mof_gas_matrix = np.zeros((len(mof_to_row),len(gas_to_column)))\n",
    "mof_gas_frequency = np.zeros((len(mof_to_row),len(gas_to_column)))"
   ]
  },
  {
   "cell_type": "markdown",
   "metadata": {},
   "source": [
    "## This fills in the matrix"
   ]
  },
  {
   "cell_type": "code",
   "execution_count": 285,
   "metadata": {},
   "outputs": [],
   "source": [
    "#Now to fill in the matrix\n",
    "for isotherm in range(len(experimental_isotherm)):\n",
    "    if boolean_isotherm_array[isotherm]:\n",
    "        row_value = mof_to_row[experimental_isotherm[isotherm]['adsorbent']['hashkey']]\n",
    "        column_value = gas_to_column[experimental_isotherm[isotherm]['adsorbates'][0]['InChIKey']]\n",
    "        mof_gas_matrix[row_value,column_value] = 1\n",
    "        mof_gas_frequency[row_value,column_value] += 1"
   ]
  },
  {
   "cell_type": "markdown",
   "metadata": {},
   "source": [
    "## Getting a visual on what the matrix looks like"
   ]
  },
  {
   "cell_type": "code",
   "execution_count": 368,
   "metadata": {},
   "outputs": [
    {
     "data": {
      "image/png": "[encoded data removed]",
      "text/plain": [
       "<Figure size 720x576 with 1 Axes>"
      ]
     },
     "metadata": {
      "needs_background": "light"
     },
     "output_type": "display_data"
    }
   ],
   "source": [
    "plt.figure(figsize = (10,8))\n",
    "plt.spy(mof_gas_matrix,aspect = 'auto',markersize=1)\n",
    "plt.suptitle('Matrix Sparsity',fontsize = 20)\n",
    "plt.title('Gases',fontsize = 13)\n",
    "plt.ylabel('Mofs',fontsize = 13)\n",
    "plt.show()"
   ]
  },
  {
   "cell_type": "markdown",
   "metadata": {},
   "source": [
    "## Checking to see if all gas mixtures were successfully \"taken out\" of experimental_isotherm"
   ]
  },
  {
   "cell_type": "code",
   "execution_count": 235,
   "metadata": {
    "collapsed": true
   },
   "outputs": [
    {
     "name": "stdout",
     "output_type": "stream",
     "text": [
      "10.1002aic.12397.Isotherm42\n",
      "False\n",
      "10.1002aic.12397.Isotherm45\n",
      "False\n",
      "10.1002aic.12397.Isotherm48\n",
      "False\n",
      "10.1002aic.12397.Isotherm51\n",
      "False\n",
      "10.1002aic.12397.Isotherm54\n",
      "False\n",
      "10.1007s104500079101x.Isotherm81\n",
      "False\n",
      "10.1007s104500079101x.Isotherm82\n",
      "False\n",
      "10.1007s104500079101x.Isotherm83\n",
      "False\n",
      "10.1007s104500079101x.Isotherm84\n",
      "False\n",
      "10.1007s104500079101x.Isotherm85\n",
      "False\n",
      "10.1007s104500079101x.Isotherm86\n",
      "False\n",
      "10.1007s1045001395272.Isotherm44\n",
      "False\n",
      "10.1007s1045001395272.Isotherm49\n",
      "False\n",
      "10.1007s1045001395272.Isotherm54\n",
      "False\n",
      "10.1007s1093401194945.Isotherm10\n",
      "False\n",
      "10.1007s1093401194945.Isotherm11\n",
      "False\n",
      "10.1007s1093401194945.Isotherm12\n",
      "False\n",
      "10.1007s1093401194945.Isotherm13\n",
      "False\n",
      "10.1007s1093401194945.Isotherm14\n",
      "False\n",
      "10.1007s1093401194945.Isotherm15\n",
      "False\n",
      "10.1007s1093401194945.Isotherm16\n",
      "False\n",
      "10.1007s1093401194945.Isotherm9\n",
      "False\n",
      "10.1016037838129387146r.Isotherm4\n",
      "False\n",
      "10.1016037838129387146r.Isotherm5\n",
      "False\n",
      "10.1016037838129387146r.Isotherm6\n",
      "False\n",
      "10.1016037838129387146r.Isotherm7\n",
      "False\n",
      "10.1016037838129387146r.Isotherm8\n",
      "False\n",
      "10.1016095042149600014x.Isotherm12\n",
      "False\n",
      "10.1016095042149600014x.Isotherm13\n",
      "False\n",
      "10.1016095042149600014x.Isotherm14\n",
      "False\n",
      "10.1016j.apsusc.2016.06.112.Isotherm7\n",
      "False\n",
      "10.1016j.ces.2016.07.033.Isotherm21\n",
      "False\n",
      "10.1016j.ces.2016.07.033.Isotherm23\n",
      "False\n",
      "10.1016j.ces.2016.07.033.Isotherm26\n",
      "False\n",
      "10.1016j.colsurfa.2014.09.017.Isotherm32\n",
      "False\n",
      "10.1016j.colsurfa.2014.09.017.Isotherm33\n",
      "False\n",
      "10.1016j.colsurfa.2014.09.017.Isotherm34\n",
      "False\n",
      "10.1016j.jcis.2012.10.018.Isotherm26\n",
      "False\n",
      "10.1016j.jcis.2012.10.018.Isotherm29\n",
      "False\n",
      "10.1016j.juogr.2016.03.003.Isotherm1\n",
      "False\n",
      "10.1016j.micromeso.2011.06.024.Isotherm42\n",
      "False\n",
      "10.1016j.micromeso.2011.06.024.Isotherm43\n",
      "False\n",
      "10.1016j.seppur.2014.08.021.Isotherm48\n",
      "False\n",
      "10.1016j.seppur.2014.08.021.Isotherm49\n",
      "False\n",
      "10.1016j.seppur.2014.08.021.Isotherm50\n",
      "False\n",
      "10.1016j.seppur.2014.08.021.Isotherm51\n",
      "False\n",
      "10.1016j.seppur.2014.08.021.Isotherm52\n",
      "False\n",
      "10.1016j.seppur.2014.08.021.Isotherm53\n",
      "False\n",
      "10.1016j.seppur.2014.08.021.Isotherm54\n",
      "False\n",
      "10.1016j.seppur.2014.08.021.Isotherm55\n",
      "False\n",
      "10.1016j.seppur.2014.08.021.Isotherm56\n",
      "False\n",
      "10.1016j.supflu.2016.01.008.Isotherm12\n",
      "False\n",
      "10.1016j.supflu.2016.01.008.Isotherm13\n",
      "False\n",
      "10.1016s0167299102803299.Isotherm30\n",
      "False\n",
      "10.1016s0167299102803299.Isotherm31\n",
      "False\n",
      "10.1016s0167299102803299.Isotherm32\n",
      "False\n",
      "10.1016s1004954107600950.Isotherm77\n",
      "False\n",
      "10.1016s1004954107600950.Isotherm78\n",
      "False\n",
      "10.1016s1004954107600950.Isotherm79\n",
      "False\n",
      "10.1016s1004954107600950.Isotherm80\n",
      "False\n",
      "10.1016s1004954107600950.Isotherm81\n",
      "False\n",
      "10.1016s1004954107600950.Isotherm82\n",
      "False\n",
      "10.1016s1004954107600950.Isotherm83\n",
      "False\n",
      "10.1016s1004954107600950.Isotherm84\n",
      "False\n",
      "10.1021acs.jced.6b00209.Isotherm11\n",
      "False\n",
      "10.1021acs.jced.6b00209.Isotherm12\n",
      "False\n",
      "10.1021acs.jced.6b00209.Isotherm13\n",
      "False\n",
      "10.1021acs.jced.6b00209.Isotherm15\n",
      "False\n",
      "10.1021acs.jced.6b00245.Isotherm16\n",
      "False\n",
      "10.1021acs.jced.6b00245.Isotherm17\n",
      "False\n",
      "10.1021acs.jced.6b00245.Isotherm18\n",
      "False\n",
      "10.1021acs.jced.6b00245.Isotherm19\n",
      "False\n",
      "10.1021acs.jced.6b00245.Isotherm20\n",
      "False\n",
      "10.1021acs.jced.6b00245.Isotherm21\n",
      "False\n",
      "10.1021acs.jced.6b00245.Isotherm22\n",
      "False\n",
      "10.1021acs.jced.6b00312.Isotherm1\n",
      "False\n",
      "10.1021acs.jced.6b00312.Isotherm12\n",
      "False\n",
      "10.1021acs.jced.6b00312.Isotherm2\n",
      "False\n",
      "10.1021acs.jced.6b00312.Isotherm3\n",
      "False\n",
      "10.1021acs.jced.6b00374.Isotherm13\n",
      "False\n",
      "10.1021acs.jced.6b00374.Isotherm14\n",
      "False\n",
      "10.1021acs.jced.6b00374.Isotherm15\n",
      "False\n",
      "10.1021acs.jced.6b00374.Isotherm16\n",
      "False\n",
      "10.1021ef300197a.Isotherm10\n",
      "False\n",
      "10.1021ef300197a.Isotherm11\n",
      "False\n",
      "10.1021ef300197a.Isotherm12\n",
      "False\n",
      "10.1021ef300197a.Isotherm13\n",
      "False\n",
      "10.1021ef300197a.Isotherm14\n",
      "False\n",
      "10.1021ef300197a.Isotherm15\n",
      "False\n",
      "10.1021ef300197a.Isotherm16\n",
      "False\n",
      "10.1021ef300197a.Isotherm17\n",
      "False\n",
      "10.1021ef300197a.Isotherm18\n",
      "False\n",
      "10.1021ef300197a.Isotherm7\n",
      "False\n",
      "10.1021ef300197a.Isotherm8\n",
      "False\n",
      "10.1021ef300197a.Isotherm9\n",
      "False\n",
      "10.1021ie0601293.Isotherm1\n",
      "False\n",
      "10.1021ie0601293.Isotherm2\n",
      "False\n",
      "10.1021ie0601293.Isotherm3\n",
      "False\n",
      "10.1021ie071645b.Isotherm31\n",
      "False\n",
      "10.1021jp077618g.Isotherm32\n",
      "False\n",
      "10.1021jp077618g.Isotherm33\n",
      "False\n",
      "10.1021jp077618g.Isotherm34\n",
      "False\n",
      "10.1021jp202633t.Isotherm25\n",
      "False\n",
      "10.1021jp202633t.Isotherm27\n",
      "False\n",
      "10.1021jp301729x.Isotherm1\n",
      "False\n",
      "10.1021jp3046356.Isotherm68\n",
      "False\n",
      "10.1021jp3046356.Isotherm69\n",
      "False\n",
      "10.1021jp3046356.Isotherm70\n",
      "False\n",
      "10.1021jp3046356.Isotherm71\n",
      "False\n",
      "10.1021jp3046356.Isotherm72\n",
      "False\n",
      "10.1021jp3046356.Isotherm73\n",
      "False\n",
      "10.1021jp3046356.Isotherm74\n",
      "False\n",
      "10.1021jp3046356.Isotherm75\n",
      "False\n",
      "10.1021jp3046356.Isotherm76\n",
      "False\n",
      "10.1021jp3046356.Isotherm77\n",
      "False\n",
      "10.1021jp3046356.Isotherm78\n",
      "False\n",
      "10.1021jp3046356.Isotherm79\n",
      "False\n",
      "10.1021jp3046356.Isotherm80\n",
      "False\n",
      "10.1021la035556p.Isotherm3\n",
      "False\n",
      "10.1021la035556p.Isotherm4\n",
      "False\n",
      "10.1021la4004998.Isotherm96\n",
      "False\n",
      "10.1021la4004998.Isotherm97\n",
      "False\n",
      "10.1021la4004998.Isotherm98\n",
      "False\n",
      "10.1021la4004998.Isotherm99\n",
      "False\n",
      "10.1021la981341h.Isotherm12\n",
      "False\n",
      "10.1021la981341h.Isotherm13\n",
      "False\n",
      "10.1021la981341h.Isotherm14\n",
      "False\n",
      "10.1021la981341h.Isotherm15\n",
      "False\n",
      "10.1021la981341h.Isotherm16\n",
      "False\n",
      "10.1021la981341h.Isotherm17\n",
      "False\n",
      "10.1021la981341h.Isotherm18\n",
      "False\n",
      "10.1039c5cp06377a.Isotherm1\n",
      "False\n",
      "10.1039c5cp06377a.Isotherm2\n",
      "False\n",
      "10.1039c5cp06377a.Isotherm3\n",
      "False\n",
      "10.1039c5cp06377a.Isotherm4\n",
      "False\n",
      "10.1039c5cp06377a.Isotherm5\n",
      "False\n",
      "10.1039c5cp06377a.Isotherm6\n",
      "False\n",
      "10.1039c5cp06377a.Isotherm7\n",
      "False\n",
      "10.1039c5cp06377a.Isotherm8\n",
      "False\n",
      "10.1039c5cp07422c.Isotherm37\n",
      "False\n",
      "10.1039c5cp07422c.Isotherm38\n",
      "False\n",
      "10.1039c5cp07422c.Isotherm39\n",
      "False\n",
      "10.1039c5cp07422c.Isotherm40\n",
      "False\n",
      "10.1039c5cp07422c.Isotherm41\n",
      "False\n",
      "10.1039c5cp07422c.Isotherm42\n",
      "False\n",
      "10.108001496390701512034.Isotherm28\n",
      "False\n",
      "10.108001496390701512034.Isotherm29\n",
      "False\n",
      "10.108001496390701512034.Isotherm30\n",
      "False\n",
      "10.108001496390802282347.Isotherm68\n",
      "False\n",
      "10.108001496390802282347.Isotherm69\n",
      "False\n",
      "10.108001496390802282347.Isotherm70\n",
      "False\n",
      "10.108001496390802282347.Isotherm71\n",
      "False\n",
      "10.108001496390802282347.Isotherm72\n",
      "False\n",
      "10.108001496390802282347.Isotherm73\n",
      "False\n",
      "10.108001496390802282347.Isotherm74\n",
      "False\n",
      "10.108001496390802282347.Isotherm75\n",
      "False\n",
      "10.108001496390802282347.Isotherm76\n",
      "False\n",
      "10.108001496390802282347.Isotherm77\n",
      "False\n",
      "10.108001496390802282347.Isotherm87\n",
      "False\n",
      "10.108001496390802282347.Isotherm88\n",
      "False\n",
      "10.108001496390802282347.Isotherm89\n",
      "False\n",
      "10.108001496390802282347.Isotherm90\n",
      "False\n",
      "10.108001496390802282347.Isotherm91\n",
      "False\n",
      "10.108001496390802282347.Isotherm92\n",
      "False\n",
      "10.108001496390802282347.Isotherm93\n",
      "False\n",
      "10.108001496390802282347.Isotherm94\n",
      "False\n",
      "10.108001496390802282347.Isotherm95\n",
      "False\n",
      "10.108001496390902775935.Isotherm14\n",
      "False\n",
      "10.108001496390902775935.Isotherm15\n",
      "False\n",
      "10.108001496390902775935.Isotherm16\n",
      "False\n",
      "10.108001496390902775935.Isotherm17\n",
      "False\n",
      "10.108001496390902775935.Isotherm18\n",
      "False\n",
      "10.1590s010466322013000400024.Isotherm1\n",
      "False\n",
      "10.1590s010466322013000400024.Isotherm2\n",
      "False\n",
      "10.1590s010466322013000400024.Isotherm3\n",
      "False\n",
      "10.1590s010466322013000400024.Isotherm4\n",
      "False\n",
      "10.211878146pa.Isotherm1\n",
      "False\n",
      "10.3390en9030189.Isotherm41\n",
      "False\n",
      "10.3390en9030189.Isotherm42\n",
      "False\n"
     ]
    }
   ],
   "source": [
    "count=0\n",
    "for isotherm in experimental_isotherm:\n",
    "    if len(isotherm['adsorbates']) > 1:\n",
    "        print(isotherm['filename'])\n",
    "        print(boolean_isotherm_array[count])\n",
    "    count += 1"
   ]
  },
  {
   "cell_type": "markdown",
   "metadata": {},
   "source": [
    "## This takes a random value from the matrix to see if there is isotherm data on it and prints the isotherm data if present"
   ]
  },
  {
   "cell_type": "code",
   "execution_count": 353,
   "metadata": {},
   "outputs": [
    {
     "name": "stdout",
     "output_type": "stream",
     "text": [
      "Isotherm 1 satisfies all conditions!\n"
     ]
    }
   ],
   "source": [
    "count = 1\n",
    "while True:\n",
    "    gas_number = random.choice(range(len(gas_to_column)))\n",
    "    mof_number = random.choice(range(len(mof_to_row)))\n",
    "    if mof_gas_matrix[mof_number,gas_number] == 1:\n",
    "        for isotherm in experimental_isotherm:\n",
    "            if isotherm['adsorbent']['hashkey'] == row_to_mof[mof_number] and isotherm['adsorbates'][0]['InChIKey'] == column_to_gas[gas_number]:\n",
    "                url = \"https://adsorption.nist.gov/isodb/api/isotherm/\" + isotherm['filename'] + \".json\"\n",
    "                bibliography = json.loads(requests.get(url).content)\n",
    "                if bibliography['adsorptionUnits'] in viable_units and len(bibliography['adsorbates']) == 1 and isotherm['category'] == 'exp' or isotherm['category'] == '':\n",
    "                    print('Isotherm ' + str(count) + ' satisfies all conditions!')\n",
    "                #pprint.pprint(bibliography) <-- if you want to check the actual isotherm file\n",
    "                count += 1\n",
    "        break"
   ]
  },
  {
   "cell_type": "markdown",
   "metadata": {},
   "source": [
    "## Another Check to see if the matrix is correct"
   ]
  },
  {
   "cell_type": "code",
   "execution_count": 280,
   "metadata": {},
   "outputs": [
    {
     "name": "stdout",
     "output_type": "stream",
     "text": [
      "The gases that are tested with CuBTC:\n",
      "{'1-Butanol',\n",
      " '1-Octanol',\n",
      " '1-Propanol',\n",
      " '1-hexanol',\n",
      " '2-Methylbutane',\n",
      " '2-Propanol',\n",
      " 'Acetone',\n",
      " 'Acetonitrile',\n",
      " 'Acetylene',\n",
      " 'Ammonia',\n",
      " 'Argon',\n",
      " 'Benzene',\n",
      " 'Carbon Dioxide',\n",
      " 'Carbon Tetrachloride',\n",
      " 'Carbon Tetrafluoride',\n",
      " 'Carbon monoxide',\n",
      " 'Cyclohexane',\n",
      " 'Cyclopentane',\n",
      " 'Deuterium',\n",
      " 'Dichloromethane',\n",
      " 'Dimethylforamide',\n",
      " 'Ethane',\n",
      " 'Ethanol',\n",
      " 'Ethene',\n",
      " 'Hydrogen',\n",
      " 'Isobutane',\n",
      " 'Isobutene',\n",
      " 'Krypton',\n",
      " 'M-Xylene',\n",
      " 'Methane',\n",
      " 'Methanol',\n",
      " 'N-Butane',\n",
      " 'N-Heptane',\n",
      " 'N-Hexane',\n",
      " 'N-Octane',\n",
      " 'N-Pentane',\n",
      " 'N-propane',\n",
      " 'Nitric oxide',\n",
      " 'Nitrogen',\n",
      " 'Nitrogen Dioxide',\n",
      " 'Nitrous Oxides',\n",
      " 'O-Xylene',\n",
      " 'Oxygen',\n",
      " 'P-Xylene',\n",
      " 'Propene',\n",
      " 'Radon',\n",
      " 'Sulfur dioxide',\n",
      " 'Tetrahydrofuran',\n",
      " 'Thiophene',\n",
      " 'Toluene',\n",
      " 'Trichloromethane',\n",
      " 'Water',\n",
      " 'Xenon'}\n",
      "Number of gases in the list: 53\n",
      "Number of gasses in the first row of the matrix that corresponds with CuBTC: 53.0\n"
     ]
    }
   ],
   "source": [
    "#This just tests to see if the matrix is correct, you can see the amount of gases each isotherm has and compare it to the matrix\n",
    "#material_code[experimental_isotherm[12]['adsorbent']['hashkey']] correspnds with the first term in the matrix 'CuBTC'\n",
    "#Code should give 53 different gases that 'CuBTC' has been tested with because that is the number that the number of ones in the sparsity matrix\n",
    "\n",
    "test_array=[]\n",
    "for isotherm in range(len(experimental_isotherm)):\n",
    "    if experimental_isotherm[isotherm]['adsorbent']['hashkey'] == experimental_isotherm[12]['adsorbent']['hashkey'] and boolean_isotherm_array[isotherm]:\n",
    "        test_array.append(gas_code[experimental_isotherm[isotherm]['adsorbates'][0]['InChIKey']])\n",
    "\n",
    "print('The gases that are tested with CuBTC:') \n",
    "pprint.pprint(set(test_array))\n",
    "print('Number of gases in the list: {}'.format(len(set(test_array))))\n",
    "print('Number of gasses in the first row of the matrix that corresponds with CuBTC: {}'.format(np.sum(mof_gas_matrix[0,:])))"
   ]
  },
  {
   "cell_type": "markdown",
   "metadata": {},
   "source": [
    "## This takes out rows and columns that have too little data"
   ]
  },
  {
   "cell_type": "code",
   "execution_count": 390,
   "metadata": {},
   "outputs": [
    {
     "name": "stdout",
     "output_type": "stream",
     "text": [
      "Number of mofs cut: 4270\n",
      "Number of gases cut: 56\n",
      "The remaining dimensions of the matrix are 272 by 47\n",
      "The number of iterations of sparsing the matrix 2\n"
     ]
    }
   ],
   "source": [
    "def prune_matrix(min_data_points):\n",
    "    keep_row = np.ones(len(mof_to_row), dtype=bool)\n",
    "    keep_column = np.ones(len(gas_to_column), dtype=bool)\n",
    "    nb_kept_rows_and_columns = np.sum(keep_row) + np.sum(keep_column)\n",
    "    gases_cut = 0\n",
    "    mofs_cut = 0\n",
    "    count = 0\n",
    "\n",
    "    while True:\n",
    "        for i_row in range(len(mof_to_row)):\n",
    "            if np.sum(mof_gas_matrix[i_row, keep_column]) < min_data_points:\n",
    "                keep_row[i_row] = False\n",
    "\n",
    "        for i_column in range(len(gas_to_column)):\n",
    "            if np.sum(mof_gas_matrix[keep_row, i_column]) < min_data_points:\n",
    "                keep_column[i_column] = False\n",
    "\n",
    "        if nb_kept_rows_and_columns == (np.sum(keep_row) + np.sum(keep_column)):\n",
    "            break\n",
    "\n",
    "        nb_kept_rows_and_columns = np.sum(keep_row) + np.sum(keep_column)\n",
    "        count += 1\n",
    "\n",
    "    mofs_cut = np.sum(~keep_row)\n",
    "    gases_cut = np.sum(~keep_column)\n",
    "\n",
    "    #TODO make another matrix that actually cuts the rows and the columns out\n",
    "\n",
    "    print(\"Number of mofs cut: {}\" .format(mofs_cut))\n",
    "    print(\"Number of gases cut: {}\" .format(gases_cut))\n",
    "    print('The remaining dimensions of the matrix are {} by {}'.format(len(mof_to_row)-mofs_cut,len(gas_to_column)-gases_cut))\n",
    "    print('The number of iterations of sparsing the matrix {}'.format(count))\n",
    "    \n",
    "    return keep_row, keep_column\n",
    "\n",
    "keep_row, keep_column = prune_matrix(5)"
   ]
  },
  {
   "cell_type": "markdown",
   "metadata": {},
   "source": [
    "## Plotting the sparsed matrix and the original matrix side by side"
   ]
  },
  {
   "cell_type": "code",
   "execution_count": 391,
   "metadata": {},
   "outputs": [
    {
     "data": {
      "image/png": "[encoded data removed]",
      "text/plain": [
       "<Figure size 1080x468 with 2 Axes>"
      ]
     },
     "metadata": {
      "needs_background": "light"
     },
     "output_type": "display_data"
    }
   ],
   "source": [
    "plt.figure(figsize = (15,6.5))\n",
    "\n",
    "#subplot for the unsparsed matrix\n",
    "plt.subplot(121)\n",
    "plt.spy(mof_gas_matrix,aspect = 'auto',markersize=1)\n",
    "plt.title('Unsparsed Matrix',fontsize = 20)\n",
    "plt.xlabel('Gases',fontsize = 13)\n",
    "plt.ylabel('Mofs',fontsize = 13)\n",
    "\n",
    "#subplot the sparsed matrix \n",
    "plt.subplot(122)\n",
    "plt.spy(mof_gas_matrix[keep_row,:][:,keep_column],aspect = 'auto',markersize=1)\n",
    "plt.title('Sparsed Matrix',fontsize = 20)\n",
    "plt.xlabel('Gases',fontsize = 13)\n",
    "plt.ylabel('Mofs',fontsize = 13)\n",
    "plt.show()"
   ]
  },
  {
   "cell_type": "markdown",
   "metadata": {},
   "source": [
    "## Minimum data point requirement vs sparsity of matrix graph"
   ]
  },
  {
   "cell_type": "code",
   "execution_count": 384,
   "metadata": {},
   "outputs": [
    {
     "data": {
      "text/plain": [
       "array([[1., 1., 1., ..., 1., 1., 0.],\n",
       "       [1., 1., 0., ..., 1., 0., 0.],\n",
       "       [1., 1., 1., ..., 0., 0., 0.],\n",
       "       ...,\n",
       "       [1., 1., 0., ..., 0., 0., 0.],\n",
       "       [1., 1., 0., ..., 0., 0., 0.],\n",
       "       [1., 1., 0., ..., 0., 0., 0.]])"
      ]
     },
     "execution_count": 384,
     "metadata": {},
     "output_type": "execute_result"
    }
   ],
   "source": [
    "mof_gas_matrix[keep_row,:][:,keep_column]"
   ]
  },
  {
   "cell_type": "code",
   "execution_count": 366,
   "metadata": {},
   "outputs": [
    {
     "data": {
      "image/png": "[encoded data removed]",
      "text/plain": [
       "<Figure size 1080x468 with 2 Axes>"
      ]
     },
     "metadata": {
      "needs_background": "light"
     },
     "output_type": "display_data"
    }
   ],
   "source": [
    "point_requirement_matrix = np.copy(mof_gas_matrix)\n",
    "matrix_sum = np.sum(point_requirement_matrix)\n",
    "gases_cut = 0\n",
    "mofs_cut = 0\n",
    "count = 0\n",
    "cut_mofs = []\n",
    "cut_gases = []\n",
    "\n",
    "for n in range(11):\n",
    "    while True:\n",
    "        \n",
    "        mofs_cut = 0\n",
    "        gases_cut = 0\n",
    "        \n",
    "        for row in range(len(mof_to_row)):\n",
    "            if np.sum(point_requirement_matrix[row,:]) < n:\n",
    "                point_requirement_matrix[row,:] = False\n",
    "        \n",
    "        for column in range(len(gas_to_column)):\n",
    "            if np.sum(point_requirement_matrix[:,column]) < n:\n",
    "                point_requirement_matrix[:,column] = False\n",
    "    \n",
    "        if matrix_sum == np.sum(point_requirement_matrix):\n",
    "            break\n",
    "        \n",
    "        matrix_sum = np.sum(point_requirement_matrix)\n",
    "        count += 1\n",
    "    \n",
    "    for row in range(len(mof_to_row)):\n",
    "        if point_requirement_matrix.sum(axis = 1)[row] == 0:\n",
    "            mofs_cut += 1\n",
    "    \n",
    "    for column in range(len(gas_to_column)):\n",
    "        if point_requirement_matrix.sum(axis = 0)[column] == 0:\n",
    "            gases_cut += 1\n",
    "            \n",
    "    cut_mofs.append(len(mof_to_row) - mofs_cut)\n",
    "    cut_gases.append(len(gas_to_column) - gases_cut)   \n",
    "\n",
    "#Plots how the the gases and the mofs act with an increase in matrix specificity\n",
    "n = range(11)\n",
    "plt.figure(figsize = (15,6.5))\n",
    "\n",
    "plt.subplot(121)\n",
    "plt.plot(n,cut_mofs,'r')\n",
    "plt.title('The amount of mofs that are getting cut')\n",
    "plt.ylabel('Mofs Remaining')\n",
    "plt.xlabel('Matrix Specificity')\n",
    "plt.grid()\n",
    "\n",
    "plt.subplot(122)\n",
    "plt.plot(n,cut_gases,'r')\n",
    "plt.title('The amount of gases that are getting cut')\n",
    "plt.ylabel('Gases Remaining')\n",
    "plt.xlabel('Matrix Specificity')\n",
    "plt.grid()\n",
    "plt.show()\n",
    "#TODO plot the graphs as points"
   ]
  },
  {
   "cell_type": "markdown",
   "metadata": {},
   "source": [
    "## Grabs individual isotherms"
   ]
  },
  {
   "cell_type": "code",
   "execution_count": 370,
   "metadata": {
    "collapsed": true
   },
   "outputs": [
    {
     "ename": "ConnectionError",
     "evalue": "HTTPSConnectionPool(host='adsorption.nist.gov', port=443): Max retries exceeded with url: /isodb/api/isotherm/10.1021acs.jced.6b00209.Isotherm15.json (Caused by NewConnectionError('<urllib3.connection.VerifiedHTTPSConnection object at 0x0000025E2DB4E080>: Failed to establish a new connection: [WinError 10060] A connection attempt failed because the connected party did not properly respond after a period of time, or established connection failed because connected host has failed to respond'))",
     "output_type": "error",
     "traceback": [
      "\u001b[1;31m---------------------------------------------------------------------------\u001b[0m",
      "\u001b[1;31mTimeoutError\u001b[0m                              Traceback (most recent call last)",
      "\u001b[1;32m~\\Anaconda3\\lib\\site-packages\\urllib3\\connection.py\u001b[0m in \u001b[0;36m_new_conn\u001b[1;34m(self)\u001b[0m\n\u001b[0;32m    158\u001b[0m             conn = connection.create_connection(\n\u001b[1;32m--> 159\u001b[1;33m                 (self._dns_host, self.port), self.timeout, **extra_kw)\n\u001b[0m\u001b[0;32m    160\u001b[0m \u001b[1;33m\u001b[0m\u001b[0m\n",
      "\u001b[1;32m~\\Anaconda3\\lib\\site-packages\\urllib3\\util\\connection.py\u001b[0m in \u001b[0;36mcreate_connection\u001b[1;34m(address, timeout, source_address, socket_options)\u001b[0m\n\u001b[0;32m     79\u001b[0m     \u001b[1;32mif\u001b[0m \u001b[0merr\u001b[0m \u001b[1;32mis\u001b[0m \u001b[1;32mnot\u001b[0m \u001b[1;32mNone\u001b[0m\u001b[1;33m:\u001b[0m\u001b[1;33m\u001b[0m\u001b[1;33m\u001b[0m\u001b[0m\n\u001b[1;32m---> 80\u001b[1;33m         \u001b[1;32mraise\u001b[0m \u001b[0merr\u001b[0m\u001b[1;33m\u001b[0m\u001b[1;33m\u001b[0m\u001b[0m\n\u001b[0m\u001b[0;32m     81\u001b[0m \u001b[1;33m\u001b[0m\u001b[0m\n",
      "\u001b[1;32m~\\Anaconda3\\lib\\site-packages\\urllib3\\util\\connection.py\u001b[0m in \u001b[0;36mcreate_connection\u001b[1;34m(address, timeout, source_address, socket_options)\u001b[0m\n\u001b[0;32m     69\u001b[0m                 \u001b[0msock\u001b[0m\u001b[1;33m.\u001b[0m\u001b[0mbind\u001b[0m\u001b[1;33m(\u001b[0m\u001b[0msource_address\u001b[0m\u001b[1;33m)\u001b[0m\u001b[1;33m\u001b[0m\u001b[1;33m\u001b[0m\u001b[0m\n\u001b[1;32m---> 70\u001b[1;33m             \u001b[0msock\u001b[0m\u001b[1;33m.\u001b[0m\u001b[0mconnect\u001b[0m\u001b[1;33m(\u001b[0m\u001b[0msa\u001b[0m\u001b[1;33m)\u001b[0m\u001b[1;33m\u001b[0m\u001b[1;33m\u001b[0m\u001b[0m\n\u001b[0m\u001b[0;32m     71\u001b[0m             \u001b[1;32mreturn\u001b[0m \u001b[0msock\u001b[0m\u001b[1;33m\u001b[0m\u001b[1;33m\u001b[0m\u001b[0m\n",
      "\u001b[1;31mTimeoutError\u001b[0m: [WinError 10060] A connection attempt failed because the connected party did not properly respond after a period of time, or established connection failed because connected host has failed to respond",
      "\nDuring handling of the above exception, another exception occurred:\n",
      "\u001b[1;31mNewConnectionError\u001b[0m                        Traceback (most recent call last)",
      "\u001b[1;32m~\\Anaconda3\\lib\\site-packages\\urllib3\\connectionpool.py\u001b[0m in \u001b[0;36murlopen\u001b[1;34m(self, method, url, body, headers, retries, redirect, assert_same_host, timeout, pool_timeout, release_conn, chunked, body_pos, **response_kw)\u001b[0m\n\u001b[0;32m    599\u001b[0m                                                   \u001b[0mbody\u001b[0m\u001b[1;33m=\u001b[0m\u001b[0mbody\u001b[0m\u001b[1;33m,\u001b[0m \u001b[0mheaders\u001b[0m\u001b[1;33m=\u001b[0m\u001b[0mheaders\u001b[0m\u001b[1;33m,\u001b[0m\u001b[1;33m\u001b[0m\u001b[1;33m\u001b[0m\u001b[0m\n\u001b[1;32m--> 600\u001b[1;33m                                                   chunked=chunked)\n\u001b[0m\u001b[0;32m    601\u001b[0m \u001b[1;33m\u001b[0m\u001b[0m\n",
      "\u001b[1;32m~\\Anaconda3\\lib\\site-packages\\urllib3\\connectionpool.py\u001b[0m in \u001b[0;36m_make_request\u001b[1;34m(self, conn, method, url, timeout, chunked, **httplib_request_kw)\u001b[0m\n\u001b[0;32m    342\u001b[0m         \u001b[1;32mtry\u001b[0m\u001b[1;33m:\u001b[0m\u001b[1;33m\u001b[0m\u001b[1;33m\u001b[0m\u001b[0m\n\u001b[1;32m--> 343\u001b[1;33m             \u001b[0mself\u001b[0m\u001b[1;33m.\u001b[0m\u001b[0m_validate_conn\u001b[0m\u001b[1;33m(\u001b[0m\u001b[0mconn\u001b[0m\u001b[1;33m)\u001b[0m\u001b[1;33m\u001b[0m\u001b[1;33m\u001b[0m\u001b[0m\n\u001b[0m\u001b[0;32m    344\u001b[0m         \u001b[1;32mexcept\u001b[0m \u001b[1;33m(\u001b[0m\u001b[0mSocketTimeout\u001b[0m\u001b[1;33m,\u001b[0m \u001b[0mBaseSSLError\u001b[0m\u001b[1;33m)\u001b[0m \u001b[1;32mas\u001b[0m \u001b[0me\u001b[0m\u001b[1;33m:\u001b[0m\u001b[1;33m\u001b[0m\u001b[1;33m\u001b[0m\u001b[0m\n",
      "\u001b[1;32m~\\Anaconda3\\lib\\site-packages\\urllib3\\connectionpool.py\u001b[0m in \u001b[0;36m_validate_conn\u001b[1;34m(self, conn)\u001b[0m\n\u001b[0;32m    838\u001b[0m         \u001b[1;32mif\u001b[0m \u001b[1;32mnot\u001b[0m \u001b[0mgetattr\u001b[0m\u001b[1;33m(\u001b[0m\u001b[0mconn\u001b[0m\u001b[1;33m,\u001b[0m \u001b[1;34m'sock'\u001b[0m\u001b[1;33m,\u001b[0m \u001b[1;32mNone\u001b[0m\u001b[1;33m)\u001b[0m\u001b[1;33m:\u001b[0m  \u001b[1;31m# AppEngine might not have  `.sock`\u001b[0m\u001b[1;33m\u001b[0m\u001b[1;33m\u001b[0m\u001b[0m\n\u001b[1;32m--> 839\u001b[1;33m             \u001b[0mconn\u001b[0m\u001b[1;33m.\u001b[0m\u001b[0mconnect\u001b[0m\u001b[1;33m(\u001b[0m\u001b[1;33m)\u001b[0m\u001b[1;33m\u001b[0m\u001b[1;33m\u001b[0m\u001b[0m\n\u001b[0m\u001b[0;32m    840\u001b[0m \u001b[1;33m\u001b[0m\u001b[0m\n",
      "\u001b[1;32m~\\Anaconda3\\lib\\site-packages\\urllib3\\connection.py\u001b[0m in \u001b[0;36mconnect\u001b[1;34m(self)\u001b[0m\n\u001b[0;32m    300\u001b[0m         \u001b[1;31m# Add certificate verification\u001b[0m\u001b[1;33m\u001b[0m\u001b[1;33m\u001b[0m\u001b[1;33m\u001b[0m\u001b[0m\n\u001b[1;32m--> 301\u001b[1;33m         \u001b[0mconn\u001b[0m \u001b[1;33m=\u001b[0m \u001b[0mself\u001b[0m\u001b[1;33m.\u001b[0m\u001b[0m_new_conn\u001b[0m\u001b[1;33m(\u001b[0m\u001b[1;33m)\u001b[0m\u001b[1;33m\u001b[0m\u001b[1;33m\u001b[0m\u001b[0m\n\u001b[0m\u001b[0;32m    302\u001b[0m         \u001b[0mhostname\u001b[0m \u001b[1;33m=\u001b[0m \u001b[0mself\u001b[0m\u001b[1;33m.\u001b[0m\u001b[0mhost\u001b[0m\u001b[1;33m\u001b[0m\u001b[1;33m\u001b[0m\u001b[0m\n",
      "\u001b[1;32m~\\Anaconda3\\lib\\site-packages\\urllib3\\connection.py\u001b[0m in \u001b[0;36m_new_conn\u001b[1;34m(self)\u001b[0m\n\u001b[0;32m    167\u001b[0m             raise NewConnectionError(\n\u001b[1;32m--> 168\u001b[1;33m                 self, \"Failed to establish a new connection: %s\" % e)\n\u001b[0m\u001b[0;32m    169\u001b[0m \u001b[1;33m\u001b[0m\u001b[0m\n",
      "\u001b[1;31mNewConnectionError\u001b[0m: <urllib3.connection.VerifiedHTTPSConnection object at 0x0000025E2DB4E080>: Failed to establish a new connection: [WinError 10060] A connection attempt failed because the connected party did not properly respond after a period of time, or established connection failed because connected host has failed to respond",
      "\nDuring handling of the above exception, another exception occurred:\n",
      "\u001b[1;31mMaxRetryError\u001b[0m                             Traceback (most recent call last)",
      "\u001b[1;32m~\\Anaconda3\\lib\\site-packages\\requests\\adapters.py\u001b[0m in \u001b[0;36msend\u001b[1;34m(self, request, stream, timeout, verify, cert, proxies)\u001b[0m\n\u001b[0;32m    448\u001b[0m                     \u001b[0mretries\u001b[0m\u001b[1;33m=\u001b[0m\u001b[0mself\u001b[0m\u001b[1;33m.\u001b[0m\u001b[0mmax_retries\u001b[0m\u001b[1;33m,\u001b[0m\u001b[1;33m\u001b[0m\u001b[1;33m\u001b[0m\u001b[0m\n\u001b[1;32m--> 449\u001b[1;33m                     \u001b[0mtimeout\u001b[0m\u001b[1;33m=\u001b[0m\u001b[0mtimeout\u001b[0m\u001b[1;33m\u001b[0m\u001b[1;33m\u001b[0m\u001b[0m\n\u001b[0m\u001b[0;32m    450\u001b[0m                 )\n",
      "\u001b[1;32m~\\Anaconda3\\lib\\site-packages\\urllib3\\connectionpool.py\u001b[0m in \u001b[0;36murlopen\u001b[1;34m(self, method, url, body, headers, retries, redirect, assert_same_host, timeout, pool_timeout, release_conn, chunked, body_pos, **response_kw)\u001b[0m\n\u001b[0;32m    637\u001b[0m             retries = retries.increment(method, url, error=e, _pool=self,\n\u001b[1;32m--> 638\u001b[1;33m                                         _stacktrace=sys.exc_info()[2])\n\u001b[0m\u001b[0;32m    639\u001b[0m             \u001b[0mretries\u001b[0m\u001b[1;33m.\u001b[0m\u001b[0msleep\u001b[0m\u001b[1;33m(\u001b[0m\u001b[1;33m)\u001b[0m\u001b[1;33m\u001b[0m\u001b[1;33m\u001b[0m\u001b[0m\n",
      "\u001b[1;32m~\\Anaconda3\\lib\\site-packages\\urllib3\\util\\retry.py\u001b[0m in \u001b[0;36mincrement\u001b[1;34m(self, method, url, response, error, _pool, _stacktrace)\u001b[0m\n\u001b[0;32m    397\u001b[0m         \u001b[1;32mif\u001b[0m \u001b[0mnew_retry\u001b[0m\u001b[1;33m.\u001b[0m\u001b[0mis_exhausted\u001b[0m\u001b[1;33m(\u001b[0m\u001b[1;33m)\u001b[0m\u001b[1;33m:\u001b[0m\u001b[1;33m\u001b[0m\u001b[1;33m\u001b[0m\u001b[0m\n\u001b[1;32m--> 398\u001b[1;33m             \u001b[1;32mraise\u001b[0m \u001b[0mMaxRetryError\u001b[0m\u001b[1;33m(\u001b[0m\u001b[0m_pool\u001b[0m\u001b[1;33m,\u001b[0m \u001b[0murl\u001b[0m\u001b[1;33m,\u001b[0m \u001b[0merror\u001b[0m \u001b[1;32mor\u001b[0m \u001b[0mResponseError\u001b[0m\u001b[1;33m(\u001b[0m\u001b[0mcause\u001b[0m\u001b[1;33m)\u001b[0m\u001b[1;33m)\u001b[0m\u001b[1;33m\u001b[0m\u001b[1;33m\u001b[0m\u001b[0m\n\u001b[0m\u001b[0;32m    399\u001b[0m \u001b[1;33m\u001b[0m\u001b[0m\n",
      "\u001b[1;31mMaxRetryError\u001b[0m: HTTPSConnectionPool(host='adsorption.nist.gov', port=443): Max retries exceeded with url: /isodb/api/isotherm/10.1021acs.jced.6b00209.Isotherm15.json (Caused by NewConnectionError('<urllib3.connection.VerifiedHTTPSConnection object at 0x0000025E2DB4E080>: Failed to establish a new connection: [WinError 10060] A connection attempt failed because the connected party did not properly respond after a period of time, or established connection failed because connected host has failed to respond'))",
      "\nDuring handling of the above exception, another exception occurred:\n",
      "\u001b[1;31mConnectionError\u001b[0m                           Traceback (most recent call last)",
      "\u001b[1;32m<ipython-input-370-8197ec426b6c>\u001b[0m in \u001b[0;36m<module>\u001b[1;34m\u001b[0m\n\u001b[0;32m      4\u001b[0m     \u001b[0mfilename\u001b[0m \u001b[1;33m=\u001b[0m \u001b[0misotherm\u001b[0m\u001b[1;33m[\u001b[0m\u001b[1;34m'filename'\u001b[0m\u001b[1;33m]\u001b[0m\u001b[1;33m\u001b[0m\u001b[1;33m\u001b[0m\u001b[0m\n\u001b[0;32m      5\u001b[0m     \u001b[0murl\u001b[0m \u001b[1;33m=\u001b[0m \u001b[1;34m\"https://adsorption.nist.gov/isodb/api/isotherm/\"\u001b[0m \u001b[1;33m+\u001b[0m \u001b[0mfilename\u001b[0m \u001b[1;33m+\u001b[0m \u001b[1;34m\".json\"\u001b[0m\u001b[1;33m\u001b[0m\u001b[1;33m\u001b[0m\u001b[0m\n\u001b[1;32m----> 6\u001b[1;33m     \u001b[0mbibliography\u001b[0m \u001b[1;33m=\u001b[0m \u001b[0mjson\u001b[0m\u001b[1;33m.\u001b[0m\u001b[0mloads\u001b[0m\u001b[1;33m(\u001b[0m\u001b[0mrequests\u001b[0m\u001b[1;33m.\u001b[0m\u001b[0mget\u001b[0m\u001b[1;33m(\u001b[0m\u001b[0murl\u001b[0m\u001b[1;33m)\u001b[0m\u001b[1;33m.\u001b[0m\u001b[0mcontent\u001b[0m\u001b[1;33m)\u001b[0m\u001b[1;33m\u001b[0m\u001b[1;33m\u001b[0m\u001b[0m\n\u001b[0m\u001b[0;32m      7\u001b[0m     \u001b[0mindividual_isotherms\u001b[0m\u001b[1;33m.\u001b[0m\u001b[0mappend\u001b[0m\u001b[1;33m(\u001b[0m\u001b[0mbibliography\u001b[0m\u001b[1;33m)\u001b[0m\u001b[1;33m\u001b[0m\u001b[1;33m\u001b[0m\u001b[0m\n",
      "\u001b[1;32m~\\Anaconda3\\lib\\site-packages\\requests\\api.py\u001b[0m in \u001b[0;36mget\u001b[1;34m(url, params, **kwargs)\u001b[0m\n\u001b[0;32m     73\u001b[0m \u001b[1;33m\u001b[0m\u001b[0m\n\u001b[0;32m     74\u001b[0m     \u001b[0mkwargs\u001b[0m\u001b[1;33m.\u001b[0m\u001b[0msetdefault\u001b[0m\u001b[1;33m(\u001b[0m\u001b[1;34m'allow_redirects'\u001b[0m\u001b[1;33m,\u001b[0m \u001b[1;32mTrue\u001b[0m\u001b[1;33m)\u001b[0m\u001b[1;33m\u001b[0m\u001b[1;33m\u001b[0m\u001b[0m\n\u001b[1;32m---> 75\u001b[1;33m     \u001b[1;32mreturn\u001b[0m \u001b[0mrequest\u001b[0m\u001b[1;33m(\u001b[0m\u001b[1;34m'get'\u001b[0m\u001b[1;33m,\u001b[0m \u001b[0murl\u001b[0m\u001b[1;33m,\u001b[0m \u001b[0mparams\u001b[0m\u001b[1;33m=\u001b[0m\u001b[0mparams\u001b[0m\u001b[1;33m,\u001b[0m \u001b[1;33m**\u001b[0m\u001b[0mkwargs\u001b[0m\u001b[1;33m)\u001b[0m\u001b[1;33m\u001b[0m\u001b[1;33m\u001b[0m\u001b[0m\n\u001b[0m\u001b[0;32m     76\u001b[0m \u001b[1;33m\u001b[0m\u001b[0m\n\u001b[0;32m     77\u001b[0m \u001b[1;33m\u001b[0m\u001b[0m\n",
      "\u001b[1;32m~\\Anaconda3\\lib\\site-packages\\requests\\api.py\u001b[0m in \u001b[0;36mrequest\u001b[1;34m(method, url, **kwargs)\u001b[0m\n\u001b[0;32m     58\u001b[0m     \u001b[1;31m# cases, and look like a memory leak in others.\u001b[0m\u001b[1;33m\u001b[0m\u001b[1;33m\u001b[0m\u001b[1;33m\u001b[0m\u001b[0m\n\u001b[0;32m     59\u001b[0m     \u001b[1;32mwith\u001b[0m \u001b[0msessions\u001b[0m\u001b[1;33m.\u001b[0m\u001b[0mSession\u001b[0m\u001b[1;33m(\u001b[0m\u001b[1;33m)\u001b[0m \u001b[1;32mas\u001b[0m \u001b[0msession\u001b[0m\u001b[1;33m:\u001b[0m\u001b[1;33m\u001b[0m\u001b[1;33m\u001b[0m\u001b[0m\n\u001b[1;32m---> 60\u001b[1;33m         \u001b[1;32mreturn\u001b[0m \u001b[0msession\u001b[0m\u001b[1;33m.\u001b[0m\u001b[0mrequest\u001b[0m\u001b[1;33m(\u001b[0m\u001b[0mmethod\u001b[0m\u001b[1;33m=\u001b[0m\u001b[0mmethod\u001b[0m\u001b[1;33m,\u001b[0m \u001b[0murl\u001b[0m\u001b[1;33m=\u001b[0m\u001b[0murl\u001b[0m\u001b[1;33m,\u001b[0m \u001b[1;33m**\u001b[0m\u001b[0mkwargs\u001b[0m\u001b[1;33m)\u001b[0m\u001b[1;33m\u001b[0m\u001b[1;33m\u001b[0m\u001b[0m\n\u001b[0m\u001b[0;32m     61\u001b[0m \u001b[1;33m\u001b[0m\u001b[0m\n\u001b[0;32m     62\u001b[0m \u001b[1;33m\u001b[0m\u001b[0m\n",
      "\u001b[1;32m~\\Anaconda3\\lib\\site-packages\\requests\\sessions.py\u001b[0m in \u001b[0;36mrequest\u001b[1;34m(self, method, url, params, data, headers, cookies, files, auth, timeout, allow_redirects, proxies, hooks, stream, verify, cert, json)\u001b[0m\n\u001b[0;32m    531\u001b[0m         }\n\u001b[0;32m    532\u001b[0m         \u001b[0msend_kwargs\u001b[0m\u001b[1;33m.\u001b[0m\u001b[0mupdate\u001b[0m\u001b[1;33m(\u001b[0m\u001b[0msettings\u001b[0m\u001b[1;33m)\u001b[0m\u001b[1;33m\u001b[0m\u001b[1;33m\u001b[0m\u001b[0m\n\u001b[1;32m--> 533\u001b[1;33m         \u001b[0mresp\u001b[0m \u001b[1;33m=\u001b[0m \u001b[0mself\u001b[0m\u001b[1;33m.\u001b[0m\u001b[0msend\u001b[0m\u001b[1;33m(\u001b[0m\u001b[0mprep\u001b[0m\u001b[1;33m,\u001b[0m \u001b[1;33m**\u001b[0m\u001b[0msend_kwargs\u001b[0m\u001b[1;33m)\u001b[0m\u001b[1;33m\u001b[0m\u001b[1;33m\u001b[0m\u001b[0m\n\u001b[0m\u001b[0;32m    534\u001b[0m \u001b[1;33m\u001b[0m\u001b[0m\n\u001b[0;32m    535\u001b[0m         \u001b[1;32mreturn\u001b[0m \u001b[0mresp\u001b[0m\u001b[1;33m\u001b[0m\u001b[1;33m\u001b[0m\u001b[0m\n",
      "\u001b[1;32m~\\Anaconda3\\lib\\site-packages\\requests\\sessions.py\u001b[0m in \u001b[0;36msend\u001b[1;34m(self, request, **kwargs)\u001b[0m\n\u001b[0;32m    644\u001b[0m \u001b[1;33m\u001b[0m\u001b[0m\n\u001b[0;32m    645\u001b[0m         \u001b[1;31m# Send the request\u001b[0m\u001b[1;33m\u001b[0m\u001b[1;33m\u001b[0m\u001b[1;33m\u001b[0m\u001b[0m\n\u001b[1;32m--> 646\u001b[1;33m         \u001b[0mr\u001b[0m \u001b[1;33m=\u001b[0m \u001b[0madapter\u001b[0m\u001b[1;33m.\u001b[0m\u001b[0msend\u001b[0m\u001b[1;33m(\u001b[0m\u001b[0mrequest\u001b[0m\u001b[1;33m,\u001b[0m \u001b[1;33m**\u001b[0m\u001b[0mkwargs\u001b[0m\u001b[1;33m)\u001b[0m\u001b[1;33m\u001b[0m\u001b[1;33m\u001b[0m\u001b[0m\n\u001b[0m\u001b[0;32m    647\u001b[0m \u001b[1;33m\u001b[0m\u001b[0m\n\u001b[0;32m    648\u001b[0m         \u001b[1;31m# Total elapsed time of the request (approximately)\u001b[0m\u001b[1;33m\u001b[0m\u001b[1;33m\u001b[0m\u001b[1;33m\u001b[0m\u001b[0m\n",
      "\u001b[1;32m~\\Anaconda3\\lib\\site-packages\\requests\\adapters.py\u001b[0m in \u001b[0;36msend\u001b[1;34m(self, request, stream, timeout, verify, cert, proxies)\u001b[0m\n\u001b[0;32m    514\u001b[0m                 \u001b[1;32mraise\u001b[0m \u001b[0mSSLError\u001b[0m\u001b[1;33m(\u001b[0m\u001b[0me\u001b[0m\u001b[1;33m,\u001b[0m \u001b[0mrequest\u001b[0m\u001b[1;33m=\u001b[0m\u001b[0mrequest\u001b[0m\u001b[1;33m)\u001b[0m\u001b[1;33m\u001b[0m\u001b[1;33m\u001b[0m\u001b[0m\n\u001b[0;32m    515\u001b[0m \u001b[1;33m\u001b[0m\u001b[0m\n\u001b[1;32m--> 516\u001b[1;33m             \u001b[1;32mraise\u001b[0m \u001b[0mConnectionError\u001b[0m\u001b[1;33m(\u001b[0m\u001b[0me\u001b[0m\u001b[1;33m,\u001b[0m \u001b[0mrequest\u001b[0m\u001b[1;33m=\u001b[0m\u001b[0mrequest\u001b[0m\u001b[1;33m)\u001b[0m\u001b[1;33m\u001b[0m\u001b[1;33m\u001b[0m\u001b[0m\n\u001b[0m\u001b[0;32m    517\u001b[0m \u001b[1;33m\u001b[0m\u001b[0m\n\u001b[0;32m    518\u001b[0m         \u001b[1;32mexcept\u001b[0m \u001b[0mClosedPoolError\u001b[0m \u001b[1;32mas\u001b[0m \u001b[0me\u001b[0m\u001b[1;33m:\u001b[0m\u001b[1;33m\u001b[0m\u001b[1;33m\u001b[0m\u001b[0m\n",
      "\u001b[1;31mConnectionError\u001b[0m: HTTPSConnectionPool(host='adsorption.nist.gov', port=443): Max retries exceeded with url: /isodb/api/isotherm/10.1021acs.jced.6b00209.Isotherm15.json (Caused by NewConnectionError('<urllib3.connection.VerifiedHTTPSConnection object at 0x0000025E2DB4E080>: Failed to establish a new connection: [WinError 10060] A connection attempt failed because the connected party did not properly respond after a period of time, or established connection failed because connected host has failed to respond'))"
     ]
    }
   ],
   "source": [
    "#Grabs each individual isotherm probably takes forever\n",
    "individual_isotherms = []\n",
    "for isotherm in experimental_isotherm:\n",
    "    filename = isotherm['filename']\n",
    "    url = \"https://adsorption.nist.gov/isodb/api/isotherm/\" + filename + \".json\"\n",
    "    bibliography = json.loads(requests.get(url).content)\n",
    "    individual_isotherms.append(bibliography)"
   ]
  },
  {
   "cell_type": "code",
   "execution_count": null,
   "metadata": {},
   "outputs": [],
   "source": []
  },
  {
   "cell_type": "code",
   "execution_count": null,
   "metadata": {},
   "outputs": [],
   "source": []
  }
 ],
 "metadata": {
  "kernelspec": {
   "display_name": "Python 3",
   "language": "python",
   "name": "python3"
  },
  "language_info": {
   "codemirror_mode": {
    "name": "ipython",
    "version": 3
   },
   "file_extension": ".py",
   "mimetype": "text/x-python",
   "name": "python",
   "nbconvert_exporter": "python",
   "pygments_lexer": "ipython3",
   "version": "3.7.3"
  }
 },
 "nbformat": 4,
 "nbformat_minor": 2
}
