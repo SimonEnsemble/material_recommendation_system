{
 "cells": [
  {
   "cell_type": "markdown",
   "metadata": {},
   "source": [
    "# Analyze adsorption isotherm anomalies"
   ]
  },
  {
   "cell_type": "code",
   "execution_count": 1,
   "metadata": {},
   "outputs": [],
   "source": [
    "import json\n",
    "import requests\n",
    "import numpy as np\n",
    "import pandas as pd\n",
    "import matplotlib.pyplot as plt\n",
    "import random\n",
    "import pprint\n",
    "import os\n",
    "import pygaps\n",
    "import scipy"
   ]
  },
  {
   "cell_type": "markdown",
   "metadata": {},
   "source": [
    "## Lets make a Python class for an adsorption isotherm"
   ]
  },
  {
   "cell_type": "markdown",
   "metadata": {},
   "source": [
    "### This is usually referred to as class-based Object-Oriented Programming (OOP). "
   ]
  },
  {
   "cell_type": "markdown",
   "metadata": {},
   "source": [
    "#### [Here](https://pythonprogramming.net/introduction-learn-python-3-tutorials/)'s a tutorial series on Python if you want to learn the basics, and [Here](https://pythonprogramming.net/introduction-intermediate-python-tutorial/)'s an intermediate Python tutorial if the basic one is too easy.\n",
    "\n",
    "#### More specifically, [This](https://pythonprogramming.net/object-oriented-programming-introduction-intermediate-python-tutorial/) is a tutorial on OOP in Python that I recommend, which introduces Classes"
   ]
  },
  {
   "cell_type": "code",
   "execution_count": 41,
   "metadata": {},
   "outputs": [],
   "source": [
    "class Isotherm:\n",
    "    # In Python classes, there is one required function you have to define, __init__ (for initialization)\n",
    "    def __init__(self, filename):\n",
    "        # This if-else sentence loads in the isotherm data. If you have extracted the isotherms into your directory, \n",
    "        #  you will load it directly, but if you haven't you'll have to download it from the NIST database.\n",
    "        if os.path.isfile('isotherms/' + filename + '.json'):\n",
    "            with open('isotherms/' + filename + '.json') as infile:\n",
    "                isotherm_data = json.load(infile)\n",
    "        else:\n",
    "            url = \"https://adsorption.nist.gov/isodb/api/isotherm/\" + filename + \".json\"\n",
    "            isotherm_data = json.loads(requests.get(url).content)\n",
    "\n",
    "        \n",
    "        self.filename = filename\n",
    "        self.doi = isotherm_data['DOI']\n",
    "        assert len(isotherm_data['adsorbates']) < 2\n",
    "        self.adsorbate = isotherm_data['adsorbates'][0]['name']\n",
    "        self.inchikey = isotherm_data['adsorbates'][0]['InChIKey']\n",
    "        self.adsorbent = isotherm_data['adsorbent']['name']\n",
    "        self.category = isotherm_data['category']\n",
    "        self.temperature = isotherm_data['temperature']\n",
    "        self.adsorptionUnits = isotherm_data['adsorptionUnits']\n",
    "        self.pressureUnits = isotherm_data['pressureUnits']\n",
    "        self.pressure = np.array([isotherm_data['isotherm_data'][i]['pressure'] for i in range(len(isotherm_data['isotherm_data']))])\n",
    "        self.adsorption = np.array([isotherm_data['isotherm_data'][i]['species_data'][0]['adsorption'] for i in range(len(isotherm_data['isotherm_data']))])\n",
    "        \n",
    "    # Lets define a few helper functions first\n",
    "    def _get_formula_from_inchikey(self):\n",
    "        # Usually if there's an underscore in front of a function name, \n",
    "        #  it's meant for internal use\n",
    "        url = \"https://adsorbents.nist.gov/isodb/api/gas/\" + self.inchikey + \".json\"\n",
    "        gas_data = json.loads(requests.get(url).content)\n",
    "        self.formula = gas_data['formula']\n",
    "    \n",
    "    def get_molecular_weight(self):\n",
    "        self._get_formula_from_inchikey()\n",
    "        # We will need to read in the atomic masses to compute the molecular weight (mw):\n",
    "        atomic_masses = pd.read_csv('atomicmasses.csv')\n",
    "        \n",
    "        # This splits the formula up into elements plus their frequency\n",
    "        start_i = 0\n",
    "        elements = []\n",
    "        for end_i, letter in enumerate(self.formula[1:], start=1):\n",
    "            if letter.isupper():\n",
    "                elements.append([start_i, end_i])\n",
    "                start_i = end_i\n",
    "        elements.append([start_i, len(self.formula)])\n",
    "\n",
    "        # This calculates the molecular weight of each type of element\n",
    "        self.mw = 0\n",
    "        for element in elements:\n",
    "            form = self.formula[element[0]:element[1]]\n",
    "            for i, letter in enumerate(form):\n",
    "                if letter.isdigit():\n",
    "                    element_mw = np.float(atomic_masses[atomic_masses.atom == form[:i]]['mass'])\n",
    "                    self.mw = self.mw + element_mw * np.int(form[i:])\n",
    "                    break\n",
    "                if form.isalpha():\n",
    "                    element_mw = np.float(atomic_masses[atomic_masses.atom == form]['mass'])\n",
    "                    self.mw = self.mw + element_mw\n",
    "                    break\n",
    "        return self.mw\n",
    "        \n",
    "    def convert_units(self):\n",
    "        # This will convert the pressure and adsorption to 'bar' and 'mmol/g', respectively, if needed\n",
    "        # Pressure Units:\n",
    "        assert self.pressureUnits == 'bar'\n",
    "\n",
    "        # Adsorption Units:\n",
    "        assert self.adsorptionUnits in ['cm3(STP)/g','g/g','mg/g','ml/g','mmol/g','mmol/kg','mol/g','wt%']\n",
    "\n",
    "        aConversion = 0.0\n",
    "        if self.adsorptionUnits == 'mmol/g':\n",
    "            aConversion = 1.0\n",
    "        elif self.adsorptionUnits == 'mmol/kg':\n",
    "            aConversion = 1.0 / 1000.0\n",
    "        elif self.adsorptionUnits == 'mol/g':\n",
    "            aConversion = 1000.0\n",
    "        elif self.adsorptionUnits in ['wt%', 'g/g']:\n",
    "            mw = self.get_molecular_weight()\n",
    "            aConversion = 1000.0 / mw\n",
    "        elif self.adsorptionUnits in ['ml/g', 'cm3(STP)/g']:\n",
    "            aConversion = 1.0 / 22.4\n",
    "        elif self.adsorptionUnits == 'mg/g':\n",
    "            mw = self.get_molecular_weight()\n",
    "            aConversion = 1.0 / mw\n",
    "        else:\n",
    "            raise Exception('Something went horribly wrong!')\n",
    "\n",
    "        self.adsorption = self.adsorption * aConversion\n",
    "        self.adsorptionUnits = 'mmol/g'\n",
    "        \n",
    "    def fit_henry_constant(self, max_adjrms, verbose):\n",
    "        # This will fit a Henry constant to the adsorption isotherm.\n",
    "        # `max_adjrms` is a parameter used for the fitting procedure. \n",
    "        #  The default value is 0.01, but we can play around with this.\n",
    "        # `verbose=True` will create a plot of the fit and give additional information\n",
    "        # If the adsorption units are not in 'mmol/g' and the pressure units are not in 'bar',\n",
    "        #  the assertion below will throw an error. Use `convert_units` to switch to the correct units\n",
    "        assert self.adsorptionUnits == 'mmol/g' and self.pressureUnits == 'bar'\n",
    "        isotherm = pygaps.PointIsotherm(\n",
    "            pressure=self.pressure,\n",
    "            loading=self.adsorption,\n",
    "            material_name=self.adsorbent,\n",
    "            material_batch='',\n",
    "            t_iso=self.temperature,\n",
    "            adsorbate=self.adsorbate)\n",
    "        try:\n",
    "            self.henry_constant = pygaps.initial_henry_slope(isotherm, max_adsrms=max_adjrms, logx=False, verbose=verbose)\n",
    "            return self.henry_constant\n",
    "        except Exception as e:\n",
    "            self.error = e\n",
    "            print('Fitting procedure failed! See `self.error` as to why...')\n",
    "            \n",
    "    def plot_isotherm(self):\n",
    "        pass"
   ]
  },
  {
   "cell_type": "code",
   "execution_count": 45,
   "metadata": {},
   "outputs": [
    {
     "name": "stdout",
     "output_type": "stream",
     "text": [
      "Calculated K = 31.185456013689347\n",
      "Starting points: 11\n",
      "Selected points: 2\n",
      "Final adjusted root mean square difference: 2.1088632454179186e-14\n"
     ]
    },
    {
     "data": {
      "image/png": "[encoded data removed]",
      "text/plain": [
       "<Figure size 576x576 with 1 Axes>"
      ]
     },
     "metadata": {
      "needs_background": "light"
     },
     "output_type": "display_data"
    },
    {
     "name": "stdout",
     "output_type": "stream",
     "text": [
      "Fitting procedure failed! See `self.error` for as to why...\n"
     ]
    }
   ],
   "source": [
    "myiso = Isotherm('10.1002adfm.200500561.Isotherm4')\n",
    "#print(myiso.adsorption)\n",
    "myiso.convert_units()\n",
    "#print(myiso.adsorption)\n",
    "henry1 = myiso.fit_henry_constant(0.01, True)\n",
    "myiso.pressure[0] = -10.4\n",
    "henry2 = myiso.fit_henry_constant(0.01, True)"
   ]
  },
  {
   "cell_type": "code",
   "execution_count": 46,
   "metadata": {},
   "outputs": [
    {
     "data": {
      "text/plain": [
       "ValueError('max() arg is an empty sequence')"
      ]
     },
     "execution_count": 46,
     "metadata": {},
     "output_type": "execute_result"
    }
   ],
   "source": [
    "myiso.error"
   ]
  },
  {
   "cell_type": "code",
   "execution_count": null,
   "metadata": {},
   "outputs": [],
   "source": []
  }
 ],
 "metadata": {
  "kernelspec": {
   "display_name": "Python 3",
   "language": "python",
   "name": "python3"
  },
  "language_info": {
   "codemirror_mode": {
    "name": "ipython",
    "version": 3
   },
   "file_extension": ".py",
   "mimetype": "text/x-python",
   "name": "python",
   "nbconvert_exporter": "python",
   "pygments_lexer": "ipython3",
   "version": "3.7.3"
  }
 },
 "nbformat": 4,
 "nbformat_minor": 2
}
