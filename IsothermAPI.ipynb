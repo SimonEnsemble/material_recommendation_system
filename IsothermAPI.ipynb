{
 "cells": [
  {
   "cell_type": "markdown",
   "metadata": {},
   "source": [
    "# Analyze adsorption isotherm anomalies"
   ]
  },
  {
   "cell_type": "code",
   "execution_count": 8,
   "metadata": {},
   "outputs": [],
   "source": [
    "import json\n",
    "import requests\n",
    "import numpy as np\n",
    "import pandas as pd\n",
    "import matplotlib.pyplot as plt\n",
    "import random\n",
    "import pprint\n",
    "import os\n",
    "import pygaps\n",
    "import scipy"
   ]
  },
  {
   "cell_type": "markdown",
   "metadata": {},
   "source": [
    "## Lets make a Python class for an adsorption isotherm"
   ]
  },
  {
   "cell_type": "markdown",
   "metadata": {},
   "source": [
    "### This is usually referred to as class-based Object-Oriented Programming (OOP). "
   ]
  },
  {
   "cell_type": "markdown",
   "metadata": {},
   "source": [
    "#### [Here](https://pythonprogramming.net/introduction-learn-python-3-tutorials/)'s a tutorial series on Python if you want to learn the basics, and [Here](https://pythonprogramming.net/introduction-intermediate-python-tutorial/)'s an intermediate Python tutorial if the basic one is too easy.\n",
    "\n",
    "#### More specifically, [This](https://pythonprogramming.net/object-oriented-programming-introduction-intermediate-python-tutorial/) is a tutorial on OOP in Python that I recommend, which introduces Classes"
   ]
  },
  {
   "cell_type": "code",
   "execution_count": 94,
   "metadata": {},
   "outputs": [],
   "source": [
    "class Isotherm:\n",
    "    # In Python classes, there is one required function you have to define, __init__ (for initialization)\n",
    "    def __init__(self, filename):\n",
    "        # This if-else sentence loads in the isotherm data. If you have extracted the isotherms into your directory, \n",
    "        #  you will load it directly, but if you haven't you'll have to download it from the NIST database.\n",
    "        if os.path.isfile('isotherms/' + filename + '.json'):\n",
    "            with open('isotherms/' + filename + '.json') as infile:\n",
    "                isotherm_data = json.load(infile)\n",
    "        else:\n",
    "            url = \"https://adsorption.nist.gov/isodb/api/isotherm/\" + filename + \".json\"\n",
    "            isotherm_data = json.loads(requests.get(url).content)\n",
    "\n",
    "        \n",
    "        self.filename = filename\n",
    "        self.doi = isotherm_data['DOI']\n",
    "        assert len(isotherm_data['adsorbates']) < 2\n",
    "        self.adsorbate = isotherm_data['adsorbates'][0]['name']\n",
    "        self.inchikey = isotherm_data['adsorbates'][0]['InChIKey']\n",
    "        self.adsorbent = isotherm_data['adsorbent']['name']\n",
    "        self.category = isotherm_data['category']\n",
    "        self.temperature = isotherm_data['temperature']\n",
    "        self.adsorptionUnits = isotherm_data['adsorptionUnits']\n",
    "        self.pressureUnits = isotherm_data['pressureUnits']\n",
    "        self.pressure = np.array([isotherm_data['isotherm_data'][i]['pressure'] for i in range(len(isotherm_data['isotherm_data']))])\n",
    "        self.adsorption = np.array([isotherm_data['isotherm_data'][i]['species_data'][0]['adsorption'] for i in range(len(isotherm_data['isotherm_data']))])\n",
    "        self.henry_constant = None\n",
    "        \n",
    "    # Lets define a few helper functions first\n",
    "    def _get_formula_from_inchikey(self):\n",
    "        # Usually if there's an underscore in front of a function name, \n",
    "        #  it's meant for internal use\n",
    "        url = \"https://adsorbents.nist.gov/isodb/api/gas/\" + self.inchikey + \".json\"\n",
    "        gas_data = json.loads(requests.get(url).content)\n",
    "        self.formula = gas_data['formula']\n",
    "    \n",
    "    def get_molecular_weight(self):\n",
    "        self._get_formula_from_inchikey()\n",
    "        # We will need to read in the atomic masses to compute the molecular weight (mw):\n",
    "        atomic_masses = pd.read_csv('data/atomicmasses.csv')\n",
    "        \n",
    "        # This splits the formula up into elements plus their frequency\n",
    "        start_i = 0\n",
    "        elements = []\n",
    "        for end_i, letter in enumerate(self.formula[1:], start=1):\n",
    "            if letter.isupper():\n",
    "                elements.append([start_i, end_i])\n",
    "                start_i = end_i\n",
    "        elements.append([start_i, len(self.formula)])\n",
    "\n",
    "        # This calculates the molecular weight of each type of element\n",
    "        self.mw = 0\n",
    "        for element in elements:\n",
    "            form = self.formula[element[0]:element[1]]\n",
    "            for i, letter in enumerate(form):\n",
    "                if letter.isdigit():\n",
    "                    element_mw = np.float(atomic_masses[atomic_masses.atom == form[:i]]['mass'])\n",
    "                    self.mw = self.mw + element_mw * np.int(form[i:])\n",
    "                    break\n",
    "                if form.isalpha():\n",
    "                    element_mw = np.float(atomic_masses[atomic_masses.atom == form]['mass'])\n",
    "                    self.mw = self.mw + element_mw\n",
    "                    break\n",
    "        return self.mw\n",
    "        \n",
    "    def convert_units(self):\n",
    "        # This will convert the pressure and adsorption to 'bar' and 'mmol/g', respectively, if needed\n",
    "        # Pressure Units:\n",
    "        assert self.pressureUnits == 'bar'\n",
    "\n",
    "        # Adsorption Units:\n",
    "        assert self.adsorptionUnits in ['cm3(STP)/g','g/g','mg/g','ml/g','mmol/g','mmol/kg','mol/g','wt%']\n",
    "\n",
    "        aConversion = 0.0\n",
    "        if self.adsorptionUnits == 'mmol/g':\n",
    "            aConversion = 1.0\n",
    "        elif self.adsorptionUnits == 'mmol/kg':\n",
    "            aConversion = 1.0 / 1000.0\n",
    "        elif self.adsorptionUnits == 'mol/g':\n",
    "            aConversion = 1000.0\n",
    "        elif self.adsorptionUnits in ['wt%', 'g/g']:\n",
    "            mw = self.get_molecular_weight()\n",
    "            aConversion = 1000.0 / mw\n",
    "        elif self.adsorptionUnits in ['ml/g', 'cm3(STP)/g']:\n",
    "            aConversion = 1.0 / 22.4\n",
    "        elif self.adsorptionUnits == 'mg/g':\n",
    "            mw = self.get_molecular_weight()\n",
    "            aConversion = 1.0 / mw\n",
    "        else:\n",
    "            raise Exception('Something went horribly wrong!')\n",
    "\n",
    "        self.adsorption = self.adsorption * aConversion\n",
    "        self.adsorptionUnits = 'mmol/g'\n",
    "        \n",
    "    def fit_henry_constant(self, max_adjrms, verbose):\n",
    "        # This will fit a Henry constant to the adsorption isotherm.\n",
    "        # `max_adjrms` is a parameter used for the fitting procedure. \n",
    "        #  The default value is 0.01, but we can play around with this.\n",
    "        # `verbose=True` will create a plot of the fit and give additional information\n",
    "        # If the adsorption units are not in 'mmol/g' and the pressure units are not in 'bar',\n",
    "        #  the assertion below will throw an error. Use `convert_units` to switch to the correct units\n",
    "        assert self.adsorptionUnits == 'mmol/g' and self.pressureUnits == 'bar'\n",
    "        isotherm = pygaps.PointIsotherm(\n",
    "            pressure=self.pressure,\n",
    "            loading=self.adsorption,\n",
    "            material_name=self.adsorbent,\n",
    "            material_batch='',\n",
    "            t_iso=self.temperature,\n",
    "            adsorbate=self.adsorbate)\n",
    "        try:\n",
    "            self.henry_constant = pygaps.initial_henry_slope(isotherm, max_adjrms, logx=False, verbose=verbose)\n",
    "            return self.henry_constant\n",
    "        except Exception as e:\n",
    "            self.error = e\n",
    "            print('Fitting procedure failed! See `self.error` as to why...')\n",
    "            \n",
    "    # Need to write this function\n",
    "    def plot_isotherm(self):\n",
    "        fig = plt.figure(figsize=(8,6))\n",
    "        bad_datapoints = self.pressure[self.pressure < 0]\n",
    "        good_datapoints = self.pressure[self.pressure >= 0]\n",
    "        plt.scatter(self.pressure, self.adsorption, marker='o', label='Experimental')\n",
    "        if self.henry_constant:\n",
    "            plt.plot([0, self.pressure[-1]], [0, self.pressure[-1] * self.henry_constant], color='red', label=\"Henry's Law\")\n",
    "        plt.xlabel('Pressure [{}]'.format(self.pressureUnits))\n",
    "        plt.ylabel('Adsorption [{}]'.format(self.adsorptionUnits))\n",
    "        plt.ylim([-0.2*self.adsorption[-1], self.adsorption[-1] * 1.2])\n",
    "        plt.legend()\n",
    "        plt.show()\n",
    "        "
   ]
  },
  {
   "cell_type": "code",
   "execution_count": 95,
   "metadata": {},
   "outputs": [
    {
     "data": {
      "text/html": [
       "<div>\n",
       "<style scoped>\n",
       "    .dataframe tbody tr th:only-of-type {\n",
       "        vertical-align: middle;\n",
       "    }\n",
       "\n",
       "    .dataframe tbody tr th {\n",
       "        vertical-align: top;\n",
       "    }\n",
       "\n",
       "    .dataframe thead th {\n",
       "        text-align: right;\n",
       "    }\n",
       "</style>\n",
       "<table border=\"1\" class=\"dataframe\">\n",
       "  <thead>\n",
       "    <tr style=\"text-align: right;\">\n",
       "      <th></th>\n",
       "      <th>Unnamed: 0</th>\n",
       "      <th>gas</th>\n",
       "      <th>material</th>\n",
       "      <th>henry_constant</th>\n",
       "      <th>filename</th>\n",
       "      <th>ok</th>\n",
       "    </tr>\n",
       "  </thead>\n",
       "  <tbody>\n",
       "    <tr>\n",
       "      <th>0</th>\n",
       "      <td>961</td>\n",
       "      <td>UGFAIRIUMAVXCW-UHFFFAOYSA-N</td>\n",
       "      <td>NIST-MATDB-991daf7313251e7e607e2bab2da57e33</td>\n",
       "      <td>6.401857e+13</td>\n",
       "      <td>10.1016j.micromeso.2012.02.034.Isotherm2</td>\n",
       "      <td>True</td>\n",
       "    </tr>\n",
       "    <tr>\n",
       "      <th>1</th>\n",
       "      <td>1560</td>\n",
       "      <td>VNWKTOKETHGBQD-UHFFFAOYSA-N</td>\n",
       "      <td>NIST-MATDB-bbd809480ca8c8d0e4d066e70a9719d1</td>\n",
       "      <td>3.662595e+09</td>\n",
       "      <td>10.1016j.fluid.2014.08.020.Isotherm3</td>\n",
       "      <td>True</td>\n",
       "    </tr>\n",
       "    <tr>\n",
       "      <th>2</th>\n",
       "      <td>1190</td>\n",
       "      <td>VNWKTOKETHGBQD-UHFFFAOYSA-N</td>\n",
       "      <td>NIST-MATDB-2c9380bddc59f547484ff729eab7d7cb</td>\n",
       "      <td>2.593508e+09</td>\n",
       "      <td>10.1016j.fluid.2014.08.020.Isotherm2</td>\n",
       "      <td>True</td>\n",
       "    </tr>\n",
       "    <tr>\n",
       "      <th>3</th>\n",
       "      <td>1191</td>\n",
       "      <td>VNWKTOKETHGBQD-UHFFFAOYSA-N</td>\n",
       "      <td>NIST-MATDB-2c9380bddc59f547484ff729eab7d7cb</td>\n",
       "      <td>2.485209e+09</td>\n",
       "      <td>10.1016j.fluid.2014.08.020.Isotherm1</td>\n",
       "      <td>True</td>\n",
       "    </tr>\n",
       "    <tr>\n",
       "      <th>4</th>\n",
       "      <td>1847</td>\n",
       "      <td>HSFWRNGVRCDJHI-UHFFFAOYSA-N</td>\n",
       "      <td>NIST-MATDB-297c8ffe0f482757db45335130e02770</td>\n",
       "      <td>3.377586e+08</td>\n",
       "      <td>10.1007s11224-012-0120-1.isotherm35</td>\n",
       "      <td>True</td>\n",
       "    </tr>\n",
       "    <tr>\n",
       "      <th>5</th>\n",
       "      <td>1821</td>\n",
       "      <td>HSFWRNGVRCDJHI-UHFFFAOYSA-N</td>\n",
       "      <td>NIST-MATDB-1733c0f5ae26290495f099f06d0dd880</td>\n",
       "      <td>1.527369e+08</td>\n",
       "      <td>10.1007s11224-012-0120-1.isotherm36</td>\n",
       "      <td>True</td>\n",
       "    </tr>\n",
       "    <tr>\n",
       "      <th>6</th>\n",
       "      <td>1849</td>\n",
       "      <td>HSFWRNGVRCDJHI-UHFFFAOYSA-N</td>\n",
       "      <td>NIST-MATDB-297c8ffe0f482757db45335130e02770</td>\n",
       "      <td>9.760917e+06</td>\n",
       "      <td>10.1007s11224-012-0120-1.isotherm32</td>\n",
       "      <td>True</td>\n",
       "    </tr>\n",
       "    <tr>\n",
       "      <th>7</th>\n",
       "      <td>1822</td>\n",
       "      <td>HSFWRNGVRCDJHI-UHFFFAOYSA-N</td>\n",
       "      <td>NIST-MATDB-1733c0f5ae26290495f099f06d0dd880</td>\n",
       "      <td>9.610024e+06</td>\n",
       "      <td>10.1007s11224-012-0120-1.isotherm34</td>\n",
       "      <td>True</td>\n",
       "    </tr>\n",
       "    <tr>\n",
       "      <th>8</th>\n",
       "      <td>1848</td>\n",
       "      <td>HSFWRNGVRCDJHI-UHFFFAOYSA-N</td>\n",
       "      <td>NIST-MATDB-297c8ffe0f482757db45335130e02770</td>\n",
       "      <td>9.362430e+06</td>\n",
       "      <td>10.1007s11224-012-0120-1.isotherm33</td>\n",
       "      <td>True</td>\n",
       "    </tr>\n",
       "    <tr>\n",
       "      <th>9</th>\n",
       "      <td>1823</td>\n",
       "      <td>HSFWRNGVRCDJHI-UHFFFAOYSA-N</td>\n",
       "      <td>NIST-MATDB-1733c0f5ae26290495f099f06d0dd880</td>\n",
       "      <td>8.959582e+06</td>\n",
       "      <td>10.1007s11224-012-0120-1.isotherm31</td>\n",
       "      <td>True</td>\n",
       "    </tr>\n",
       "  </tbody>\n",
       "</table>\n",
       "</div>"
      ],
      "text/plain": [
       "   Unnamed: 0                          gas  \\\n",
       "0         961  UGFAIRIUMAVXCW-UHFFFAOYSA-N   \n",
       "1        1560  VNWKTOKETHGBQD-UHFFFAOYSA-N   \n",
       "2        1190  VNWKTOKETHGBQD-UHFFFAOYSA-N   \n",
       "3        1191  VNWKTOKETHGBQD-UHFFFAOYSA-N   \n",
       "4        1847  HSFWRNGVRCDJHI-UHFFFAOYSA-N   \n",
       "5        1821  HSFWRNGVRCDJHI-UHFFFAOYSA-N   \n",
       "6        1849  HSFWRNGVRCDJHI-UHFFFAOYSA-N   \n",
       "7        1822  HSFWRNGVRCDJHI-UHFFFAOYSA-N   \n",
       "8        1848  HSFWRNGVRCDJHI-UHFFFAOYSA-N   \n",
       "9        1823  HSFWRNGVRCDJHI-UHFFFAOYSA-N   \n",
       "\n",
       "                                      material  henry_constant  \\\n",
       "0  NIST-MATDB-991daf7313251e7e607e2bab2da57e33    6.401857e+13   \n",
       "1  NIST-MATDB-bbd809480ca8c8d0e4d066e70a9719d1    3.662595e+09   \n",
       "2  NIST-MATDB-2c9380bddc59f547484ff729eab7d7cb    2.593508e+09   \n",
       "3  NIST-MATDB-2c9380bddc59f547484ff729eab7d7cb    2.485209e+09   \n",
       "4  NIST-MATDB-297c8ffe0f482757db45335130e02770    3.377586e+08   \n",
       "5  NIST-MATDB-1733c0f5ae26290495f099f06d0dd880    1.527369e+08   \n",
       "6  NIST-MATDB-297c8ffe0f482757db45335130e02770    9.760917e+06   \n",
       "7  NIST-MATDB-1733c0f5ae26290495f099f06d0dd880    9.610024e+06   \n",
       "8  NIST-MATDB-297c8ffe0f482757db45335130e02770    9.362430e+06   \n",
       "9  NIST-MATDB-1733c0f5ae26290495f099f06d0dd880    8.959582e+06   \n",
       "\n",
       "                                   filename    ok  \n",
       "0  10.1016j.micromeso.2012.02.034.Isotherm2  True  \n",
       "1      10.1016j.fluid.2014.08.020.Isotherm3  True  \n",
       "2      10.1016j.fluid.2014.08.020.Isotherm2  True  \n",
       "3      10.1016j.fluid.2014.08.020.Isotherm1  True  \n",
       "4       10.1007s11224-012-0120-1.isotherm35  True  \n",
       "5       10.1007s11224-012-0120-1.isotherm36  True  \n",
       "6       10.1007s11224-012-0120-1.isotherm32  True  \n",
       "7       10.1007s11224-012-0120-1.isotherm34  True  \n",
       "8       10.1007s11224-012-0120-1.isotherm33  True  \n",
       "9       10.1007s11224-012-0120-1.isotherm31  True  "
      ]
     },
     "execution_count": 95,
     "metadata": {},
     "output_type": "execute_result"
    }
   ],
   "source": [
    "isotherm_df = pd.read_csv('data/list_of_high_isotherms.csv')\n",
    "isotherm_df.head(10)"
   ]
  },
  {
   "cell_type": "code",
   "execution_count": 96,
   "metadata": {},
   "outputs": [
    {
     "data": {
      "image/png": "[encoded data removed]",
      "text/plain": [
       "<Figure size 576x432 with 1 Axes>"
      ]
     },
     "metadata": {
      "needs_background": "light"
     },
     "output_type": "display_data"
    }
   ],
   "source": [
    "myiso = Isotherm('10.1002adfm.200500561.Isotherm4')\n",
    "#print(myiso.adsorption)\n",
    "myiso.convert_units()\n",
    "#print(myiso.adsorption)\n",
    "henry1 = myiso.fit_henry_constant(0.01, False)\n",
    "#myiso.pressure[0] = -10.4\n",
    "#henry2 = myiso.fit_henry_constant(0.01, True)\n",
    "myiso.plot_isotherm()"
   ]
  },
  {
   "cell_type": "code",
   "execution_count": 97,
   "metadata": {},
   "outputs": [
    {
     "data": {
      "image/png": "[encoded data removed]",
      "text/plain": [
       "<Figure size 576x432 with 1 Axes>"
      ]
     },
     "metadata": {
      "needs_background": "light"
     },
     "output_type": "display_data"
    }
   ],
   "source": [
    "myiso = Isotherm('10.1002adfm.200500561.Isotherm4')\n",
    "myiso.convert_units()\n",
    "myiso.fit_henry_constant(20, False)\n",
    "myiso.plot_isotherm()"
   ]
  },
  {
   "cell_type": "code",
   "execution_count": 89,
   "metadata": {},
   "outputs": [
    {
     "data": {
      "text/plain": [
       "array([  9.68857273,   0.31041084,  10.14951287,  29.76184098,\n",
       "        30.09107685,  79.17385956,  99.40671072, 134.06948826,\n",
       "       149.05351509, 168.7977459 ])"
      ]
     },
     "execution_count": 89,
     "metadata": {},
     "output_type": "execute_result"
    }
   ],
   "source": [
    "myiso.adsorption"
   ]
  },
  {
   "cell_type": "code",
   "execution_count": 21,
   "metadata": {},
   "outputs": [],
   "source": [
    "import matplotlib.pyplot as plt\n",
    "import numpy as np"
   ]
  },
  {
   "cell_type": "code",
   "execution_count": 37,
   "metadata": {},
   "outputs": [
    {
     "data": {
      "image/png": "[encoded data removed]",
      "text/plain": [
       "<Figure size 576x432 with 1 Axes>"
      ]
     },
     "metadata": {
      "needs_background": "light"
     },
     "output_type": "display_data"
    }
   ],
   "source": [
    "def plot_my_isotherm(pressure, adsorption, henry_coeff):\n",
    "    fig = plt.figure(figsize = (8, 6))\n",
    "    plt.scatter(pressure, adsorption, label='Experimental')\n",
    "    plt.plot([0, pressure[-1]],[0, pressure[-1]*henry_coeff], color='red', label=\"Henry's Law\")\n",
    "    plt.ylim([-2, adsorption[-1]*1.2])\n",
    "    plt.xlabel('Pressure [bar]')\n",
    "    plt.ylabel('Loading [mmol/g]')\n",
    "    plt.legend()\n",
    "    plt.tight_layout()\n",
    "    plt.show()\n",
    "plot_my_isotherm(myiso.pressure, myiso.adsorption, 31.18545601368934)"
   ]
  },
  {
   "cell_type": "code",
   "execution_count": 5,
   "metadata": {},
   "outputs": [
    {
     "data": {
      "text/plain": [
       "[<matplotlib.lines.Line2D at 0x24e1b1aeeb8>]"
      ]
     },
     "execution_count": 5,
     "metadata": {},
     "output_type": "execute_result"
    },
    {
     "data": {
      "image/png": "[encoded data removed]",
      "text/plain": [
       "<Figure size 432x288 with 1 Axes>"
      ]
     },
     "metadata": {
      "needs_background": "light"
     },
     "output_type": "display_data"
    }
   ],
   "source": [
    "fig = plt.figure()\n",
    "plt.plot([],[])\n",
    "#plt.show()"
   ]
  },
  {
   "cell_type": "code",
   "execution_count": 28,
   "metadata": {},
   "outputs": [
    {
     "data": {
      "text/plain": [
       "'Hydrogen'"
      ]
     },
     "execution_count": 28,
     "metadata": {},
     "output_type": "execute_result"
    }
   ],
   "source": [
    "myiso.adsorbate"
   ]
  },
  {
   "cell_type": "code",
   "execution_count": 29,
   "metadata": {},
   "outputs": [
    {
     "data": {
      "text/plain": [
       "'IRMOF-1'"
      ]
     },
     "execution_count": 29,
     "metadata": {},
     "output_type": "execute_result"
    }
   ],
   "source": [
    "myiso.adsorbent"
   ]
  },
  {
   "cell_type": "code",
   "execution_count": 30,
   "metadata": {},
   "outputs": [
    {
     "data": {
      "text/plain": [
       "298"
      ]
     },
     "execution_count": 30,
     "metadata": {},
     "output_type": "execute_result"
    }
   ],
   "source": [
    "myiso.temperature"
   ]
  },
  {
   "cell_type": "code",
   "execution_count": null,
   "metadata": {},
   "outputs": [],
   "source": []
  }
 ],
 "metadata": {
  "kernelspec": {
   "display_name": "Python 3",
   "language": "python",
   "name": "python3"
  },
  "language_info": {
   "codemirror_mode": {
    "name": "ipython",
    "version": 3
   },
   "file_extension": ".py",
   "mimetype": "text/x-python",
   "name": "python",
   "nbconvert_exporter": "python",
   "pygments_lexer": "ipython3",
   "version": "3.6.5"
  }
 },
 "nbformat": 4,
 "nbformat_minor": 2
}
