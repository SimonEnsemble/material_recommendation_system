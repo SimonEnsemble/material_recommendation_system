{
 "cells": [
  {
   "cell_type": "code",
   "execution_count": 1,
   "metadata": {},
   "outputs": [],
   "source": [
    "using CSV\n",
    "using DataFrames\n",
    "using Printf\n",
    "using LinearAlgebra\n",
    "using Statistics\n",
    "using PyPlot\n",
    "using PorousMaterials: fit_adsorption_isotherm, read_atomic_masses\n",
    "using LaTeXStrings\n",
    "using ProgressMeter\n",
    "using HTTP\n",
    "using JSON"
   ]
  },
  {
   "cell_type": "markdown",
   "metadata": {},
   "source": [
    "## Lets start by loading in information from the NIST DB"
   ]
  },
  {
   "cell_type": "code",
   "execution_count": 2,
   "metadata": {},
   "outputs": [
    {
     "data": {
      "text/plain": [
       "\"https://adsorption.nist.gov\""
      ]
     },
     "execution_count": 2,
     "metadata": {},
     "output_type": "execute_result"
    }
   ],
   "source": [
    "host = \"https://adsorption.nist.gov\""
   ]
  },
  {
   "cell_type": "markdown",
   "metadata": {},
   "source": [
    "### Gases:"
   ]
  },
  {
   "cell_type": "code",
   "execution_count": 3,
   "metadata": {},
   "outputs": [],
   "source": [
    "url = host * \"/isodb/api/gases.json\"\n",
    "r = HTTP.request(\"POST\", url)\n",
    "gas_data = JSON.parse(String(r.body))\n",
    "key_to_gas = Dict{AbstractString, AbstractString}()\n",
    "for gas in gas_data\n",
    "    key_to_gas[gas[\"InChIKey\"]] = gas[\"name\"]\n",
    "end"
   ]
  },
  {
   "cell_type": "markdown",
   "metadata": {},
   "source": [
    "### Porous Materials"
   ]
  },
  {
   "cell_type": "code",
   "execution_count": 4,
   "metadata": {},
   "outputs": [],
   "source": [
    "url = host * \"/isodb/api/materials.json\"\n",
    "r = HTTP.request(\"POST\", url)\n",
    "material_data = JSON.parse(String(r.body))\n",
    "key_to_material = Dict{AbstractString, AbstractString}()\n",
    "for material in material_data\n",
    "    key_to_material[material[\"hashkey\"]] = material[\"name\"]\n",
    "end"
   ]
  },
  {
   "cell_type": "code",
   "execution_count": 5,
   "metadata": {},
   "outputs": [],
   "source": [
    "master_list_of_gases = collect(values(key_to_gas));\n",
    "master_list_of_materials = collect(values(key_to_material));"
   ]
  },
  {
   "cell_type": "markdown",
   "metadata": {},
   "source": [
    "#### Plenty of materials/gases will be removed or merged due to:\n",
    "* Not being experimental\n",
    "* Not being within our temperature range (293K - 303K)\n",
    "* Having incompatable units (we only accept units from the following list: [cm3(STP)/g, g/g, mg/g, ml/g, mmol/g, mmol/kg, mol/g, wt%]\n",
    "* Having more than one adsorbate\n",
    "* Not having enough unique isotherms (see further details below)\n",
    "* Failure in fitting functions\n",
    "* And more depending on validity and fitting functions"
   ]
  },
  {
   "cell_type": "markdown",
   "metadata": {},
   "source": [
    "### Lets load in all of the isotherms we have in the `isotherms` directory. If that directory does not exist, we will download the data from the NIST DB and save it"
   ]
  },
  {
   "cell_type": "code",
   "execution_count": 6,
   "metadata": {},
   "outputs": [],
   "source": [
    "isotherm_directory = \"isotherms\"\n",
    "isotherm_dictionary = Dict{AbstractString, Dict{AbstractString, Array{AbstractString, 1}}}()\n",
    "\n",
    "url = host * \"/isodb/api/isotherms.json\"\n",
    "r = HTTP.request(\"POST\", url)\n",
    "isotherm_data = JSON.parse(String(r.body))\n",
    "\n",
    "# This will download all isotherms from the NIST DB if the directory `isotherms` does not exist.\n",
    "# In the Github repo we have provided both a zipped `isotherms` directory and a tarball containing the `isotherms` directory\n",
    "if !isdir(joinpath(pwd(), isotherm_directory))\n",
    "    @printf(\"Directory does not exist.\\nStarting a long downloading process (roughly 3 hours)\\n\")\n",
    "    mkdir(joinpath(pwd(), isotherm_directory))\n",
    "    p = Progress(length(isotherm_data))\n",
    "    for isotherm in isotherm_data\n",
    "        url = host * \"/isodb/api/isotherm/\" * isotherm[\"filename\"] * \".json\"\n",
    "        r = HTTP.request(\"POST\", url)\n",
    "        bibliography = JSON.parse(String(r.body))\n",
    "        open(joinpath(pwd(), isotherm_directory, isotherm[\"filename\"] * \".json\"), \"w\") do file\n",
    "            print(file, JSON.json(bibliography))\n",
    "        end\n",
    "        ProgressMeter.next!(p)\n",
    "    end\n",
    "end\n",
    "\n",
    "for isotherm in isotherm_data\n",
    "    gas = key_to_gas[isotherm[\"adsorbates\"][1][\"InChIKey\"]]\n",
    "    @assert gas in master_list_of_gases\n",
    "    material = key_to_material[isotherm[\"adsorbent\"][\"hashkey\"]]\n",
    "    @assert material in master_list_of_materials\n",
    "    \n",
    "    if !haskey(isotherm_dictionary, gas)\n",
    "        isotherm_dictionary[gas] = Dict{AbstractString, Array{AbstractString, 1}}()\n",
    "    end\n",
    "    if !haskey(isotherm_dictionary[gas], material)\n",
    "        isotherm_dictionary[gas][material] = Array{AbstractString, 1}()\n",
    "    end\n",
    "    push!(isotherm_dictionary[gas][material], isotherm[\"filename\"])\n",
    "end"
   ]
  },
  {
   "cell_type": "markdown",
   "metadata": {},
   "source": [
    "### Let's create fitting functions, validity functions and a few helper functions\n",
    "The <i>validity functions</i> will make sure the isotherms have the valid units, are within valid temperature range etc.</br>\n",
    "The <i>fitting functions</i> take in the isotherm filenames from the validity functions and compute the Henry coefficient of the isotherms, interpolate the adsorption at a specific pressure etc.</br>"
   ]
  },
  {
   "cell_type": "markdown",
   "metadata": {},
   "source": [
    "## Helper functions"
   ]
  },
  {
   "cell_type": "markdown",
   "metadata": {},
   "source": [
    "#### For the fitting procedures we need consistent units, so lets create a few helper functions that we'll use to convert the adsorption units to <b>mmol/g</b> (the pressure units are always <b>bar</b>)</br>\n",
    "#### First we need to be able to compute the molecular weight of the adsorbates. To do that we'll read in the gas data and store the chemical formula of all gases. We'll also need the atomic weight of every element"
   ]
  },
  {
   "cell_type": "code",
   "execution_count": 7,
   "metadata": {},
   "outputs": [
    {
     "data": {
      "text/plain": [
       "Dict{Symbol,Float64} with 100 entries:\n",
       "  :Xe__    => 131.293\n",
       "  :Cl      => 35.453\n",
       "  :Al      => 26.9815\n",
       "  :Be      => 9.01218\n",
       "  :Re      => 186.207\n",
       "  :O_RCOO  => 15.9994\n",
       "  :Cr      => 51.996\n",
       "  :Na      => 22.9898\n",
       "  :N_in_N2 => 14.0067\n",
       "  :VOID    => 0.0\n",
       "  :Sb      => 121.76\n",
       "  :Kr      => 83.798\n",
       "  :Ni      => 58.6934\n",
       "  :S       => 32.065\n",
       "  :CH4     => 16.04\n",
       "  :O_zeo   => 15.9994\n",
       "  :Ru      => 101.07\n",
       "  :Tm      => 168.934\n",
       "  :C_sp3   => 12.0107\n",
       "  :Xe_     => 131.293\n",
       "  :Nd      => 144.242\n",
       "  :O       => 15.9994\n",
       "  :Tb      => 158.925\n",
       "  :Th      => 232.038\n",
       "  :Zr      => 91.224\n",
       "  ⋮        => ⋮"
      ]
     },
     "execution_count": 7,
     "metadata": {},
     "output_type": "execute_result"
    }
   ],
   "source": [
    "gas_to_formula = Dict{AbstractString, AbstractString}()\n",
    "for gas in master_list_of_gases\n",
    "    url = host * \"/isodb/api/gas/\" * gas * \".json\"\n",
    "    url = replace(url, \" \" => \"%20\")\n",
    "    r = HTTP.request(\"POST\", url)\n",
    "    gas_data = JSON.parse(String(r.body))\n",
    "    gas_to_formula[gas] = gas_data[\"formula\"]\n",
    "end\n",
    "\n",
    "atomic_masses = read_atomic_masses()"
   ]
  },
  {
   "cell_type": "code",
   "execution_count": 8,
   "metadata": {},
   "outputs": [
    {
     "data": {
      "text/plain": [
       "32.04186"
      ]
     },
     "execution_count": 8,
     "metadata": {},
     "output_type": "execute_result"
    }
   ],
   "source": [
    "function formula_to_mw(formula::AbstractString)\n",
    "    start_i = 1\n",
    "    elements = []\n",
    "    for (end_i, letter) in enumerate(formula)\n",
    "        if end_i == 1\n",
    "            continue\n",
    "        end\n",
    "        if isuppercase(letter)\n",
    "            push!(elements, [start_i, end_i-1])\n",
    "            start_i = end_i\n",
    "        end\n",
    "    end\n",
    "    push!(elements, [start_i, length(formula)])\n",
    "    \n",
    "    total_mw = 0\n",
    "    for element in elements\n",
    "        form = formula[element[1]:element[2]]\n",
    "        contains_digits = any(isdigit(c) for c in form)\n",
    "        if contains_digits\n",
    "            for (i, letter) in enumerate(form)\n",
    "                if isdigit(letter)\n",
    "                    element_mw = atomic_masses[Symbol(form[1:i-1])]\n",
    "                    total_mw += element_mw * parse(Int, form[i:end])\n",
    "                    break\n",
    "                end\n",
    "            end\n",
    "        else\n",
    "            element_mw = atomic_masses[Symbol(form)]\n",
    "            total_mw += element_mw\n",
    "        end\n",
    "    end\n",
    "    return total_mw\n",
    "end\n",
    "formula_to_mw(\"CH3OH\")"
   ]
  },
  {
   "cell_type": "code",
   "execution_count": 9,
   "metadata": {},
   "outputs": [
    {
     "data": {
      "text/plain": [
       "Dict{String,Any} with 15 entries:\n",
       "  \"isotherm_data\"      => Any[Dict{String,Any}(\"pressure\"=>0.0171192,\"total_ads…\n",
       "  \"temperature\"        => 77\n",
       "  \"articleSource\"      => \"UNKNOWN\"\n",
       "  \"compositionType\"    => \"molefraction\"\n",
       "  \"adsorbates\"         => Any[Dict{String,Any}(\"name\"=>\"Hydrogen\",\"InChIKey\"=>\"…\n",
       "  \"adsorptionUnits\"    => \"cm3(STP)/g\"\n",
       "  \"date\"               => \"1000-01-01\"\n",
       "  \"category\"           => \"\"\n",
       "  \"digitizer\"          => \"UNKNOWN\"\n",
       "  \"pressureUnits\"      => \"bar\"\n",
       "  \"DOI\"                => \"10.1002/adem.200500223\"\n",
       "  \"adsorbent\"          => Dict{String,Any}(\"name\"=>\"CuBTC\",\"hashkey\"=>\"NIST-MAT…\n",
       "  \"concentrationUnits\" => \"\"\n",
       "  \"filename\"           => \"10.1002adem.200500223.isotherm1\"\n",
       "  \"isotherm_type\"      => \"\""
      ]
     },
     "execution_count": 9,
     "metadata": {},
     "output_type": "execute_result"
    }
   ],
   "source": [
    "function read_isotherm(isotherm_filename::AbstractString)\n",
    "    isotherm = Dict{AbstractString, Any}()\n",
    "    open(\"isotherms/\" * isotherm_filename * \".json\") do isotherm_file\n",
    "        isotherm = JSON.parse(isotherm_file)\n",
    "    end\n",
    "    return isotherm\n",
    "end\n",
    "isotherm = read_isotherm(\"10.1002adem.200500223.isotherm1\")"
   ]
  },
  {
   "cell_type": "code",
   "execution_count": 10,
   "metadata": {},
   "outputs": [
    {
     "data": {
      "text/plain": [
       "([0.0171192, 0.0586318, 0.102329, 0.211573, 0.303338, 0.412581, 0.499976, 0.60485, 0.705355, 0.801489, 0.901993, 0.998128], [0.9231339285714286, 3.093375, 4.580848214285715, 6.4096875, 7.507008928571429, 8.409241071428571, 8.921339285714286, 9.506562500000001, 9.969866071428571, 10.311250000000001, 10.603883928571427, 10.823348214285716])"
      ]
     },
     "execution_count": 10,
     "metadata": {},
     "output_type": "execute_result"
    }
   ],
   "source": [
    "function convert_units(isotherm_data)\n",
    "    \n",
    "    aUnit = isotherm_data[\"adsorptionUnits\"]\n",
    "    @assert aUnit in [\"cm3(STP)/g\", \"g/g\", \"mg/g\", \"ml/g\", \"mmol/g\", \"mmol/kg\", \"mol/g\", \"wt%\"]\n",
    "    \n",
    "    aConversion = 0.0\n",
    "    if aUnit == \"mmol/g\"\n",
    "        aConversion = 1.0\n",
    "    elseif aUnit == \"mmol/kg\"\n",
    "        aConversion = 1.0 / 1000.0\n",
    "    elseif aUnit == \"mol/g\"\n",
    "        aConversion = 1000.0\n",
    "    elseif aUnit == \"wt%\"\n",
    "        gas = isotherm_data[\"adsorbates\"][1][\"name\"]\n",
    "        mw = formula_to_mw(gas_to_formula(gas))\n",
    "        aConversion = 1000.0 / mw * 0.01\n",
    "    elseif aUnit == \"g/g\"\n",
    "        gas = isotherm_data[\"adsorbates\"][1][\"name\"]\n",
    "        mw = formula_to_mw(gas_to_formula(gas))\n",
    "        aConversion = 1000.0 / mw\n",
    "    elseif aUnit == \"ml/g\" || aUnit == \"cm3(STP)/g\"\n",
    "        aConversion = 1.0 / 22.4\n",
    "    elseif aUnit == \"mg/g\"\n",
    "        gas = isotherm_data[\"adsorbates\"][1][\"name\"]\n",
    "        mw = formula_to_mw(gas_to_formula(gas))\n",
    "        aConversion = 1.0 / mw\n",
    "    else\n",
    "        @error @sprintf(\"Something went wrong with the unit conversion in file %s\", isotherm_filename)\n",
    "    end\n",
    "                                \n",
    "    adsorption = Array{Float64, 1}()\n",
    "    pressure = Array{Float64, 1}()\n",
    "    for data_point in isotherm_data[\"isotherm_data\"]\n",
    "        push!(pressure, data_point[\"pressure\"])\n",
    "        push!(adsorption, data_point[\"species_data\"][1][\"adsorption\"] * aConversion)\n",
    "    end\n",
    "    return pressure, adsorption\n",
    "end\n",
    "p, a = convert_units(isotherm)"
   ]
  },
  {
   "cell_type": "markdown",
   "metadata": {},
   "source": [
    "## Validity functions"
   ]
  },
  {
   "cell_type": "code",
   "execution_count": 11,
   "metadata": {},
   "outputs": [
    {
     "data": {
      "text/plain": [
       "_check_nb_of_adsorbates (generic function with 2 methods)"
      ]
     },
     "execution_count": 11,
     "metadata": {},
     "output_type": "execute_result"
    }
   ],
   "source": [
    "function _check_nb_of_adsorbates(isotherm::Dict{<:AbstractString, Any}, max_adsorbates::Int=1)\n",
    "    if length(isotherm[\"adsorbates\"]) > max_adsorbates\n",
    "        return false\n",
    "    end\n",
    "    return true\n",
    "end"
   ]
  },
  {
   "cell_type": "code",
   "execution_count": 12,
   "metadata": {},
   "outputs": [
    {
     "data": {
      "text/plain": [
       "_check_temperature (generic function with 3 methods)"
      ]
     },
     "execution_count": 12,
     "metadata": {},
     "output_type": "execute_result"
    }
   ],
   "source": [
    "function _check_temperature(isotherm::Dict{<:AbstractString, Any}, low_temp::Float64=293.0, high_temp::Float64=303.0)\n",
    "    if isotherm[\"temperature\"] >= low_temp && isotherm[\"temperature\"] <= high_temp\n",
    "        return true\n",
    "    end\n",
    "    return false\n",
    "end     "
   ]
  },
  {
   "cell_type": "code",
   "execution_count": 13,
   "metadata": {},
   "outputs": [
    {
     "data": {
      "text/plain": [
       "_check_units (generic function with 2 methods)"
      ]
     },
     "execution_count": 13,
     "metadata": {},
     "output_type": "execute_result"
    }
   ],
   "source": [
    "function _check_units(isotherm::Dict{<:AbstractString, Any}, valid_units::Array{<:AbstractString, 1}=[\"cm3(STP)/g\", \"g/g\", \"mg/g\", \"ml/g\", \"mmol/g\", \"mmol/kg\", \"mol/g\", \"wt%\"])\n",
    "    if (isotherm[\"adsorptionUnits\"] in valid_units) && isotherm[\"pressureUnits\"] == \"bar\"\n",
    "        return true\n",
    "    end\n",
    "    return false\n",
    "end"
   ]
  },
  {
   "cell_type": "code",
   "execution_count": 14,
   "metadata": {},
   "outputs": [
    {
     "data": {
      "text/plain": [
       "_check_category (generic function with 2 methods)"
      ]
     },
     "execution_count": 14,
     "metadata": {},
     "output_type": "execute_result"
    }
   ],
   "source": [
    "function _check_category(isotherm::Dict{<:AbstractString, Any}, allow_uncategorized::Bool=true)\n",
    "    if isotherm[\"category\"] == \"exp\" || (isotherm[\"category\"] == \"\" && allow_uncategorized)\n",
    "        return true\n",
    "    end\n",
    "    return false\n",
    "end"
   ]
  },
  {
   "cell_type": "markdown",
   "metadata": {},
   "source": [
    "Lets load in an isotherm to test these functions:"
   ]
  },
  {
   "cell_type": "code",
   "execution_count": 15,
   "metadata": {},
   "outputs": [
    {
     "data": {
      "text/plain": [
       "Dict{String,Any} with 15 entries:\n",
       "  \"isotherm_data\"      => Any[Dict{String,Any}(\"pressure\"=>0.0171192,\"total_ads…\n",
       "  \"temperature\"        => 77\n",
       "  \"articleSource\"      => \"UNKNOWN\"\n",
       "  \"compositionType\"    => \"molefraction\"\n",
       "  \"adsorbates\"         => Any[Dict{String,Any}(\"name\"=>\"Hydrogen\",\"InChIKey\"=>\"…\n",
       "  \"adsorptionUnits\"    => \"cm3(STP)/g\"\n",
       "  \"date\"               => \"1000-01-01\"\n",
       "  \"category\"           => \"\"\n",
       "  \"digitizer\"          => \"UNKNOWN\"\n",
       "  \"pressureUnits\"      => \"bar\"\n",
       "  \"DOI\"                => \"10.1002/adem.200500223\"\n",
       "  \"adsorbent\"          => Dict{String,Any}(\"name\"=>\"CuBTC\",\"hashkey\"=>\"NIST-MAT…\n",
       "  \"concentrationUnits\" => \"\"\n",
       "  \"filename\"           => \"10.1002adem.200500223.isotherm1\"\n",
       "  \"isotherm_type\"      => \"\""
      ]
     },
     "execution_count": 15,
     "metadata": {},
     "output_type": "execute_result"
    }
   ],
   "source": [
    "test_isotherm = read_isotherm(\"10.1002adem.200500223.isotherm1\")"
   ]
  },
  {
   "cell_type": "code",
   "execution_count": 29,
   "metadata": {},
   "outputs": [],
   "source": [
    "@assert _check_category(test_isotherm)\n",
    "@assert !_check_category(test_isotherm, false)\n",
    "@assert _check_units(test_isotherm)\n",
    "@assert !_check_temperature(test_isotherm)\n",
    "@assert _check_temperature(test_isotherm, 0., 100.)\n",
    "@assert _check_nb_of_adsorbates(test_isotherm)"
   ]
  },
  {
   "cell_type": "markdown",
   "metadata": {},
   "source": [
    "## Fitting Functions"
   ]
  },
  {
   "cell_type": "code",
   "execution_count": 16,
   "metadata": {},
   "outputs": [
    {
     "data": {
      "text/plain": [
       "_fit_henry_to_isotherm (generic function with 2 methods)"
      ]
     },
     "execution_count": 16,
     "metadata": {},
     "output_type": "execute_result"
    }
   ],
   "source": [
    "function _fit_henry_to_isotherm(isotherm::Dict{<:AbstractString, Any}, MSE_threshold::Float64=0.1)\n",
    "    pressure, adsorption = convert_units(isotherm)\n",
    "    isotherm_df = DataFrame(:p => pressure, :a => adsorption)\n",
    "    params = fit_adsorption_isotherm(isotherm_df, :p, :a, :langmuir)\n",
    "    H = params[\"M\"] * params[\"K\"]\n",
    "    MSE = params[\"MSE\"]\n",
    "    if MSE >= MSE_threshold\n",
    "        @error @sprintf(\"MSE of henry fit of file %s is too large\", isotherm_filename)\n",
    "    elseif params[\"M\"] <= 0 || params[\"K\"] <= 0\n",
    "        @error @sprintf(\"Optimization of %s resulted in a negative Henry coefficient\", isotherm_filename)\n",
    "    end\n",
    "    return H\n",
    "end"
   ]
  },
  {
   "cell_type": "code",
   "execution_count": 17,
   "metadata": {},
   "outputs": [
    {
     "data": {
      "text/plain": [
       "_interpolate_isotherm (generic function with 2 methods)"
      ]
     },
     "execution_count": 17,
     "metadata": {},
     "output_type": "execute_result"
    }
   ],
   "source": [
    "function _interpolate_isotherm(isotherm::Dict{<:AbstractString, Any}, interpolation_pressure::Float64=10.1)\n",
    "    pressure, adsorption = convert_units(isotherm)\n",
    "    if interpolation_pressure < minimum(pressure) || interpolation_pressure > maximum(pressure)\n",
    "        @error @sprintf(\"Interpolation is not possible in file %s at %.3f bar\", isotherm_filename, interpolation_pressure)\n",
    "    end\n",
    "    pressure_difference = pressure .- interpolation_pressure\n",
    "    i_high = argmax(pressure_difference .>= 0)\n",
    "    i_low = i_high - 1\n",
    "    interpolated_adsorption = adsorption[i_low] + (adsorption[i_high] - adsorption[i_low]) / (pressure[i_high] - pressure[i_low]) * (interpolation_pressure - pressure[i_low])\n",
    "    return interpolated_adsorption\n",
    "end"
   ]
  },
  {
   "cell_type": "markdown",
   "metadata": {},
   "source": [
    "Lets visualize the fits on the test isotherm we loaded previously:"
   ]
  },
  {
   "cell_type": "code",
   "execution_count": 38,
   "metadata": {},
   "outputs": [
    {
     "data": {
      "image/png": "[encoded data removed]",
      "text/plain": [
       "Figure(PyObject <Figure size 800x600 with 1 Axes>)"
      ]
     },
     "metadata": {},
     "output_type": "display_data"
    }
   ],
   "source": [
    "pressure, adsorption = convert_units(test_isotherm)\n",
    "H = _fit_henry_to_isotherm(test_isotherm)\n",
    "fig, ax = plt.subplots(figsize=(8,6))\n",
    "ax.scatter(pressure, adsorption, c=\"red\")\n",
    "old_ylim = ax.get_ylim()\n",
    "ax.plot([0, pressure[end]], [0, pressure[end]*H], c=\"blue\")\n",
    "ax.set_ylim(old_ylim)\n",
    "ax.set_xlabel(\"Pressure (bar)\")\n",
    "ax.set_ylabel(\"Adsorption (mmol/g)\")\n",
    "ax.set_title(\"_fit_henry_to_isotherm Test\")\n",
    "ax.grid(\"on\")\n",
    "plt.tight_layout()\n",
    "plt.show()"
   ]
  },
  {
   "cell_type": "code",
   "execution_count": 39,
   "metadata": {},
   "outputs": [
    {
     "ename": "UndefVarError",
     "evalue": "UndefVarError: isotherm_filename not defined",
     "output_type": "error",
     "traceback": [
      "UndefVarError: isotherm_filename not defined",
      "",
      "Stacktrace:",
      " [1] macro expansion at ./logging.jl:319 [inlined]",
      " [2] _interpolate_isotherm(::Dict{String,Any}, ::Float64) at ./In[17]:4",
      " [3] _interpolate_isotherm(::Dict{String,Any}) at ./In[17]:2",
      " [4] top-level scope at In[39]:2"
     ]
    }
   ],
   "source": [
    "pressure, adsorption = convert_units(test_isotherm)\n",
    "interpolated_adsorption = _interpolate_isotherm(test_isotherm)\n",
    "fig, ax = plt.subplots(figsize=(8,6))\n",
    "ax.scatter(pressure, adsorption, c=\"red\")\n",
    "old_ylim = ax.get_ylim()\n",
    "ax.scatter(0.1, interpolated_adsorption, c=\"blue\")\n",
    "ax.set_ylim(old_ylim)\n",
    "ax.set_xlabel(\"Pressure (bar)\")\n",
    "ax.set_ylabel(\"Adsorption (mmol/g)\")\n",
    "ax.set_title(\"_interpolate_isotherm Test\")\n",
    "ax.grid(\"on\")\n",
    "plt.tight_layout()\n",
    "plt.show()"
   ]
  },
  {
   "cell_type": "markdown",
   "metadata": {},
   "source": [
    "### We'll also need a function to get rid of columns and/or rows that contain too few values"
   ]
  },
  {
   "cell_type": "code",
   "execution_count": 18,
   "metadata": {},
   "outputs": [
    {
     "data": {
      "text/plain": [
       "prune (generic function with 2 methods)"
      ]
     },
     "execution_count": 18,
     "metadata": {},
     "output_type": "execute_result"
    }
   ],
   "source": [
    "function prune(H::Array{Union{Float64, Missing}, 2}, min_unique_isotherms::Int=4)\n",
    "    ng, nm = size(H)\n",
    "    keep_col = trues(nm)\n",
    "    keep_row = trues(ng)\n",
    "    nb_kept_rows_and_cols = sum(keep_row) + sum(keep_col)\n",
    "    nb_cut_cols = 0\n",
    "    nb_cut_rows = 0\n",
    "    count = 0\n",
    "    \n",
    "    while true\n",
    "        for i_row = 1:ng\n",
    "            if sum(.!ismissing.(H[i_row, keep_col])) < min_unique_isotherms\n",
    "                keep_row[i_row] = false\n",
    "            end\n",
    "        end\n",
    "        \n",
    "        for i_col = 1:nm\n",
    "            if sum(.!ismissing.(H[keep_row, i_col])) < min_unique_isotherms\n",
    "                keep_col[i_col] = false\n",
    "            end\n",
    "        end\n",
    "        \n",
    "        if nb_kept_rows_and_cols == (sum(keep_row) + sum(keep_col))\n",
    "            break\n",
    "        end\n",
    "        \n",
    "        nb_kept_rows_and_cols = sum(keep_row) + sum(keep_col)\n",
    "        count += 1\n",
    "    end\n",
    "    \n",
    "    rows_cut = sum(.!keep_row)\n",
    "    cols_cut  = sum(.!keep_col)\n",
    "    \n",
    "    @printf(\"Number of gases cut: %d\\n\", rows_cut)\n",
    "    @printf(\"Number of materials cut: %d\\n\", cols_cut)\n",
    "    @printf(\"Dimensions of H went from (%d, %d) to (%d, %d)\\n\", ng, nm, ng-rows_cut, nm-cols_cut)\n",
    "    @printf(\"Number of iterations required to prune H: %d\\n\", count)\n",
    "    \n",
    "    return keep_row, keep_col\n",
    "end"
   ]
  },
  {
   "cell_type": "markdown",
   "metadata": {},
   "source": [
    "### Before we start filling <b>H</b>, lets merge some materials together that should be listed under the same material but aren't"
   ]
  },
  {
   "cell_type": "code",
   "execution_count": 19,
   "metadata": {},
   "outputs": [
    {
     "data": {
      "text/plain": [
       "merge_materials (generic function with 1 method)"
      ]
     },
     "execution_count": 19,
     "metadata": {},
     "output_type": "execute_result"
    }
   ],
   "source": [
    "# Return a new master_list_of_materials\n",
    "# Also modifies the pre-existing `isotherm_dictionary`\n",
    "function merge_materials(master_list_of_materials::Array{AbstractString, 1}, target::AbstractString, to_be_merged::Array{<:AbstractString, 1})\n",
    "    # First we delete the MOFs that are to be merged from the master list of materials\n",
    "    index_of_to_be_merged = [(mof in to_be_merged) for mof in master_list_of_materials]\n",
    "    new_master_list_of_materials = master_list_of_materials[.!index_of_to_be_merged]\n",
    "\n",
    "    # Then we combine the isotherms from the merged materials with the target material\n",
    "    for gas_key in keys(isotherm_dictionary)\n",
    "        for merging_material in to_be_merged\n",
    "            if haskey(isotherm_dictionary[gas_key], merging_material)\n",
    "                if !haskey(isotherm_dictionary[gas_key], target)\n",
    "                    isotherm_dictionary[gas_key][target] = Array{AbstractString, 1}()\n",
    "                end\n",
    "                append!(isotherm_dictionary[gas_key][target], isotherm_dictionary[gas_key][merging_material])\n",
    "            end\n",
    "        end\n",
    "    end\n",
    "    return new_master_list_of_materials\n",
    "end"
   ]
  },
  {
   "cell_type": "code",
   "execution_count": 20,
   "metadata": {},
   "outputs": [
    {
     "data": {
      "text/plain": [
       "6864-element Array{AbstractString,1}:\n",
       " \"Mg2(dobpdc)\"                               \n",
       " \"Li-FAU(1.0)\"                               \n",
       " \"Soc-MOF\"                                   \n",
       " \"MIL-140C-25\"                               \n",
       " \"MOF-GO PSN\"                                \n",
       " \"1% Pt/BAl 1.0\"                             \n",
       " \"NENU-11\"                                   \n",
       " \"AMSA-MIL-101\"                              \n",
       " \"{[Co(dpt24)2)]*0.5DMF}n\"                   \n",
       " \"HFCP-17\"                                   \n",
       " \"MTV-IRMOF-1-AE\"                            \n",
       " \"36 wt% CuCl/NaX\"                           \n",
       " \"Coal RU1\"                                  \n",
       " ⋮                                           \n",
       " \"HB-d\"                                      \n",
       " \"Graphite (2-nm pore width)\"                \n",
       " \"Hydrated Graphite (20 Angstrom pore width)\"\n",
       " \"Gd2(ADB)3(DMSO)4*6DMSO*8H2O\"               \n",
       " \"[Cd2(Me4bpz)4{SiF6}{NCS}2]*6CHCl3\"         \n",
       " \"{[Cu2(pzdc)2(bpy)]*4H2O}\"                  \n",
       " \"Tb3+@Al-MIL-53-COOH\"                       \n",
       " \"UCY-1\"                                     \n",
       " \"NH2-MOF-199\"                               \n",
       " \"carbon-ZX 2.6nm slit pore\"                 \n",
       " \"Zn-DDQ\"                                    \n",
       " \"IRMOF-M8\"                                  "
      ]
     },
     "execution_count": 20,
     "metadata": {},
     "output_type": "execute_result"
    }
   ],
   "source": [
    "new_master_list_of_materials = merge_materials(master_list_of_materials, \"Mg-MOF-74\", \n",
    "                                                            [\"CPO-27-Mg\", \"CPO-27-Mg(100%)\", \"CPO-27-Mg-a\", \"CPO-27-Mg-b\", \"CPO-27-Mg-c\", \"Mg-MOF-74 (3)\", \n",
    "                                                             \"Mg-MOF-74 (4)\", \"MOF-74(Mg)-1st cycle\", \"Mg-MOF-74(C)\", \"Mg-MOF-74(C)-TEA\", \"Mg-MOF-74(S)\",\n",
    "                                                             \"Mg-DOBDC\", \"Mg2(dobdc)\"])\n",
    "new_master_list_of_materials = merge_materials(new_master_list_of_materials, \"CPO-27-Co\",\n",
    "                                                            [\"Co-MOF-74(M)\", \"Co-MOF-74(S)\", \"Co-DOBDC\", \"Co2(dobdc)\"])\n",
    "new_master_list_of_materials = merge_materials(new_master_list_of_materials, \"CPO-27-Ni\",\n",
    "                                                            [\"Ni-MOF-74 (1)\", \"Ni-MOF-74 (2)\", \"MOF-74-Ni\", \"MOF-74Ni 70C\", \"Ni-DOBDC\", \"Ni2(dobdc)\"])\n",
    "new_master_list_of_materials = merge_materials(new_master_list_of_materials, \"Mn-MOF-74\",\n",
    "                                                            [\"CPO-27-Mn\", \"Mn-DOBDC\", \"Mn2(dobdc)\"])\n",
    "new_master_list_of_materials = merge_materials(new_master_list_of_materials, \"Zn-MOF-74\",\n",
    "                                                            [\"Zn-MOF-74(cycle 1)\", \"Zn-MOF-74(cycle 2)\", \"Zn-MOF-74(cycle 3)\", \"Zn-MOF-74(cycle 4)\",\n",
    "                                                             \"Zn-MOF-74(cycle 5)\", \"CPO-27-Zn\", \"MOF-74\", \"MOF-74 (DMF)\", \"MOF-74 (water)\",\n",
    "                                                             \"Zn-DOBDC\", \"Zn2(dobdc)\"])\n",
    "new_master_list_of_materials = merge_materials(new_master_list_of_materials, \"Cu-BDC\",\n",
    "                                                            [\"Cu(BDC) (60mL DMF 100W Microwave)\", \"Cu(BDC) (60mL DMF 300W Microwave)\",\n",
    "                                                             \"Cu(BDC) (87mL DMF 100W Microwave)\", \"Cu(BDC) (87mL DMF 300W Microwave)\"])\n",
    "new_master_list_of_materials = merge_materials(new_master_list_of_materials, \"CuBTC\",\n",
    "                                                            [\"Cu-BTC (diethylene glycol)\", \"Cu-BTC (ethylene glycol)\", \"Cu-HKUST-1\", \"CuBTC 100/100\",\n",
    "                                                             \"CuBTC 50/110\", \"CuBTC 75/110\", \"CuBTC 75/140\", \"CuBTC 75/80\", \"Cu2(BTC)3\", \"CuBTC(Cu)\",\n",
    "                                                             \"CuBTC-MW\", \"HKUST-1 (0T)\", \"HKUST-1 (1 pot)\"])\n",
    "new_master_list_of_materials = merge_materials(new_master_list_of_materials, \"Cu-SDU-1\",\n",
    "                                                            [\"Cu-SDU-1 (100 degrees C)\", \"Cu-SDU-1 (40 degrees C)\", \"Cu-SDU-1 (80 degrees C)\"])\n",
    "new_master_list_of_materials = merge_materials(new_master_list_of_materials, \"Fe-MOF-74\",\n",
    "                                                            [\"CPO-27-Fe\", \"Fe2(dobdc)\"])\n",
    "new_master_list_of_materials = merge_materials(new_master_list_of_materials, \"IRMOF-1\",\n",
    "                                                            [\"MOF-5 (1.5 hours activated)\", \"MOF-5 (Na2BDC 298)\", \"MOF-5 (Na2BDC 373)\", \"MOF-5-.5h in humid air\",\n",
    "                                                             \"MOF-5-24h in humid air\", \"MOF-5-2h in humid air\", \"MOF-5-48h in humid air\", \"MOF-5-40h\", \n",
    "                                                             \"MOF-5-61% humidity\", \"MOF-5-61% humidity-exposedtoair.5h\", \"MOF-5-61% humidity-exposedtoair24h\",\n",
    "                                                             \"MOF-5-61% humidity-exposedtoair2h\", \"MOF-5-61% humidity-exposedtoair48h\", \"MOF-5-BPO\",\n",
    "                                                             \"MOF-5-BPO (cBPO = .04 M)\", \"MOF-5-BPO (cBPO = .06 M)\"])\n",
    "new_master_list_of_materials = merge_materials(new_master_list_of_materials, \"Ni(bodc)(ted)0.5\",\n",
    "                                                            [\"Ni-bodc-ted\"])\n",
    "new_master_list_of_materials = merge_materials(new_master_list_of_materials, \"Ni(bdc)(ted)0.5\",\n",
    "                                                            [\"Ni(bdc)(ted)0.5 t=100\", \"Ni(bdc)(ted)0.5 t=15\"])\n",
    "new_master_list_of_materials = merge_materials(new_master_list_of_materials, \"PCN-14\",\n",
    "                                                            [\"PCN-14(440)\", \"PCN-14(450)\", \"PCN-14(500)\", \"PCN-14(550)\", \"PCN-14(600)\"])\n",
    "new_master_list_of_materials = merge_materials(new_master_list_of_materials, \"UiO-66\",\n",
    "                                                            [\"UiO-66 (24h)\", \"UiO-66 (2h)\", \"UiO-66 (48h)\", \"UiO-66 (4h)\", \"UiO-66 (72h)\",\n",
    "                                                             \"UiO-66 (8h)\", \"UiO-66 (solvothermal)\", \"UiO-66(Zr)\", \"UiO-66(Zr) 100 Equ. FA\",\n",
    "                                                             \"UiO-66(Zr) 30 Equ. AA\"])\n",
    "new_master_list_of_materials = merge_materials(new_master_list_of_materials, \"UiO-66-NH2\",\n",
    "                                                            [\"UiO-66-NH2(100)\", \"UiO-66-NH2(67)\", \"UiO-66-NH2(33)\"])\n",
    "new_master_list_of_materials = merge_materials(new_master_list_of_materials, \"UiO-66-(COOH)2\",\n",
    "                                                            [\"UiO-66(Zr)-(COOH)2\", \"UiO-66(Zr)-(COOH)2 (303K)\", \"UiO-66(Zr)-(COOH)2 (323K)\", \n",
    "                                                             \"UiO-66(Zr)-(COOH)2 (343K)\", \"UiO-66(Zr)-(COOH)2 (348K)\", \"UiO-66(Zr)-(COOH)2 (373K)\",\n",
    "                                                             \"UiO-66(Zr)-(COOH)2 (383K)\", \"UiO-66(Zr)-(COOH)2 (423K)\", \"UiO-66(Zr)-(COOH)2 (463K)\", \n",
    "                                                             \"UiO-66(Zr)-(COOH)2 (473K)\"])\n",
    "new_master_list_of_materials = merge_materials(new_master_list_of_materials, \"SNU-9\",\n",
    "                                                            [\"SNU-9 (10 cycles)\", \"SNU-9 (100 cycles)\"])\n",
    "new_master_list_of_materials = merge_materials(new_master_list_of_materials, \"ZIF-8\",\n",
    "                                                            [\"ZIF-8 (BULK)\", \"ZIF-8 (crystal = 0.060 micrometers)\", \"ZIF-8 (crystal = 0.33 micrometers)\", \n",
    "                                                             \"ZIF-8 (crystal = 0.47 micrometers)\", \"ZIF-8 (crystal = 0.73 micrometers)\", \n",
    "                                                             \"ZIF-8 (crystal = 1.2 micrometers)\", \"ZIF-8 (crystal = 2.1 micrometers)\",\n",
    "                                                             \"ZIF-8 (crystal = 88 micrometers)\", \"ZIF-8 (Large Size)\", \"ZIF-8 (Middle Size)\", \"ZIF-8 (Small Size)\",\n",
    "                                                             \"ZIF-8-0.025 WT% CTAB\", \"ZIF-8-C_100_2d\", \"ZIF-8-C_200_2d\", \"ZIF-8-C_250_2d\", \"ZIF-8-C_250_2d_V\",\n",
    "                                                             \"ZIF-8-M_100_7d\", \"ZIF-8-M_200_2d\", \"ZIF-8-M_250_2d\", \"ZIF-8-M_250_2d_V\", \"ZIF-8-W_100_7d\",\n",
    "                                                             \"ZIF-8-W_200_2d\", \"ZIF-8-W_250_2d\", \"ZIF-8-W_250_2d_V\", \"ZIF-8ER\", \"ZIF-8HP\", \"ZIF-8HT\",\n",
    "                                                             \"ZIF-8LT\", \"ZIF-8LT-HT\"])\n",
    "new_master_list_of_materials = merge_materials(new_master_list_of_materials, \"MCM-41\",\n",
    "                                                            [\"2650 K MCM-41\", \"300 K MCM-41\", \"MCM-41 d=2.8 nm\", \"MCM-41 d=3.1 nm\",\n",
    "                                                             \"MCM-41 1000C\", \"MCM-41 500C\", \"MCM-41 700C\", \"MCM-41 900C\"])\n",
    "master_list_of_materials = merge_materials(new_master_list_of_materials, \"Cu-MOF-74\",\n",
    "                                                            [\"Cu-DOBDC (DREIDING Parameters-Universal Force Field + TraPPe Model)\", \n",
    "                                                             \"CPO-27-Cu\", \"Cu2(dobdc)\"])"
   ]
  },
  {
   "cell_type": "markdown",
   "metadata": {},
   "source": [
    "### Lets initialize our data matrix <b>H</b>"
   ]
  },
  {
   "cell_type": "code",
   "execution_count": 21,
   "metadata": {},
   "outputs": [
    {
     "name": "stdout",
     "output_type": "stream",
     "text": [
      "Number of materials: 6864\n",
      "Number of gases: 356\n"
     ]
    },
    {
     "data": {
      "text/plain": [
       "356×6864 Array{Union{Missing, Float64},2}:\n",
       " missing  missing  missing  missing  …  missing  missing  missing  missing\n",
       " missing  missing  missing  missing     missing  missing  missing  missing\n",
       " missing  missing  missing  missing     missing  missing  missing  missing\n",
       " missing  missing  missing  missing     missing  missing  missing  missing\n",
       " missing  missing  missing  missing     missing  missing  missing  missing\n",
       " missing  missing  missing  missing  …  missing  missing  missing  missing\n",
       " missing  missing  missing  missing     missing  missing  missing  missing\n",
       " missing  missing  missing  missing     missing  missing  missing  missing\n",
       " missing  missing  missing  missing     missing  missing  missing  missing\n",
       " missing  missing  missing  missing     missing  missing  missing  missing\n",
       " missing  missing  missing  missing  …  missing  missing  missing  missing\n",
       " missing  missing  missing  missing     missing  missing  missing  missing\n",
       " missing  missing  missing  missing     missing  missing  missing  missing\n",
       " ⋮                                   ⋱  ⋮                                 \n",
       " missing  missing  missing  missing     missing  missing  missing  missing\n",
       " missing  missing  missing  missing  …  missing  missing  missing  missing\n",
       " missing  missing  missing  missing     missing  missing  missing  missing\n",
       " missing  missing  missing  missing     missing  missing  missing  missing\n",
       " missing  missing  missing  missing     missing  missing  missing  missing\n",
       " missing  missing  missing  missing     missing  missing  missing  missing\n",
       " missing  missing  missing  missing  …  missing  missing  missing  missing\n",
       " missing  missing  missing  missing     missing  missing  missing  missing\n",
       " missing  missing  missing  missing     missing  missing  missing  missing\n",
       " missing  missing  missing  missing     missing  missing  missing  missing\n",
       " missing  missing  missing  missing     missing  missing  missing  missing\n",
       " missing  missing  missing  missing  …  missing  missing  missing  missing"
      ]
     },
     "execution_count": 21,
     "metadata": {},
     "output_type": "execute_result"
    }
   ],
   "source": [
    "nm = length(master_list_of_materials)\n",
    "ng = length(master_list_of_gases)\n",
    "@printf(\"Number of materials: %d\\nNumber of gases: %d\\n\", nm, ng)\n",
    "H = Array{Union{Float64, Missing}, 2}(undef, ng, nm)"
   ]
  },
  {
   "cell_type": "markdown",
   "metadata": {},
   "source": [
    "## Lets create the function that fills in <b>H</b>"
   ]
  },
  {
   "cell_type": "code",
   "execution_count": 22,
   "metadata": {},
   "outputs": [
    {
     "name": "stdout",
     "output_type": "stream",
     "text": [
      "Sparsity before pruning: 99.87%\n",
      "Number of gases cut: 326\n",
      "Number of materials cut: 6726\n",
      "Dimensions of H went from (356, 6864) to (30, 138)\n",
      "Number of iterations required to prune H: 3\n",
      "Sparsity after pruning: 81.84%\n"
     ]
    }
   ],
   "source": [
    "function fill_H!(H::Array{Union{Float64, Missing}, 2}, validity_functions::Array{<:Function, 1}, fit_function::Function, post_functions::Array{<:Function, 1})\n",
    "    for (i, gas) in enumerate(master_list_of_gases)\n",
    "        if !haskey(isotherm_dictionary, gas)\n",
    "            continue\n",
    "        end\n",
    "        for (j, material) in enumerate(master_list_of_materials)\n",
    "            if !haskey(isotherm_dictionary[gas], material)\n",
    "                continue\n",
    "            end\n",
    "            isotherm_list = isotherm_dictionary[gas][material]\n",
    "            isotherms = read_isotherm.(isotherm_list)\n",
    "            ### Lets run the validity functions to see which isotherm files are valid\n",
    "            valid_isotherms = trues(length(isotherm_list))\n",
    "            for val_func in validity_functions\n",
    "                valid_isotherms .= valid_isotherms .& val_func.(isotherms)\n",
    "            end\n",
    "            \n",
    "            ### Lets run the fitting function now\n",
    "            fit_vals = Array{Any, 1}(undef, length(isotherm_list))\n",
    "            for (k, isotherm) in enumerate(isotherms)\n",
    "                try\n",
    "                    fit_vals[k] = fit_function(isotherm)\n",
    "                catch\n",
    "                    valid_isotherms[k] = false\n",
    "                end\n",
    "            end\n",
    "            \n",
    "            if sum(valid_isotherms) == 0\n",
    "                continue\n",
    "            end\n",
    "                \n",
    "            # Lets take the median of the fitted values to try to remove the effects of outlieres\n",
    "            H[i,j] = median(fit_vals[valid_isotherms])\n",
    "                \n",
    "            ### And finally lets run the post processing functions\n",
    "            for post_func in post_functions\n",
    "                H[i,j] = post_func(H[i,j])\n",
    "            end\n",
    "        end\n",
    "    end\n",
    "    @printf(\"Sparsity before pruning: %.2f%%\\n\", sum(ismissing.(H))/length(H)*100)\n",
    "\n",
    "    keep_row, keep_col = prune(H)\n",
    "    H = H[keep_row, keep_col]\n",
    "\n",
    "    @printf(\"Sparsity after pruning: %.2f%%\\n\", sum(ismissing.(H))/length(H)*100)\n",
    "    return H, keep_row, keep_col\n",
    "end\n",
    "                    \n",
    "new_H, keep_row, keep_col = fill_H!(H, [_check_nb_of_adsorbates, _check_temperature, _check_units, _check_category], _fit_henry_to_isotherm, [log10])\n",
    "master_list_of_gases = master_list_of_gases[keep_row];\n",
    "master_list_of_materials = master_list_of_materials[keep_col];"
   ]
  },
  {
   "cell_type": "code",
   "execution_count": 23,
   "metadata": {},
   "outputs": [
    {
     "data": {
      "text/plain": [
       "30-element Array{AbstractString,1}:\n",
       " \"Xenon\"              \n",
       " \"Benzene\"            \n",
       " \"Carbon monoxide\"    \n",
       " \"2-Propanol\"         \n",
       " \"Ethane\"             \n",
       " \"Argon\"              \n",
       " \"Oxygen\"             \n",
       " \"Carbon Dioxide\"     \n",
       " \"Krypton\"            \n",
       " \"Acetylene\"          \n",
       " \"Water\"              \n",
       " \"1-butene\"           \n",
       " \"Methanol\"           \n",
       " ⋮                    \n",
       " \"Methane\"            \n",
       " \"N-Butane\"           \n",
       " \"2-Methylbutane\"     \n",
       " \"N-propane\"          \n",
       " \"Sulfur Hexafluoride\"\n",
       " \"Ethanol\"            \n",
       " \"Helium\"             \n",
       " \"Hydrogen\"           \n",
       " \"Toluene\"            \n",
       " \"Sulfur dioxide\"     \n",
       " \"Nitrogen\"           \n",
       " \"Ethene\"             "
      ]
     },
     "execution_count": 23,
     "metadata": {},
     "output_type": "execute_result"
    }
   ],
   "source": [
    "master_list_of_gases"
   ]
  },
  {
   "cell_type": "code",
   "execution_count": null,
   "metadata": {},
   "outputs": [],
   "source": []
  }
 ],
 "metadata": {
  "kernelspec": {
   "display_name": "Julia 1.3.0",
   "language": "julia",
   "name": "julia-1.3"
  },
  "language_info": {
   "file_extension": ".jl",
   "mimetype": "application/julia",
   "name": "julia",
   "version": "1.3.0"
  }
 },
 "nbformat": 4,
 "nbformat_minor": 2
}
