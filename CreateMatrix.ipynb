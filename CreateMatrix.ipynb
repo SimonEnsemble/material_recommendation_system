{
 "cells": [
  {
   "cell_type": "code",
   "execution_count": 1,
   "metadata": {},
   "outputs": [],
   "source": [
    "using CSV\n",
    "using DataFrames\n",
    "using Printf\n",
    "using LinearAlgebra\n",
    "using Statistics\n",
    "using PyPlot\n",
    "using PorousMaterials: fit_adsorption_isotherm, read_atomic_masses\n",
    "using LaTeXStrings\n",
    "using ProgressMeter\n",
    "using HTTP\n",
    "using JSON\n",
    "using Optim\n",
    "using JLD2"
   ]
  },
  {
   "cell_type": "markdown",
   "metadata": {},
   "source": [
    "## Lets start by loading in information from the NIST DB"
   ]
  },
  {
   "cell_type": "code",
   "execution_count": 2,
   "metadata": {},
   "outputs": [
    {
     "data": {
      "text/plain": [
       "\"https://adsorption.nist.gov\""
      ]
     },
     "execution_count": 2,
     "metadata": {},
     "output_type": "execute_result"
    }
   ],
   "source": [
    "host = \"https://adsorption.nist.gov\""
   ]
  },
  {
   "cell_type": "markdown",
   "metadata": {},
   "source": [
    "### Gases:"
   ]
  },
  {
   "cell_type": "code",
   "execution_count": 3,
   "metadata": {
    "scrolled": true
   },
   "outputs": [
    {
     "name": "stdout",
     "output_type": "stream",
     "text": [
      "how many gases? 356\n"
     ]
    }
   ],
   "source": [
    "url = host * \"/isodb/api/gases.json\"\n",
    "r = HTTP.request(\"POST\", url)\n",
    "gas_data = JSON.parse(String(r.body))\n",
    "key_to_gas = Dict{AbstractString, AbstractString}()\n",
    "for gas in gas_data\n",
    "    key_to_gas[gas[\"InChIKey\"]] = gas[\"name\"]\n",
    "end\n",
    "\n",
    "println(\"how many gases? \", length(key_to_gas))"
   ]
  },
  {
   "cell_type": "markdown",
   "metadata": {},
   "source": [
    "### Porous Materials"
   ]
  },
  {
   "cell_type": "code",
   "execution_count": 4,
   "metadata": {},
   "outputs": [
    {
     "name": "stdout",
     "output_type": "stream",
     "text": [
      "how many materials? 7007\n"
     ]
    }
   ],
   "source": [
    "url = host * \"/isodb/api/materials.json\"\n",
    "r = HTTP.request(\"POST\", url)\n",
    "material_data = JSON.parse(String(r.body))\n",
    "key_to_material = Dict{AbstractString, AbstractString}()\n",
    "for material in material_data\n",
    "    key_to_material[material[\"hashkey\"]] = material[\"name\"]\n",
    "end\n",
    "\n",
    "println(\"how many materials? \", length(key_to_material))"
   ]
  },
  {
   "cell_type": "code",
   "execution_count": 5,
   "metadata": {},
   "outputs": [],
   "source": [
    "master_list_of_gases = collect(values(key_to_gas));\n",
    "master_list_of_materials = collect(values(key_to_material));"
   ]
  },
  {
   "cell_type": "markdown",
   "metadata": {},
   "source": [
    "#### Plenty of materials/gases will be removed or merged due to:\n",
    "* Not being experimental\n",
    "* Not being within our temperature range (293K - 303K)\n",
    "* Having incompatable units (we only accept units from the following list: [cm3(STP)/g, g/g, mg/g, ml/g, mmol/g, mmol/kg, mol/g, wt%]\n",
    "* Having more than one adsorbate\n",
    "* Not having enough unique isotherms (see further details below)\n",
    "* Failure in fitting functions\n",
    "* And more depending on validity and fitting functions"
   ]
  },
  {
   "cell_type": "markdown",
   "metadata": {},
   "source": [
    "### Lets load in all of the isotherms we have in the `isotherms` directory. If that directory does not exist, we will download the data from the NIST DB and save it. Then build the `isotherm_dictionary`.\n",
    "\n",
    "`isotherm_dictionary` will work as follows. to obtain the list of isotherm JSON filenames for gas `gas` and material `material`, call `isotherm_dictionary[gas][material]`. one JSON file represents a single isotherm.\n",
    "\n",
    "note that `isotherm_data` contains the abbreviated isotherm data, where the (pressure, adsorption) data points are not present. this speeds up the creation of `isotherm_dictionary`."
   ]
  },
  {
   "cell_type": "code",
   "execution_count": 6,
   "metadata": {},
   "outputs": [],
   "source": [
    "isotherm_directory = \"isotherms\" # folder in which JSON isotherm files are stored\n",
    "isotherm_dictionary = Dict{AbstractString, Dict{AbstractString, Array{AbstractString, 1}}}()\n",
    "\n",
    "url = host * \"/isodb/api/isotherms.json\"\n",
    "r = HTTP.request(\"POST\", url)\n",
    "isotherm_data = JSON.parse(String(r.body))\n",
    "\n",
    "# This will download all isotherms from the NIST DB if the directory `isotherms` does not exist.\n",
    "# In the Github repo we have provided both a zipped `isotherms` directory and a tarball containing \n",
    "#    the `isotherms` directory that we used to generate our results. To use this data, uncompress this folder.\n",
    "#    make sure to delete existing isotherms directory as opposed to overwriting \n",
    "#    b/c some files may have been removed in an update.\n",
    "# if you want to update the database, move `isotherms` to a different folder `old_isotherms` \n",
    "#    and this will automatically pull the latest data.\n",
    "if ! isdir(joinpath(pwd(), isotherm_directory))\n",
    "    @printf(\"Directory does not exist.\\nStarting a long downloading process (roughly 3 hours)\\n\")\n",
    "    mkdir(joinpath(pwd(), isotherm_directory))\n",
    "    p = Progress(length(isotherm_data))\n",
    "    for isotherm in isotherm_data\n",
    "        url = host * \"/isodb/api/isotherm/\" * isotherm[\"filename\"] * \".json\"\n",
    "        r = HTTP.request(\"POST\", url)\n",
    "        bibliography = JSON.parse(String(r.body))\n",
    "        open(joinpath(pwd(), isotherm_directory, isotherm[\"filename\"] * \".json\"), \"w\") do file\n",
    "            print(file, JSON.json(bibliography))\n",
    "        end\n",
    "        ProgressMeter.next!(p)\n",
    "    end\n",
    "end\n",
    "\n",
    "for isotherm in isotherm_data\n",
    "    # get gas/material to which this isotherm corresponds\n",
    "    gas = key_to_gas[isotherm[\"adsorbates\"][1][\"InChIKey\"]]\n",
    "    @assert gas in master_list_of_gases\n",
    "    material = key_to_material[isotherm[\"adsorbent\"][\"hashkey\"]]\n",
    "    @assert material in master_list_of_materials\n",
    "    \n",
    "    if ! haskey(isotherm_dictionary, gas)\n",
    "        isotherm_dictionary[gas] = Dict{AbstractString, Array{AbstractString, 1}}()\n",
    "    end\n",
    "    if ! haskey(isotherm_dictionary[gas], material)\n",
    "        isotherm_dictionary[gas][material] = Array{AbstractString, 1}()\n",
    "    end\n",
    "    push!(isotherm_dictionary[gas][material], isotherm[\"filename\"])\n",
    "end"
   ]
  },
  {
   "cell_type": "code",
   "execution_count": 7,
   "metadata": {},
   "outputs": [
    {
     "data": {
      "text/plain": [
       "4-element Array{AbstractString,1}:\n",
       " \"10.1021Jp501495f.Isotherm75\" \n",
       " \"10.1021Jp501495f.Isotherm81\" \n",
       " \"10.1039C3cp50774b.Isotherm26\"\n",
       " \"10.1039C3cp50774b.Isotherm40\""
      ]
     },
     "execution_count": 7,
     "metadata": {},
     "output_type": "execute_result"
    }
   ],
   "source": [
    "isotherm_dictionary[\"Xenon\"][\"PCN-14\"] # list of isotherm JSON filenames for Xenon in PCN-14"
   ]
  },
  {
   "cell_type": "markdown",
   "metadata": {},
   "source": [
    "### Let's create fitting functions, validity functions and a few helper functions\n",
    "The <i>validity functions</i> will make sure the isotherms have the valid units, are within valid temperature range etc.</br>\n",
    "The <i>fitting functions</i> take in the isotherm filenames from the validity functions and compute the Henry coefficient of the isotherms, interpolate the adsorption at a specific pressure etc.</br>"
   ]
  },
  {
   "cell_type": "markdown",
   "metadata": {},
   "source": [
    "## Helper functions"
   ]
  },
  {
   "cell_type": "markdown",
   "metadata": {},
   "source": [
    "#### For the fitting procedures we need consistent units, so lets create a few helper functions that we'll use to convert the adsorption units to <b>mmol/g</b> (the pressure units are always <b>bar</b>)</br>\n",
    "#### First we need to be able to compute the molecular weight of the adsorbates. To do that we'll read in the gas data and store the chemical formula of all gases. We'll also need the atomic weight of every element"
   ]
  },
  {
   "cell_type": "code",
   "execution_count": 8,
   "metadata": {},
   "outputs": [
    {
     "data": {
      "text/plain": [
       "Dict{AbstractString,AbstractString} with 356 entries:\n",
       "  \"Isobutanol\"          => \"C4H10O\"\n",
       "  \"N-Pentadecane\"       => \"C15H32\"\n",
       "  \"Dichlofluanid\"       => \"C9H11Cl2FN2O2S2\"\n",
       "  \"Propyl mercaptan\"    => \"C3H8S\"\n",
       "  \"N-Heptane\"           => \"C7H16\"\n",
       "  \"2-ethylhexyl Oleate\" => \"C26H50O2\"\n",
       "  \"Dichloromethane\"     => \"CH2Cl2\"\n",
       "  \"Iodo-Benzene\"        => \"C6H5I\"\n",
       "  \"Methanol\"            => \"CH4O\"\n",
       "  \"1-Octene\"            => \"C8H16\"\n",
       "  \"Hydrogen Deuteride\"  => \"HD\"\n",
       "  \"Ethanol\"             => \"C2H6O\"\n",
       "  \"N-Nonane\"            => \"C9H20\"\n",
       "  \"P-Dichlorobenzene\"   => \"C6H4Cl2\"\n",
       "  \"O-Ethyltoluene\"      => \"C9H12\"\n",
       "  \"Nitromethane\"        => \"CH3NO2\"\n",
       "  \"Eu(III)\"             => \"Eu+3\"\n",
       "  \"N-Tricosane\"         => \"C23H48\"\n",
       "  \"Chlorobenzene\"       => \"C6H5Cl\"\n",
       "  \"N-Octane\"            => \"C8H18\"\n",
       "  \"Fast Green FCF\"      => \"C37H34N2Na2O10S3\"\n",
       "  \"Carbon disulfide\"    => \"CS2\"\n",
       "  \"Pentafluorophenol\"   => \"C6HF5O\"\n",
       "  \"Indigo carmine\"      => \"C16H8N2Na2O8S2\"\n",
       "  \"Hydrogen Chloride\"   => \"HCl\"\n",
       "  ⋮                     => ⋮"
      ]
     },
     "execution_count": 8,
     "metadata": {},
     "output_type": "execute_result"
    }
   ],
   "source": [
    "gas_to_formula = Dict{AbstractString, AbstractString}()\n",
    "for gas in master_list_of_gases\n",
    "    url = host * \"/isodb/api/gas/\" * gas * \".json\"\n",
    "    url = replace(url, \" \" => \"%20\")\n",
    "    r = HTTP.request(\"POST\", url)\n",
    "    gas_data = JSON.parse(String(r.body))\n",
    "    gas_to_formula[gas] = gas_data[\"formula\"]\n",
    "end\n",
    "gas_to_formula"
   ]
  },
  {
   "cell_type": "code",
   "execution_count": 42,
   "metadata": {},
   "outputs": [
    {
     "data": {
      "text/plain": [
       "18.998403"
      ]
     },
     "execution_count": 42,
     "metadata": {},
     "output_type": "execute_result"
    }
   ],
   "source": [
    "atomic_masses = read_atomic_masses()\n",
    "atomic_masses[Symbol(\"F-\")] = atomic_masses[:F] # special treatment for flouride ion"
   ]
  },
  {
   "cell_type": "code",
   "execution_count": 10,
   "metadata": {},
   "outputs": [],
   "source": [
    "function formula_to_mw(formula::AbstractString)\n",
    "    start_i = 1\n",
    "    elements = []\n",
    "    for (end_i, letter) in enumerate(formula)\n",
    "        if end_i == 1\n",
    "            continue\n",
    "        end\n",
    "        if isuppercase(letter)\n",
    "            push!(elements, [start_i, end_i-1])\n",
    "            start_i = end_i\n",
    "        end\n",
    "    end\n",
    "    push!(elements, [start_i, length(formula)])\n",
    "    \n",
    "    total_mw = 0\n",
    "    for element in elements\n",
    "        form = formula[element[1]:element[2]]\n",
    "        contains_digits = any(isdigit(c) for c in form)\n",
    "        if contains_digits\n",
    "            for (i, letter) in enumerate(form)\n",
    "                if isdigit(letter)\n",
    "                    element_mw = atomic_masses[Symbol(form[1:i-1])]\n",
    "                    total_mw += element_mw * parse(Int, form[i:end])\n",
    "                    break\n",
    "                end\n",
    "            end\n",
    "        else\n",
    "            element_mw = atomic_masses[Symbol(form)]\n",
    "            total_mw += element_mw\n",
    "        end\n",
    "    end\n",
    "    return total_mw\n",
    "end\n",
    "\n",
    "@assert isapprox(formula_to_mw(\"CH3OH\"), 32.04, atol=0.01)\n",
    "@assert isapprox(formula_to_mw(\"Ar20\"), 20 * atomic_masses[:Ar], atol=0.01)\n",
    "_atoms = [:C, :H, :Cl, :F, :N, :O, :S]\n",
    "_freq = [9, 11, 2, 1, 2, 2, 2]\n",
    "@assert isapprox(formula_to_mw(\"C9H11Cl2FN2O2S2\"), sum([atomic_masses[a]*f for (a, f) in zip(_atoms, _freq)]),\n",
    "    atol=0.01)"
   ]
  },
  {
   "cell_type": "code",
   "execution_count": 11,
   "metadata": {
    "scrolled": true
   },
   "outputs": [
    {
     "data": {
      "text/plain": [
       "Dict{String,Any} with 15 entries:\n",
       "  \"isotherm_data\"      => Any[Dict{String,Any}(\"pressure\"=>0.0171192,\"total_ads…\n",
       "  \"temperature\"        => 77\n",
       "  \"articleSource\"      => \"UNKNOWN\"\n",
       "  \"compositionType\"    => \"molefraction\"\n",
       "  \"adsorbates\"         => Any[Dict{String,Any}(\"name\"=>\"Hydrogen\",\"InChIKey\"=>\"…\n",
       "  \"adsorptionUnits\"    => \"cm3(STP)/g\"\n",
       "  \"date\"               => \"1000-01-01\"\n",
       "  \"category\"           => \"\"\n",
       "  \"digitizer\"          => \"UNKNOWN\"\n",
       "  \"pressureUnits\"      => \"bar\"\n",
       "  \"DOI\"                => \"10.1002/adem.200500223\"\n",
       "  \"adsorbent\"          => Dict{String,Any}(\"name\"=>\"CuBTC\",\"hashkey\"=>\"NIST-MAT…\n",
       "  \"concentrationUnits\" => \"\"\n",
       "  \"filename\"           => \"10.1002adem.200500223.isotherm1\"\n",
       "  \"isotherm_type\"      => \"\""
      ]
     },
     "execution_count": 11,
     "metadata": {},
     "output_type": "execute_result"
    }
   ],
   "source": [
    "function read_isotherm(isotherm_filename::AbstractString)\n",
    "    isotherm = Dict{AbstractString, Any}()\n",
    "    open(\"isotherms/\" * isotherm_filename * \".json\") do isotherm_file\n",
    "        isotherm = JSON.parse(isotherm_file)\n",
    "    end\n",
    "    return isotherm\n",
    "end\n",
    "\n",
    "isotherm = read_isotherm(\"10.1002adem.200500223.isotherm1\")"
   ]
  },
  {
   "cell_type": "markdown",
   "metadata": {},
   "source": [
    "there are conversion factors to convert the adsorption units into mmol/g."
   ]
  },
  {
   "cell_type": "code",
   "execution_count": 12,
   "metadata": {},
   "outputs": [
    {
     "data": {
      "text/plain": [
       "([0.0171192, 0.0586318, 0.102329, 0.211573, 0.303338, 0.412581, 0.499976, 0.60485, 0.705355, 0.801489, 0.901993, 0.998128], [0.9231339285714286, 3.093375, 4.580848214285715, 6.4096875, 7.507008928571429, 8.409241071428571, 8.921339285714286, 9.506562500000001, 9.969866071428571, 10.311250000000001, 10.603883928571427, 10.823348214285716])"
      ]
     },
     "execution_count": 12,
     "metadata": {},
     "output_type": "execute_result"
    }
   ],
   "source": [
    "function convert_units(isotherm::Dict{<:AbstractString, Any})\n",
    "    aUnit = isotherm[\"adsorptionUnits\"]\n",
    "    @assert aUnit in [\"cm3(STP)/g\", \"g/g\", \"mg/g\", \"ml/g\", \"mmol/g\", \"mmol/kg\", \"mol/g\", \"wt%\"]\n",
    "    @assert isotherm[\"pressureUnits\"] == \"bar\"\n",
    "    \n",
    "    aConversion = 0.0\n",
    "    if aUnit == \"mmol/g\"\n",
    "        aConversion = 1.0\n",
    "    elseif aUnit == \"mmol/kg\"\n",
    "        aConversion = 1.0 / 1000.0\n",
    "    elseif aUnit == \"mol/g\"\n",
    "        aConversion = 1000.0\n",
    "    elseif aUnit == \"wt%\"\n",
    "        # 0.01 (wt %) = (grams of gas adsorbed / grams of empty MOF)\n",
    "        gas = isotherm[\"adsorbates\"][1][\"name\"]\n",
    "        mw = formula_to_mw(gas_to_formula[gas])\n",
    "        aConversion = 1000.0 / mw * 0.01\n",
    "    elseif aUnit == \"g/g\"\n",
    "        gas = isotherm[\"adsorbates\"][1][\"name\"]\n",
    "        mw = formula_to_mw(gas_to_formula[gas])\n",
    "        aConversion = 1000.0 / mw\n",
    "    elseif aUnit == \"ml/g\" || aUnit == \"cm3(STP)/g\"\n",
    "        aConversion = 1.0 / 22.4\n",
    "    elseif aUnit == \"mg/g\"\n",
    "        gas = isotherm[\"adsorbates\"][1][\"name\"]\n",
    "        mw = formula_to_mw(gas_to_formula[gas])\n",
    "        aConversion = 1.0 / mw\n",
    "    else\n",
    "        @error @sprintf(\"Something went wrong with the unit conversion in file %s\", isotherm[\"filename\"])\n",
    "    end\n",
    "    # note: Cory and Arni rigorously checked these multiple times.\n",
    "                                \n",
    "    adsorption = Array{Float64, 1}()\n",
    "    pressure = Array{Float64, 1}()\n",
    "    for data_point in isotherm[\"isotherm_data\"]\n",
    "        push!(pressure, data_point[\"pressure\"])\n",
    "        push!(adsorption, data_point[\"species_data\"][1][\"adsorption\"] * aConversion)\n",
    "    end\n",
    "    \n",
    "    # assert pressures are sorted\n",
    "    @assert all(diff(pressure) .>= 0.0) isotherm[\"filename\"]\n",
    "    \n",
    "    return pressure, adsorption\n",
    "end\n",
    "\n",
    "p, a = convert_units(isotherm)"
   ]
  },
  {
   "cell_type": "markdown",
   "metadata": {},
   "source": [
    "## Filter functions\n",
    "\n",
    "these functions return `true` if we want to keep an isotherm and `false` if we want to throw it away because it doesn't match our criteria."
   ]
  },
  {
   "cell_type": "code",
   "execution_count": 13,
   "metadata": {},
   "outputs": [
    {
     "data": {
      "text/plain": [
       "_check_nb_of_adsorbates (generic function with 2 methods)"
      ]
     },
     "execution_count": 13,
     "metadata": {},
     "output_type": "execute_result"
    }
   ],
   "source": [
    "# is the isotherm unary (if max_adsorbates == 1)?\n",
    "function _check_nb_of_adsorbates(isotherm::Dict{<:AbstractString, Any}, max_adsorbates::Int=1)\n",
    "    if length(isotherm[\"adsorbates\"]) > max_adsorbates\n",
    "        return false\n",
    "    end\n",
    "    return true\n",
    "end"
   ]
  },
  {
   "cell_type": "code",
   "execution_count": 14,
   "metadata": {},
   "outputs": [
    {
     "data": {
      "text/plain": [
       "_check_temperature (generic function with 3 methods)"
      ]
     },
     "execution_count": 14,
     "metadata": {},
     "output_type": "execute_result"
    }
   ],
   "source": [
    "# is the temperature in our range of interest?\n",
    "function _check_temperature(isotherm::Dict{<:AbstractString, Any}, low_temp::Float64=293.0, high_temp::Float64=303.0)\n",
    "    if isotherm[\"temperature\"] >= low_temp && isotherm[\"temperature\"] <= high_temp\n",
    "        return true\n",
    "    end\n",
    "    return false\n",
    "end     "
   ]
  },
  {
   "cell_type": "code",
   "execution_count": 15,
   "metadata": {},
   "outputs": [
    {
     "data": {
      "text/plain": [
       "_check_units (generic function with 2 methods)"
      ]
     },
     "execution_count": 15,
     "metadata": {},
     "output_type": "execute_result"
    }
   ],
   "source": [
    "# are the units valid? (e.g. we don't want to consider per volume adsorption b/c then we need the crystal densities)\n",
    "function _check_units(isotherm::Dict{<:AbstractString, Any}, \n",
    "        valid_units::Array{<:AbstractString, 1}=[\"cm3(STP)/g\", \"g/g\", \"mg/g\", \"ml/g\", \"mmol/g\", \"mmol/kg\", \"mol/g\", \"wt%\"])\n",
    "    if (isotherm[\"adsorptionUnits\"] in valid_units) && isotherm[\"pressureUnits\"] == \"bar\"\n",
    "        return true\n",
    "    end\n",
    "    return false\n",
    "end"
   ]
  },
  {
   "cell_type": "code",
   "execution_count": 16,
   "metadata": {},
   "outputs": [
    {
     "data": {
      "text/plain": [
       "_check_category (generic function with 2 methods)"
      ]
     },
     "execution_count": 16,
     "metadata": {},
     "output_type": "execute_result"
    }
   ],
   "source": [
    "# is the adsorption isotherm categorized as \"exp\" or uncategorized, as opposed to simulated?\n",
    "function _check_category(isotherm::Dict{<:AbstractString, Any}, allow_uncategorized::Bool=true)\n",
    "    if isotherm[\"category\"] == \"exp\" || (isotherm[\"category\"] == \"\" && allow_uncategorized)\n",
    "        return true\n",
    "    end\n",
    "    return false\n",
    "end"
   ]
  },
  {
   "cell_type": "markdown",
   "metadata": {},
   "source": [
    "Lets load in an isotherm to test these functions:"
   ]
  },
  {
   "cell_type": "code",
   "execution_count": 17,
   "metadata": {},
   "outputs": [
    {
     "data": {
      "text/plain": [
       "Dict{String,Any} with 15 entries:\n",
       "  \"isotherm_data\"      => Any[Dict{String,Any}(\"pressure\"=>0.0171192,\"total_ads…\n",
       "  \"temperature\"        => 77\n",
       "  \"articleSource\"      => \"UNKNOWN\"\n",
       "  \"compositionType\"    => \"molefraction\"\n",
       "  \"adsorbates\"         => Any[Dict{String,Any}(\"name\"=>\"Hydrogen\",\"InChIKey\"=>\"…\n",
       "  \"adsorptionUnits\"    => \"cm3(STP)/g\"\n",
       "  \"date\"               => \"1000-01-01\"\n",
       "  \"category\"           => \"\"\n",
       "  \"digitizer\"          => \"UNKNOWN\"\n",
       "  \"pressureUnits\"      => \"bar\"\n",
       "  \"DOI\"                => \"10.1002/adem.200500223\"\n",
       "  \"adsorbent\"          => Dict{String,Any}(\"name\"=>\"CuBTC\",\"hashkey\"=>\"NIST-MAT…\n",
       "  \"concentrationUnits\" => \"\"\n",
       "  \"filename\"           => \"10.1002adem.200500223.isotherm1\"\n",
       "  \"isotherm_type\"      => \"\""
      ]
     },
     "execution_count": 17,
     "metadata": {},
     "output_type": "execute_result"
    }
   ],
   "source": [
    "test_isotherm = read_isotherm(\"10.1002adem.200500223.isotherm1\")"
   ]
  },
  {
   "cell_type": "code",
   "execution_count": 18,
   "metadata": {},
   "outputs": [],
   "source": [
    "@assert _check_category(test_isotherm)\n",
    "@assert !_check_category(test_isotherm, false)\n",
    "@assert _check_units(test_isotherm)\n",
    "@assert !_check_temperature(test_isotherm)\n",
    "@assert _check_temperature(test_isotherm, 0., 100.)\n",
    "@assert _check_nb_of_adsorbates(test_isotherm)"
   ]
  },
  {
   "cell_type": "markdown",
   "metadata": {},
   "source": [
    "## Fitting Functions"
   ]
  },
  {
   "cell_type": "code",
   "execution_count": 19,
   "metadata": {},
   "outputs": [
    {
     "data": {
      "text/plain": [
       "0-element Array{Float64,1}"
      ]
     },
     "execution_count": 19,
     "metadata": {},
     "output_type": "execute_result"
    }
   ],
   "source": [
    "overall_list_of_mse_values = Array{Float64, 1}()\n",
    "overall_list_of_scaled_mse_values = Array{Float64, 1}()"
   ]
  },
  {
   "cell_type": "code",
   "execution_count": 20,
   "metadata": {},
   "outputs": [
    {
     "data": {
      "text/plain": [
       "_fit_henry_to_isotherm (generic function with 2 methods)"
      ]
     },
     "execution_count": 20,
     "metadata": {},
     "output_type": "execute_result"
    }
   ],
   "source": [
    "function _fit_henry_to_isotherm(isotherm::Dict{<:AbstractString, Any}, MSE_threshold::Float64=0.1; verbose::Bool=true)\n",
    "    pressure, adsorption = convert_units(isotherm)\n",
    "    isotherm_df = DataFrame(:p => pressure, :a => adsorption)\n",
    "    options = Optim.Options(iterations=5000)\n",
    "    params = fit_adsorption_isotherm(isotherm_df, :p, :a, :langmuir, options)\n",
    "    H = params[\"M\"] * params[\"K\"]\n",
    "    MSE = params[\"MSE\"]/maximum(adsorption)\n",
    "    push!(overall_list_of_mse_values, MSE)\n",
    "    push!(overall_list_of_scaled_mse_values, MSE/maximum(adsorption))\n",
    "    if MSE >= MSE_threshold\n",
    "        verbose ? @printf(\"MSE of henry fit of file %s is too large\", isotherm[\"filename\"]) : nothing\n",
    "        return missing\n",
    "    elseif params[\"M\"] <= 0 || params[\"K\"] <= 0\n",
    "        verbose ? @printf(\"Optimization of %s resulted in a negative Henry coefficient\", isotherm[\"filename\"]) : nothing\n",
    "        return missing\n",
    "    end\n",
    "    return H\n",
    "end"
   ]
  },
  {
   "cell_type": "code",
   "execution_count": 21,
   "metadata": {},
   "outputs": [
    {
     "data": {
      "text/plain": [
       "_interpolate_isotherm (generic function with 2 methods)"
      ]
     },
     "execution_count": 21,
     "metadata": {},
     "output_type": "execute_result"
    }
   ],
   "source": [
    "function _interpolate_isotherm(isotherm::Dict{<:AbstractString, Any}, interpolation_pressure::Float64=0.1; verbose::Bool=true)\n",
    "    pressure, adsorption = convert_units(isotherm)\n",
    "    if interpolation_pressure < minimum(pressure) || interpolation_pressure > maximum(pressure)\n",
    "        verbose ? @printf(\"Interpolation is not possible in file %s at %.3f bar\", isotherm[\"filename\"], interpolation_pressure) : nothing\n",
    "        return missing\n",
    "    end\n",
    "    pressure_difference = pressure .- interpolation_pressure\n",
    "    i_high = argmax(pressure_difference .>= 0)\n",
    "    i_low = i_high - 1\n",
    "    interpolated_adsorption = adsorption[i_low] + (adsorption[i_high] - adsorption[i_low]) / (pressure[i_high] - pressure[i_low]) * (interpolation_pressure - pressure[i_low])\n",
    "    return interpolated_adsorption\n",
    "end"
   ]
  },
  {
   "cell_type": "markdown",
   "metadata": {},
   "source": [
    "Lets visualize the fits on the test isotherm we loaded previously:"
   ]
  },
  {
   "cell_type": "code",
   "execution_count": 22,
   "metadata": {},
   "outputs": [
    {
     "data": {
      "image/png": "[encoded data removed]",
      "text/plain": [
       "Figure(PyObject <Figure size 400x400 with 1 Axes>)"
      ]
     },
     "metadata": {},
     "output_type": "display_data"
    }
   ],
   "source": [
    "pressure, adsorption = convert_units(test_isotherm)\n",
    "H = _fit_henry_to_isotherm(test_isotherm)\n",
    "fig, ax = plt.subplots(figsize=(4,4))\n",
    "ax.scatter(pressure, adsorption, c=\"red\")\n",
    "old_ylim = ax.get_ylim()\n",
    "ax.plot([0, pressure[end]], [0, pressure[end]*H], c=\"blue\")\n",
    "ax.set_ylim(old_ylim)\n",
    "ax.set_xlabel(\"Pressure (bar)\")\n",
    "ax.set_ylabel(\"Adsorption (mmol/g)\")\n",
    "ax.set_title(\"_fit_henry_to_isotherm Test\")\n",
    "ax.grid(\"on\")\n",
    "plt.tight_layout()\n",
    "plt.show()"
   ]
  },
  {
   "cell_type": "code",
   "execution_count": 23,
   "metadata": {},
   "outputs": [
    {
     "data": {
      "image/png": "[encoded data removed]",
      "text/plain": [
       "Figure(PyObject <Figure size 400x400 with 1 Axes>)"
      ]
     },
     "metadata": {},
     "output_type": "display_data"
    }
   ],
   "source": [
    "pressure, adsorption = convert_units(test_isotherm)\n",
    "p_test = 0.16\n",
    "interpolated_adsorption = _interpolate_isotherm(test_isotherm, p_test)\n",
    "fig, ax = plt.subplots(figsize=(4,4))\n",
    "ax.scatter(pressure, adsorption, c=\"red\")\n",
    "old_ylim = ax.get_ylim()\n",
    "ax.scatter(p_test, interpolated_adsorption, c=\"blue\")\n",
    "ax.set_ylim(old_ylim)\n",
    "ax.set_xlabel(\"Pressure (bar)\")\n",
    "ax.set_ylabel(\"Adsorption (mmol/g)\")\n",
    "ax.set_title(\"_interpolate_isotherm Test\")\n",
    "ax.grid(\"on\")\n",
    "plt.tight_layout()\n",
    "plt.show()"
   ]
  },
  {
   "cell_type": "markdown",
   "metadata": {},
   "source": [
    "### We'll also need a function to get rid of columns and/or rows that contain too few values"
   ]
  },
  {
   "cell_type": "code",
   "execution_count": 24,
   "metadata": {},
   "outputs": [
    {
     "data": {
      "text/plain": [
       "prune (generic function with 2 methods)"
      ]
     },
     "execution_count": 24,
     "metadata": {},
     "output_type": "execute_result"
    }
   ],
   "source": [
    "function prune(H::Array{Union{Float64, Missing}, 2}, min_entries::Int=4)\n",
    "    nm, ng = size(H)\n",
    "    keep_col = trues(ng)\n",
    "    keep_row = trues(nm)\n",
    "    nb_kept_rows_and_cols = sum(keep_row) + sum(keep_col)\n",
    "    nb_cut_cols = 0\n",
    "    nb_cut_rows = 0\n",
    "    count = 0\n",
    "    \n",
    "    while true\n",
    "        for i_row = 1:nm\n",
    "            if sum(.!ismissing.(H[i_row, keep_col])) < min_entries\n",
    "                keep_row[i_row] = false\n",
    "            end\n",
    "        end\n",
    "        \n",
    "        for i_col = 1:ng\n",
    "            if sum(.!ismissing.(H[keep_row, i_col])) < min_entries\n",
    "                keep_col[i_col] = false\n",
    "            end\n",
    "        end\n",
    "        \n",
    "        if nb_kept_rows_and_cols == (sum(keep_row) + sum(keep_col))\n",
    "            break\n",
    "        end\n",
    "        \n",
    "        nb_kept_rows_and_cols = sum(keep_row) + sum(keep_col)\n",
    "        count += 1\n",
    "    end\n",
    "    \n",
    "    rows_cut = sum(.!keep_row)\n",
    "    cols_cut  = sum(.!keep_col)\n",
    "    \n",
    "    @printf(\"Minimum entries required in each column/row of H: %d\\n\", min_entries)\n",
    "    @printf(\"Number of gases cut: %d\\n\", cols_cut)\n",
    "    @printf(\"Number of materials cut: %d\\n\", rows_cut)\n",
    "    @printf(\"Dimensions of H went from (%d, %d) to (%d, %d)\\n\", nm, ng, nm-rows_cut, ng-cols_cut)\n",
    "    @printf(\"Number of iterations required to prune H: %d\\n\", count)\n",
    "    \n",
    "    return keep_row, keep_col\n",
    "end"
   ]
  },
  {
   "cell_type": "markdown",
   "metadata": {},
   "source": [
    "### Before we start filling <b>H</b>, lets merge some materials together that should be listed under the same material but aren't"
   ]
  },
  {
   "cell_type": "code",
   "execution_count": 25,
   "metadata": {},
   "outputs": [
    {
     "data": {
      "text/plain": [
       "6589"
      ]
     },
     "execution_count": 25,
     "metadata": {},
     "output_type": "execute_result"
    }
   ],
   "source": [
    "argmax(master_list_of_materials .== \"Mn-MOF-74\")"
   ]
  },
  {
   "cell_type": "code",
   "execution_count": 26,
   "metadata": {},
   "outputs": [
    {
     "data": {
      "text/plain": [
       "\"Mg2(dobpdc)\""
      ]
     },
     "execution_count": 26,
     "metadata": {},
     "output_type": "execute_result"
    }
   ],
   "source": [
    "master_list_of_materials[1]"
   ]
  },
  {
   "cell_type": "code",
   "execution_count": 27,
   "metadata": {},
   "outputs": [
    {
     "data": {
      "text/plain": [
       "delete_materials (generic function with 1 method)"
      ]
     },
     "execution_count": 27,
     "metadata": {},
     "output_type": "execute_result"
    }
   ],
   "source": [
    "function delete_materials(master_list_of_materials::Array{AbstractString, 1}, to_be_deleted::Array{<:AbstractString, 1})\n",
    "    to_keep = trues(length(master_list_of_materials))\n",
    "    for material in to_be_deleted\n",
    "        if !(material in master_list_of_materials)\n",
    "            @warn @sprintf(\"%s does not exist in the master list of materials.\", material)\n",
    "        else\n",
    "            delete_index = argmax(master_list_of_materials .== material)\n",
    "            to_keep[delete_index] = false\n",
    "        end\n",
    "    end\n",
    "    return master_list_of_materials[to_keep]\n",
    "end\n"
   ]
  },
  {
   "cell_type": "code",
   "execution_count": 28,
   "metadata": {},
   "outputs": [
    {
     "name": "stderr",
     "output_type": "stream",
     "text": [
      "┌ Warning: should_not_exist does not exist in the master list of materials.\n",
      "└ @ Main In[27]:5\n"
     ]
    },
    {
     "data": {
      "text/plain": [
       "7006-element Array{AbstractString,1}:\n",
       " \"Mg2(dobpdc)\"                               \n",
       " \"Li-FAU(1.0)\"                               \n",
       " \"Soc-MOF\"                                   \n",
       " \"MIL-140C-25\"                               \n",
       " \"MOF-GO PSN\"                                \n",
       " \"1% Pt/BAl 1.0\"                             \n",
       " \"NENU-11\"                                   \n",
       " \"AMSA-MIL-101\"                              \n",
       " \"{[Co(dpt24)2)]*0.5DMF}n\"                   \n",
       " \"HFCP-17\"                                   \n",
       " \"MTV-IRMOF-1-AE\"                            \n",
       " \"36 wt% CuCl/NaX\"                           \n",
       " \"Coal RU1\"                                  \n",
       " ⋮                                           \n",
       " \"HB-d\"                                      \n",
       " \"Graphite (2-nm pore width)\"                \n",
       " \"Hydrated Graphite (20 Angstrom pore width)\"\n",
       " \"Gd2(ADB)3(DMSO)4*6DMSO*8H2O\"               \n",
       " \"[Cd2(Me4bpz)4{SiF6}{NCS}2]*6CHCl3\"         \n",
       " \"{[Cu2(pzdc)2(bpy)]*4H2O}\"                  \n",
       " \"Tb3+@Al-MIL-53-COOH\"                       \n",
       " \"UCY-1\"                                     \n",
       " \"NH2-MOF-199\"                               \n",
       " \"carbon-ZX 2.6nm slit pore\"                 \n",
       " \"Zn-DDQ\"                                    \n",
       " \"IRMOF-M8\"                                  "
      ]
     },
     "execution_count": 28,
     "metadata": {},
     "output_type": "execute_result"
    }
   ],
   "source": [
    "master_list_of_materials = delete_materials(master_list_of_materials, [\"Pillared Layered Materials\", \"should_not_exist\"])"
   ]
  },
  {
   "cell_type": "code",
   "execution_count": 29,
   "metadata": {},
   "outputs": [
    {
     "data": {
      "text/plain": [
       "merge_materials (generic function with 1 method)"
      ]
     },
     "execution_count": 29,
     "metadata": {},
     "output_type": "execute_result"
    }
   ],
   "source": [
    "# Return a new master_list_of_materials\n",
    "# Also modifies the pre-existing `isotherm_dictionary`\n",
    "function merge_materials(master_list_of_materials::Array{AbstractString, 1}, target::AbstractString, to_be_merged::Array{<:AbstractString, 1})\n",
    "    # First we delete the MOFs that are to be merged from the master list of materials\n",
    "    index_of_to_be_merged = [(mof in to_be_merged) for mof in master_list_of_materials]\n",
    "    new_master_list_of_materials = master_list_of_materials[.!index_of_to_be_merged]\n",
    "\n",
    "    # Then we combine the isotherms from the merged materials with the target material\n",
    "    for gas_key in keys(isotherm_dictionary)\n",
    "        for merging_material in to_be_merged\n",
    "            if haskey(isotherm_dictionary[gas_key], merging_material)\n",
    "                if !haskey(isotherm_dictionary[gas_key], target)\n",
    "                    isotherm_dictionary[gas_key][target] = Array{AbstractString, 1}()\n",
    "                end\n",
    "                append!(isotherm_dictionary[gas_key][target], isotherm_dictionary[gas_key][merging_material])\n",
    "            end\n",
    "        end\n",
    "    end\n",
    "    return new_master_list_of_materials\n",
    "end"
   ]
  },
  {
   "cell_type": "code",
   "execution_count": 30,
   "metadata": {},
   "outputs": [
    {
     "data": {
      "text/plain": [
       "6863-element Array{AbstractString,1}:\n",
       " \"Mg2(dobpdc)\"                               \n",
       " \"Li-FAU(1.0)\"                               \n",
       " \"Soc-MOF\"                                   \n",
       " \"MIL-140C-25\"                               \n",
       " \"MOF-GO PSN\"                                \n",
       " \"1% Pt/BAl 1.0\"                             \n",
       " \"NENU-11\"                                   \n",
       " \"AMSA-MIL-101\"                              \n",
       " \"{[Co(dpt24)2)]*0.5DMF}n\"                   \n",
       " \"HFCP-17\"                                   \n",
       " \"MTV-IRMOF-1-AE\"                            \n",
       " \"36 wt% CuCl/NaX\"                           \n",
       " \"Coal RU1\"                                  \n",
       " ⋮                                           \n",
       " \"HB-d\"                                      \n",
       " \"Graphite (2-nm pore width)\"                \n",
       " \"Hydrated Graphite (20 Angstrom pore width)\"\n",
       " \"Gd2(ADB)3(DMSO)4*6DMSO*8H2O\"               \n",
       " \"[Cd2(Me4bpz)4{SiF6}{NCS}2]*6CHCl3\"         \n",
       " \"{[Cu2(pzdc)2(bpy)]*4H2O}\"                  \n",
       " \"Tb3+@Al-MIL-53-COOH\"                       \n",
       " \"UCY-1\"                                     \n",
       " \"NH2-MOF-199\"                               \n",
       " \"carbon-ZX 2.6nm slit pore\"                 \n",
       " \"Zn-DDQ\"                                    \n",
       " \"IRMOF-M8\"                                  "
      ]
     },
     "execution_count": 30,
     "metadata": {},
     "output_type": "execute_result"
    }
   ],
   "source": [
    "new_master_list_of_materials = merge_materials(master_list_of_materials, \"Mg-MOF-74\", \n",
    "                                                            [\"CPO-27-Mg\", \"CPO-27-Mg(100%)\", \"CPO-27-Mg-a\", \"CPO-27-Mg-b\", \"CPO-27-Mg-c\", \"Mg-MOF-74 (3)\", \n",
    "                                                             \"Mg-MOF-74 (4)\", \"MOF-74(Mg)-1st cycle\", \"Mg-MOF-74(C)\", \"Mg-MOF-74(C)-TEA\", \"Mg-MOF-74(S)\",\n",
    "                                                             \"Mg-DOBDC\", \"Mg2(dobdc)\"])\n",
    "new_master_list_of_materials = merge_materials(new_master_list_of_materials, \"CPO-27-Co\",\n",
    "                                                            [\"Co-MOF-74(M)\", \"Co-MOF-74(S)\", \"Co-DOBDC\", \"Co2(dobdc)\"])\n",
    "new_master_list_of_materials = merge_materials(new_master_list_of_materials, \"CPO-27-Ni\",\n",
    "                                                            [\"Ni-MOF-74 (1)\", \"Ni-MOF-74 (2)\", \"MOF-74-Ni\", \"MOF-74Ni 70C\", \"Ni-DOBDC\", \"Ni2(dobdc)\"])\n",
    "new_master_list_of_materials = merge_materials(new_master_list_of_materials, \"Mn-MOF-74\",\n",
    "                                                            [\"CPO-27-Mn\", \"Mn-DOBDC\", \"Mn2(dobdc)\"])\n",
    "new_master_list_of_materials = merge_materials(new_master_list_of_materials, \"Zn-MOF-74\",\n",
    "                                                            [\"Zn-MOF-74(cycle 1)\", \"Zn-MOF-74(cycle 2)\", \"Zn-MOF-74(cycle 3)\", \"Zn-MOF-74(cycle 4)\",\n",
    "                                                             \"Zn-MOF-74(cycle 5)\", \"CPO-27-Zn\", \"MOF-74\", \"MOF-74 (DMF)\", \"MOF-74 (water)\",\n",
    "                                                             \"Zn-DOBDC\", \"Zn2(dobdc)\"])\n",
    "new_master_list_of_materials = merge_materials(new_master_list_of_materials, \"Cu-BDC\",\n",
    "                                                            [\"Cu(BDC) (60mL DMF 100W Microwave)\", \"Cu(BDC) (60mL DMF 300W Microwave)\",\n",
    "                                                             \"Cu(BDC) (87mL DMF 100W Microwave)\", \"Cu(BDC) (87mL DMF 300W Microwave)\"])\n",
    "new_master_list_of_materials = merge_materials(new_master_list_of_materials, \"CuBTC\",\n",
    "                                                            [\"Cu-BTC (diethylene glycol)\", \"Cu-BTC (ethylene glycol)\", \"Cu-HKUST-1\", \"CuBTC 100/100\",\n",
    "                                                             \"CuBTC 50/110\", \"CuBTC 75/110\", \"CuBTC 75/140\", \"CuBTC 75/80\", \"Cu2(BTC)3\", \"CuBTC(Cu)\",\n",
    "                                                             \"CuBTC-MW\", \"HKUST-1 (0T)\", \"HKUST-1 (1 pot)\"])\n",
    "new_master_list_of_materials = merge_materials(new_master_list_of_materials, \"Cu-SDU-1\",\n",
    "                                                            [\"Cu-SDU-1 (100 degrees C)\", \"Cu-SDU-1 (40 degrees C)\", \"Cu-SDU-1 (80 degrees C)\"])\n",
    "new_master_list_of_materials = merge_materials(new_master_list_of_materials, \"Fe-MOF-74\",\n",
    "                                                            [\"CPO-27-Fe\", \"Fe2(dobdc)\"])\n",
    "new_master_list_of_materials = merge_materials(new_master_list_of_materials, \"IRMOF-1\",\n",
    "                                                            [\"MOF-5 (1.5 hours activated)\", \"MOF-5 (Na2BDC 298)\", \"MOF-5 (Na2BDC 373)\", \"MOF-5-.5h in humid air\",\n",
    "                                                             \"MOF-5-24h in humid air\", \"MOF-5-2h in humid air\", \"MOF-5-48h in humid air\", \"MOF-5-40h\", \n",
    "                                                             \"MOF-5-61% humidity\", \"MOF-5-61% humidity-exposedtoair.5h\", \"MOF-5-61% humidity-exposedtoair24h\",\n",
    "                                                             \"MOF-5-61% humidity-exposedtoair2h\", \"MOF-5-61% humidity-exposedtoair48h\", \"MOF-5-BPO\",\n",
    "                                                             \"MOF-5-BPO (cBPO = .04 M)\", \"MOF-5-BPO (cBPO = .06 M)\"])\n",
    "new_master_list_of_materials = merge_materials(new_master_list_of_materials, \"Ni(bodc)(ted)0.5\",\n",
    "                                                            [\"Ni-bodc-ted\"])\n",
    "new_master_list_of_materials = merge_materials(new_master_list_of_materials, \"Ni(bdc)(ted)0.5\",\n",
    "                                                            [\"Ni(bdc)(ted)0.5 t=100\", \"Ni(bdc)(ted)0.5 t=15\"])\n",
    "new_master_list_of_materials = merge_materials(new_master_list_of_materials, \"PCN-14\",\n",
    "                                                            [\"PCN-14(440)\", \"PCN-14(450)\", \"PCN-14(500)\", \"PCN-14(550)\", \"PCN-14(600)\"])\n",
    "new_master_list_of_materials = merge_materials(new_master_list_of_materials, \"UiO-66\",\n",
    "                                                            [\"UiO-66 (24h)\", \"UiO-66 (2h)\", \"UiO-66 (48h)\", \"UiO-66 (4h)\", \"UiO-66 (72h)\",\n",
    "                                                             \"UiO-66 (8h)\", \"UiO-66 (solvothermal)\", \"UiO-66(Zr)\", \"UiO-66(Zr) 100 Equ. FA\",\n",
    "                                                             \"UiO-66(Zr) 30 Equ. AA\"])\n",
    "new_master_list_of_materials = merge_materials(new_master_list_of_materials, \"UiO-66-NH2\",\n",
    "                                                            [\"UiO-66-NH2(100)\", \"UiO-66-NH2(67)\", \"UiO-66-NH2(33)\"])\n",
    "new_master_list_of_materials = merge_materials(new_master_list_of_materials, \"UiO-66-(COOH)2\",\n",
    "                                                            [\"UiO-66(Zr)-(COOH)2\", \"UiO-66(Zr)-(COOH)2 (303K)\", \"UiO-66(Zr)-(COOH)2 (323K)\", \n",
    "                                                             \"UiO-66(Zr)-(COOH)2 (343K)\", \"UiO-66(Zr)-(COOH)2 (348K)\", \"UiO-66(Zr)-(COOH)2 (373K)\",\n",
    "                                                             \"UiO-66(Zr)-(COOH)2 (383K)\", \"UiO-66(Zr)-(COOH)2 (423K)\", \"UiO-66(Zr)-(COOH)2 (463K)\", \n",
    "                                                             \"UiO-66(Zr)-(COOH)2 (473K)\"])\n",
    "new_master_list_of_materials = merge_materials(new_master_list_of_materials, \"SNU-9\",\n",
    "                                                            [\"SNU-9 (10 cycles)\", \"SNU-9 (100 cycles)\"])\n",
    "new_master_list_of_materials = merge_materials(new_master_list_of_materials, \"ZIF-8\",\n",
    "                                                            [\"ZIF-8 (BULK)\", \"ZIF-8 (crystal = 0.060 micrometers)\", \"ZIF-8 (crystal = 0.33 micrometers)\", \n",
    "                                                             \"ZIF-8 (crystal = 0.47 micrometers)\", \"ZIF-8 (crystal = 0.73 micrometers)\", \n",
    "                                                             \"ZIF-8 (crystal = 1.2 micrometers)\", \"ZIF-8 (crystal = 2.1 micrometers)\",\n",
    "                                                             \"ZIF-8 (crystal = 88 micrometers)\", \"ZIF-8 (Large Size)\", \"ZIF-8 (Middle Size)\", \"ZIF-8 (Small Size)\",\n",
    "                                                             \"ZIF-8-0.025 WT% CTAB\", \"ZIF-8-C_100_2d\", \"ZIF-8-C_200_2d\", \"ZIF-8-C_250_2d\", \"ZIF-8-C_250_2d_V\",\n",
    "                                                             \"ZIF-8-M_100_7d\", \"ZIF-8-M_200_2d\", \"ZIF-8-M_250_2d\", \"ZIF-8-M_250_2d_V\", \"ZIF-8-W_100_7d\",\n",
    "                                                             \"ZIF-8-W_200_2d\", \"ZIF-8-W_250_2d\", \"ZIF-8-W_250_2d_V\", \"ZIF-8ER\", \"ZIF-8HP\", \"ZIF-8HT\",\n",
    "                                                             \"ZIF-8LT\", \"ZIF-8LT-HT\"])\n",
    "new_master_list_of_materials = merge_materials(new_master_list_of_materials, \"MCM-41\",\n",
    "                                                            [\"2650 K MCM-41\", \"300 K MCM-41\", \"MCM-41 d=2.8 nm\", \"MCM-41 d=3.1 nm\",\n",
    "                                                             \"MCM-41 1000C\", \"MCM-41 500C\", \"MCM-41 700C\", \"MCM-41 900C\"])\n",
    "master_list_of_materials = merge_materials(new_master_list_of_materials, \"Cu-MOF-74\",\n",
    "                                                            [\"Cu-DOBDC (DREIDING Parameters-Universal Force Field + TraPPe Model)\", \n",
    "                                                             \"CPO-27-Cu\", \"Cu2(dobdc)\"])"
   ]
  },
  {
   "cell_type": "markdown",
   "metadata": {},
   "source": [
    "### Lets initialize our data matrix <b>H</b>"
   ]
  },
  {
   "cell_type": "code",
   "execution_count": 31,
   "metadata": {},
   "outputs": [
    {
     "name": "stdout",
     "output_type": "stream",
     "text": [
      "Number of materials: 6863\n",
      "Number of gases: 356\n"
     ]
    },
    {
     "data": {
      "text/plain": [
       "6863×356 Array{Union{Missing, Float64},2}:\n",
       " missing  missing  missing  missing  …  missing  missing  missing  missing\n",
       " missing  missing  missing  missing     missing  missing  missing  missing\n",
       " missing  missing  missing  missing     missing  missing  missing  missing\n",
       " missing  missing  missing  missing     missing  missing  missing  missing\n",
       " missing  missing  missing  missing     missing  missing  missing  missing\n",
       " missing  missing  missing  missing  …  missing  missing  missing  missing\n",
       " missing  missing  missing  missing     missing  missing  missing  missing\n",
       " missing  missing  missing  missing     missing  missing  missing  missing\n",
       " missing  missing  missing  missing     missing  missing  missing  missing\n",
       " missing  missing  missing  missing     missing  missing  missing  missing\n",
       " missing  missing  missing  missing  …  missing  missing  missing  missing\n",
       " missing  missing  missing  missing     missing  missing  missing  missing\n",
       " missing  missing  missing  missing     missing  missing  missing  missing\n",
       " ⋮                                   ⋱                             ⋮      \n",
       " missing  missing  missing  missing     missing  missing  missing  missing\n",
       " missing  missing  missing  missing     missing  missing  missing  missing\n",
       " missing  missing  missing  missing     missing  missing  missing  missing\n",
       " missing  missing  missing  missing     missing  missing  missing  missing\n",
       " missing  missing  missing  missing  …  missing  missing  missing  missing\n",
       " missing  missing  missing  missing     missing  missing  missing  missing\n",
       " missing  missing  missing  missing     missing  missing  missing  missing\n",
       " missing  missing  missing  missing     missing  missing  missing  missing\n",
       " missing  missing  missing  missing     missing  missing  missing  missing\n",
       " missing  missing  missing  missing  …  missing  missing  missing  missing\n",
       " missing  missing  missing  missing     missing  missing  missing  missing\n",
       " missing  missing  missing  missing     missing  missing  missing  missing"
      ]
     },
     "execution_count": 31,
     "metadata": {},
     "output_type": "execute_result"
    }
   ],
   "source": [
    "nm = length(master_list_of_materials)\n",
    "ng = length(master_list_of_gases)\n",
    "@printf(\"Number of materials: %d\\nNumber of gases: %d\\n\", nm, ng)\n",
    "H = Array{Union{Float64, Missing}, 2}(undef, nm, ng)\n",
    "fill!(H, missing)"
   ]
  },
  {
   "cell_type": "markdown",
   "metadata": {},
   "source": [
    "## Lets create the function that fills in <b>H</b>"
   ]
  },
  {
   "cell_type": "code",
   "execution_count": 43,
   "metadata": {},
   "outputs": [
    {
     "name": "stdout",
     "output_type": "stream",
     "text": [
      "Rhodamine B\n",
      "MSE of henry fit of file 10.1039c7sm01977g.Isotherm2 is too largeChlorobenzene\n",
      "N-tridecane\n",
      "Isopropylamine\n",
      "N-Perfluoroethane\n",
      "2-Pentanone\n",
      "Furfural\n",
      "M-dichlorobenzene\n",
      "Fluoride Ion\n",
      "MSE of henry fit of file 10.1002slct.201701072.Isotherm1 is too largeM-Dinitrobenzene\n",
      "Tetrahydrophenanthrene\n",
      "Scandium\n",
      "Arsenic\n",
      "MSE of henry fit of file 10.1016j.apsusc.2017.04.137.Isotherm3 is too largeMSE of henry fit of file 10.1016j.apsusc.2017.04.137.Isotherm2 is too largeC2H10Zn\n",
      "Solcoat P55\n",
      "Bromo-chloro-fluoromethane\n",
      "1-hexanol\n",
      "Butan-1-amine\n",
      "Methyl oleate\n",
      "Xenon\n"
     ]
    },
    {
     "ename": "ErrorException",
     "evalue": "Optimization algorithm failed!",
     "output_type": "error",
     "traceback": [
      "Optimization algorithm failed!",
      "",
      "Stacktrace:",
      " [1] error(::String) at ./error.jl:33",
      " [2] fit_adsorption_isotherm(::DataFrame, ::Symbol, ::Symbol, ::Symbol, ::Optim.Options{Float64,Nothing}) at /home/simoncor/.julia/dev/PorousMaterials/src/Misc.jl:202",
      " [3] #_fit_henry_to_isotherm#9(::Bool, ::typeof(_fit_henry_to_isotherm), ::Dict{String,Any}, ::Float64) at ./In[20]:5",
      " [4] _fit_henry_to_isotherm at ./In[20]:2 [inlined] (repeats 2 times)",
      " [5] _broadcast_getindex_evalf at ./broadcast.jl:630 [inlined]",
      " [6] _broadcast_getindex at ./broadcast.jl:603 [inlined]",
      " [7] getindex at ./broadcast.jl:563 [inlined]",
      " [8] copy at ./broadcast.jl:853 [inlined]",
      " [9] materialize(::Base.Broadcast.Broadcasted{Base.Broadcast.DefaultArrayStyle{1},Nothing,typeof(_fit_henry_to_isotherm),Tuple{Array{Dict{String,Any},1}}}) at ./broadcast.jl:819",
      " [10] fill_H(::Array{Union{Missing, Float64},2}, ::Array{Function,1}, ::Function, ::Array{typeof(log10),1}) at ./In[43]:22",
      " [11] top-level scope at In[43]:50"
     ]
    }
   ],
   "source": [
    "function fill_H(H::Array{Union{Float64, Missing}, 2}, filter_functions::Array{<:Function, 1}, \n",
    "        fit_function::Function, post_functions::Array{<:Function, 1})\n",
    "    for (j, gas) in enumerate(master_list_of_gases)\n",
    "        println(gas)\n",
    "        if !haskey(isotherm_dictionary, gas)\n",
    "            continue\n",
    "        end\n",
    "        for (i, material) in enumerate(master_list_of_materials)\n",
    "            if !haskey(isotherm_dictionary[gas], material)\n",
    "                continue\n",
    "            end\n",
    "            isotherm_list = isotherm_dictionary[gas][material]\n",
    "            isotherms = read_isotherm.(isotherm_list)\n",
    "            ### Lets run the validity functions to see which isotherm files are valid\n",
    "            valid_isotherms = trues(length(isotherm_list))\n",
    "            for filter_func in filter_functions\n",
    "                valid_isotherms .= valid_isotherms .& filter_func.(isotherms)\n",
    "            end\n",
    "            \n",
    "            ### Lets run the fitting function now\n",
    "#             fit_vals = Array{Union{Float64, Missing}}(undef, length(isotherm_list[valid_isotherms]))\n",
    "            fit_vals = fit_function.(isotherms[valid_isotherms])\n",
    "#             for (k, isotherm) in enumerate(isotherms)\n",
    "#                 fit_vals[k] = fit_function(isotherm)\n",
    "#                 if ismissing(fit_vals[k]) # fit_function failed!\n",
    "#                     valid_isotherms[k] = false\n",
    "#                 end\n",
    "#             end\n",
    "            if length(collect(skipmissing(fit_vals))) == 0\n",
    "                continue\n",
    "            end\n",
    "                \n",
    "            # Lets take the median of the fitted values to try to remove the effects of outlieres\n",
    "            H[i,j] = median(skipmissing(fit_vals))\n",
    "                \n",
    "            ### And finally lets run the post processing functions\n",
    "            for post_func in post_functions\n",
    "                H[i,j] = post_func(H[i,j])\n",
    "            end\n",
    "        end\n",
    "    end\n",
    "    @printf(\"Sparsity before pruning: %.2f%%\\n\", sum(ismissing.(H))/length(H)*100)\n",
    "\n",
    "    keep_row, keep_col = prune(H)\n",
    "    H = H[keep_row, keep_col]\n",
    "\n",
    "    @printf(\"Sparsity after pruning: %.2f%%\\n\", sum(ismissing.(H))/length(H)*100)\n",
    "    return H, keep_row, keep_col\n",
    "end\n",
    "                    \n",
    "new_H, keep_row, keep_col = fill_H(H, [_check_nb_of_adsorbates, _check_temperature, _check_units, _check_category], _fit_henry_to_isotherm, [log10])\n",
    "master_list_of_gases = master_list_of_gases[keep_col];\n",
    "master_list_of_materials = master_list_of_materials[keep_row];"
   ]
  },
  {
   "cell_type": "code",
   "execution_count": 33,
   "metadata": {},
   "outputs": [
    {
     "ename": "UndefVarError",
     "evalue": "UndefVarError: new_H not defined",
     "output_type": "error",
     "traceback": [
      "UndefVarError: new_H not defined",
      "",
      "Stacktrace:",
      " [1] (::var\"#13#14\")(::JLD2.JLDFile{JLD2.MmapIO}) at /home/simoncor/.julia/packages/JLD2/Eak1L/src/loadsave.jl:50",
      " [2] #jldopen#31(::Base.Iterators.Pairs{Union{},Union{},Tuple{},NamedTuple{(),Tuple{}}}, ::typeof(jldopen), ::var\"#13#14\", ::String, ::Vararg{String,N} where N) at /home/simoncor/.julia/packages/JLD2/Eak1L/src/loadsave.jl:4",
      " [3] jldopen(::Function, ::String, ::String) at /home/simoncor/.julia/packages/JLD2/Eak1L/src/loadsave.jl:2",
      " [4] top-level scope at /home/simoncor/.julia/packages/JLD2/Eak1L/src/loadsave.jl:48",
      " [5] top-level scope at In[33]:1"
     ]
    }
   ],
   "source": [
    "# Henry_dataframe = DataFrame(new_H)\n",
    "# names!(Henry_dataframe, Symbol.(master_list_of_gases))\n",
    "# insertcols!(Henry_dataframe, 1, :material_name => master_list_of_materials)\n",
    "# CSV.write(\"data/Henry_matrix.csv\", Henry_dataframe)\n",
    "@save \"logH_matrix_materials_and_gases.jld2\" new_H master_list_of_materials master_list_of_gases"
   ]
  },
  {
   "cell_type": "code",
   "execution_count": 34,
   "metadata": {},
   "outputs": [
    {
     "ename": "UndefVarError",
     "evalue": "UndefVarError: new_H not defined",
     "output_type": "error",
     "traceback": [
      "UndefVarError: new_H not defined",
      "",
      "Stacktrace:",
      " [1] top-level scope at In[34]:1"
     ]
    }
   ],
   "source": [
    "new_H"
   ]
  },
  {
   "cell_type": "code",
   "execution_count": 35,
   "metadata": {},
   "outputs": [
    {
     "data": {
      "image/png": "[encoded data removed]",
      "text/plain": [
       "Figure(PyObject <Figure size 800x600 with 1 Axes>)"
      ]
     },
     "metadata": {},
     "output_type": "display_data"
    }
   ],
   "source": [
    "fig, ax = plt.subplots(figsize=(8,6))\n",
    "ax.hist(overall_list_of_mse_values, range=[0, 0.5], edgecolor=\"k\", color=\"#aaffc3\", alpha=0.5)\n",
    "ax.hist(overall_list_of_scaled_mse_values, range=[0, 0.5], edgecolor=\"k\", color=\"#f58231\", alpha=0.5)\n",
    "\n",
    "ax.set_xlabel(\"MSE Values from Fitting procedure\")\n",
    "ax.set_ylabel(\"Frequency\")\n",
    "plt.tight_layout()\n",
    "plt.show()"
   ]
  },
  {
   "cell_type": "code",
   "execution_count": null,
   "metadata": {},
   "outputs": [],
   "source": []
  }
 ],
 "metadata": {
  "@webio": {
   "lastCommId": "f8a46096b97f4dd1986689932283b3d7",
   "lastKernelId": "ca45af05-16ce-42ea-9c8a-b29df556e806"
  },
  "kernelspec": {
   "display_name": "Julia 1.3.0",
   "language": "julia",
   "name": "julia-1.3"
  },
  "language_info": {
   "file_extension": ".jl",
   "mimetype": "application/julia",
   "name": "julia",
   "version": "1.3.0"
  }
 },
 "nbformat": 4,
 "nbformat_minor": 2
}
