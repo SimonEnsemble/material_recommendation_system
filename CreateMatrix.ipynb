{
 "cells": [
  {
   "cell_type": "code",
   "execution_count": 1,
   "metadata": {},
   "outputs": [
    {
     "name": "stderr",
     "output_type": "stream",
     "text": [
      "┌ Info: Precompiling PorousMaterials [top-level]\n",
      "└ @ Base loading.jl:1273\n"
     ]
    }
   ],
   "source": [
    "using CSV\n",
    "using DataFrames\n",
    "using Printf\n",
    "using LinearAlgebra\n",
    "using Statistics\n",
    "using StatsBase\n",
    "using PyPlot\n",
    "using PorousMaterials: fit_adsorption_isotherm, read_atomic_masses, FitError\n",
    "using LaTeXStrings\n",
    "using ProgressMeter\n",
    "using HTTP\n",
    "using JSON\n",
    "using Optim\n",
    "using JLD2"
   ]
  },
  {
   "cell_type": "code",
   "execution_count": 2,
   "metadata": {},
   "outputs": [
    {
     "data": {
      "text/plain": [
       "true"
      ]
     },
     "execution_count": 2,
     "metadata": {},
     "output_type": "execute_result"
    }
   ],
   "source": [
    "USE_LOCAL_FILES_IF_AVAILABLE = true"
   ]
  },
  {
   "cell_type": "markdown",
   "metadata": {},
   "source": [
    "## Lets start by loading in information from the NIST DB"
   ]
  },
  {
   "cell_type": "code",
   "execution_count": 3,
   "metadata": {},
   "outputs": [
    {
     "data": {
      "text/plain": [
       "\"https://adsorption.nist.gov\""
      ]
     },
     "execution_count": 3,
     "metadata": {},
     "output_type": "execute_result"
    }
   ],
   "source": [
    "host = \"https://adsorption.nist.gov\""
   ]
  },
  {
   "cell_type": "code",
   "execution_count": 4,
   "metadata": {},
   "outputs": [
    {
     "name": "stdout",
     "output_type": "stream",
     "text": [
      "Your version is up to date\n",
      "Current version: 3.8881\n",
      "Last updated: 2020-01-14 15:34:36\n"
     ]
    }
   ],
   "source": [
    "url = host * \"/api/version.json\"\n",
    "r = HTTP.request(\"POST\", url)\n",
    "new_version_data = JSON.parse(String(r.body))\n",
    "if USE_LOCAL_FILES_IF_AVAILABLE\n",
    "    @load joinpath(\"data\", \"version.jld2\") version_data\n",
    "    if new_version_data[\"version\"] != version_data[\"version\"]\n",
    "        @warn @sprintf(\"A new version has been released. Think about rerunning the notebook with `USE_LOCAL_FILES_IF_AVAILABLE = false`\\n\n",
    "            Current version: %s\\n New version: %s\\n\n",
    "            Comment from new version: %s\\n\", version_data[\"version\"], new_version_data[\"version\"], new_version_data[\"comment\"])\n",
    "    else\n",
    "        @printf(\"Your version is up to date\\nCurrent version: %s\\nLast updated: %s\\n\", version_data[\"version\"], version_data[\"date\"])\n",
    "    end\n",
    "else\n",
    "    version_data = deepcopy(new_version_data)\n",
    "    @save joinpath(\"data\", \"version.jld2\") version_data\n",
    "end\n",
    "    "
   ]
  },
  {
   "cell_type": "markdown",
   "metadata": {},
   "source": [
    "### Gases:"
   ]
  },
  {
   "cell_type": "code",
   "execution_count": 5,
   "metadata": {
    "scrolled": true
   },
   "outputs": [
    {
     "name": "stdout",
     "output_type": "stream",
     "text": [
      "how many gases? 356\n"
     ]
    }
   ],
   "source": [
    "key_to_gas = Dict{AbstractString, AbstractString}()\n",
    "if isfile(joinpath(\"data\", \"key_to_gas.jld2\")) && USE_LOCAL_FILES_IF_AVAILABLE\n",
    "    @load joinpath(\"data\", \"key_to_gas.jld2\") key_to_gas\n",
    "else\n",
    "    @printf(\"Downloading data from the NIST DB\\n\")\n",
    "    url = host * \"/isodb/api/gases.json\"\n",
    "    r = HTTP.request(\"POST\", url)\n",
    "    gas_data = JSON.parse(String(r.body))\n",
    "\n",
    "    for gas in gas_data\n",
    "        key_to_gas[gas[\"InChIKey\"]] = gas[\"name\"]\n",
    "    end\n",
    "    @save joinpath(\"data\", \"key_to_gas.jld2\") key_to_gas\n",
    "end\n",
    "println(\"how many gases? \", length(key_to_gas))"
   ]
  },
  {
   "cell_type": "markdown",
   "metadata": {},
   "source": [
    "### Porous Materials"
   ]
  },
  {
   "cell_type": "code",
   "execution_count": 6,
   "metadata": {},
   "outputs": [
    {
     "name": "stdout",
     "output_type": "stream",
     "text": [
      "how many materials? 7007\n"
     ]
    }
   ],
   "source": [
    "key_to_material = Dict{AbstractString, AbstractString}()\n",
    "if isfile(joinpath(\"data\", \"key_to_material.jld2\")) && USE_LOCAL_FILES_IF_AVAILABLE\n",
    "    @load joinpath(\"data\", \"key_to_material.jld2\") key_to_material\n",
    "else\n",
    "    @printf(\"Downloading data from the NIST DB\\n\")\n",
    "    url = host * \"/isodb/api/materials.json\"\n",
    "    r = HTTP.request(\"POST\", url)\n",
    "    material_data = JSON.parse(String(r.body))\n",
    "\n",
    "    for material in material_data\n",
    "        key_to_material[material[\"hashkey\"]] = material[\"name\"]\n",
    "    end\n",
    "    @save joinpath(\"data\", \"key_to_material.jld2\") key_to_material\n",
    "end\n",
    "println(\"how many materials? \", length(key_to_material))"
   ]
  },
  {
   "cell_type": "code",
   "execution_count": 7,
   "metadata": {},
   "outputs": [],
   "source": [
    "master_list_of_gases = collect(values(key_to_gas));\n",
    "master_list_of_materials = collect(values(key_to_material));"
   ]
  },
  {
   "cell_type": "markdown",
   "metadata": {},
   "source": [
    "#### Plenty of materials/gases will be removed or merged due to:\n",
    "* Not being experimental\n",
    "* Not being within our temperature range (293K - 303K)\n",
    "* Having incompatable units (we only accept units from the following list: [cm3(STP)/g, g/g, mg/g, ml/g, mmol/g, mmol/kg, mol/g, wt%]\n",
    "* Having more than one adsorbate\n",
    "* Not having enough unique isotherms (see further details below)\n",
    "* Failure in fitting functions\n",
    "* And more depending on validity and fitting functions"
   ]
  },
  {
   "cell_type": "markdown",
   "metadata": {},
   "source": [
    "### Lets load in all of the isotherms we have in the `isotherms` directory. If that directory does not exist, we will download the data from the NIST DB and save it. Then build the `isotherm_dictionary`.\n",
    "\n",
    "`isotherm_dictionary` will work as follows. to obtain the list of isotherm JSON filenames for gas `gas` and material `material`, call `isotherm_dictionary[gas][material]`. one JSON file represents a single isotherm.\n",
    "\n",
    "note that `isotherm_data` contains the abbreviated isotherm data, where the (pressure, adsorption) data points are not present. this speeds up the creation of `isotherm_dictionary`."
   ]
  },
  {
   "cell_type": "code",
   "execution_count": 8,
   "metadata": {},
   "outputs": [],
   "source": [
    "isotherm_directory = \"isotherms\" # folder in which JSON isotherm files are stored\n",
    "isotherm_dictionary = Dict{AbstractString, Dict{AbstractString, Array{AbstractString, 1}}}()\n",
    "\n",
    "url = host * \"/isodb/api/isotherms.json\"\n",
    "r = HTTP.request(\"POST\", url)\n",
    "isotherm_data = JSON.parse(String(r.body))\n",
    "\n",
    "# This will download all isotherms from the NIST DB if the directory `isotherms` does not exist.\n",
    "# In the Github repo we have provided both a zipped `isotherms` directory and a tarball containing \n",
    "#    the `isotherms` directory that we used to generate our results. To use this data, uncompress this folder.\n",
    "#    make sure to delete existing isotherms directory as opposed to overwriting \n",
    "#    b/c some files may have been removed in an update.\n",
    "# if you want to update the database, move `isotherms` to a different folder `old_isotherms` \n",
    "#    and this will automatically pull the latest data.\n",
    "if ! isdir(joinpath(pwd(), isotherm_directory))\n",
    "    @printf(\"Directory does not exist.\\nStarting a long downloading process (roughly 3 hours)\\n\")\n",
    "    mkdir(joinpath(pwd(), isotherm_directory))\n",
    "    p = Progress(length(isotherm_data))\n",
    "    for isotherm in isotherm_data\n",
    "        url = host * \"/isodb/api/isotherm/\" * isotherm[\"filename\"] * \".json\"\n",
    "        r = HTTP.request(\"POST\", url)\n",
    "        bibliography = JSON.parse(String(r.body))\n",
    "        open(joinpath(pwd(), isotherm_directory, isotherm[\"filename\"] * \".json\"), \"w\") do file\n",
    "            print(file, JSON.json(bibliography))\n",
    "        end\n",
    "        ProgressMeter.next!(p)\n",
    "    end\n",
    "end\n",
    "\n",
    "for isotherm in isotherm_data\n",
    "    # get gas/material to which this isotherm corresponds\n",
    "    gas = key_to_gas[isotherm[\"adsorbates\"][1][\"InChIKey\"]]\n",
    "    @assert gas in master_list_of_gases\n",
    "    material = key_to_material[isotherm[\"adsorbent\"][\"hashkey\"]]\n",
    "    @assert material in master_list_of_materials\n",
    "    \n",
    "    if ! haskey(isotherm_dictionary, gas)\n",
    "        isotherm_dictionary[gas] = Dict{AbstractString, Array{AbstractString, 1}}()\n",
    "    end\n",
    "    if ! haskey(isotherm_dictionary[gas], material)\n",
    "        isotherm_dictionary[gas][material] = Array{AbstractString, 1}()\n",
    "    end\n",
    "    push!(isotherm_dictionary[gas][material], isotherm[\"filename\"])\n",
    "end"
   ]
  },
  {
   "cell_type": "code",
   "execution_count": 9,
   "metadata": {},
   "outputs": [
    {
     "data": {
      "text/plain": [
       "4-element Array{AbstractString,1}:\n",
       " \"10.1021Jp501495f.Isotherm75\" \n",
       " \"10.1021Jp501495f.Isotherm81\" \n",
       " \"10.1039C3cp50774b.Isotherm26\"\n",
       " \"10.1039C3cp50774b.Isotherm40\""
      ]
     },
     "execution_count": 9,
     "metadata": {},
     "output_type": "execute_result"
    }
   ],
   "source": [
    "isotherm_dictionary[\"Xenon\"][\"PCN-14\"] # list of isotherm JSON filenames for Xenon in PCN-14"
   ]
  },
  {
   "cell_type": "markdown",
   "metadata": {},
   "source": [
    "### Let's create fitting functions, validity functions and a few helper functions\n",
    "The <i>validity functions</i> will make sure the isotherms have the valid units, are within valid temperature range etc.</br>\n",
    "The <i>fitting functions</i> take in the isotherm filenames from the validity functions and compute the Henry coefficient of the isotherms, interpolate the adsorption at a specific pressure etc.</br>"
   ]
  },
  {
   "cell_type": "markdown",
   "metadata": {},
   "source": [
    "## Helper functions"
   ]
  },
  {
   "cell_type": "markdown",
   "metadata": {},
   "source": [
    "#### For the fitting procedures we need consistent units, so lets create a few helper functions that we'll use to convert the adsorption units to <b>mmol/g</b> (the pressure units are always <b>bar</b>)</br>\n",
    "#### First we need to be able to compute the molecular weight of the adsorbates. To do that we'll read in the gas data and store the chemical formula of all gases. We'll also need the atomic weight of every element"
   ]
  },
  {
   "cell_type": "code",
   "execution_count": 10,
   "metadata": {},
   "outputs": [
    {
     "data": {
      "text/plain": [
       "Dict{AbstractString,AbstractString} with 356 entries:\n",
       "  \"N-Heptane\"                   => \"C7H16\"\n",
       "  \"2-ethylhexyl Oleate\"         => \"C26H50O2\"\n",
       "  \"1-Octene\"                    => \"C8H16\"\n",
       "  \"Iodo-Benzene\"                => \"C6H5I\"\n",
       "  \"Methanol\"                    => \"CH4O\"\n",
       "  \"Hydrogen Deuteride\"          => \"HD\"\n",
       "  \"Ethanol\"                     => \"C2H6O\"\n",
       "  \"Eu(III)\"                     => \"Eu+3\"\n",
       "  \"N-Octane\"                    => \"C8H18\"\n",
       "  \"Fast Green FCF\"              => \"C37H34N2Na2O10S3\"\n",
       "  \"Carbon disulfide\"            => \"CS2\"\n",
       "  \"Cesium\"                      => \"Cs\"\n",
       "  \"Fomepizole\"                  => \"C4H6N2\"\n",
       "  \"Mercury\"                     => \"Hg\"\n",
       "  \"Molybdenum hexacarbonyl\"     => \"Mo(CO)6\"\n",
       "  \"N-Icosane\"                   => \"C20H42\"\n",
       "  \"Methyl oleic estolide ester\" => \"\"\n",
       "  \"Isobutene\"                   => \"C4H8\"\n",
       "  \"Diisopropyl fluorophosphate\" => \"C6H14FO3P\"\n",
       "  \"Nitrous oxide\"               => \"N2O\"\n",
       "  \"N-Butane\"                    => \"C4H10\"\n",
       "  \"Cr(III)\"                     => \"Cr+3\"\n",
       "  \"Chromium hexacarbonyl\"       => \"C6CrO6\"\n",
       "  \"N-Tetracosane\"               => \"C24H50\"\n",
       "  \"Radon\"                       => \"Rn\"\n",
       "  ⋮                             => ⋮"
      ]
     },
     "execution_count": 10,
     "metadata": {},
     "output_type": "execute_result"
    }
   ],
   "source": [
    "gas_to_formula = Dict{AbstractString, AbstractString}()\n",
    "if isfile(joinpath(\"data\", \"gas_to_formula.jld2\")) && USE_LOCAL_FILES_IF_AVAILABLE\n",
    "    @load joinpath(\"data\", \"gas_to_formula.jld2\") gas_to_formula\n",
    "else\n",
    "    @printf(\"Downloading data from the NIST DB\\n\")\n",
    "    for gas in master_list_of_gases\n",
    "        url = host * \"/isodb/api/gas/\" * gas * \".json\"\n",
    "        url = replace(url, \" \" => \"%20\")\n",
    "        r = HTTP.request(\"POST\", url)\n",
    "        gas_data = JSON.parse(String(r.body))\n",
    "        gas_to_formula[gas] = gas_data[\"formula\"]\n",
    "    end\n",
    "    @save joinpath(\"data\", \"gas_to_formula.jld2\") gas_to_formula\n",
    "end\n",
    "gas_to_formula"
   ]
  },
  {
   "cell_type": "markdown",
   "metadata": {},
   "source": [
    "Lets manually fix some of the chemical formulas:"
   ]
  },
  {
   "cell_type": "code",
   "execution_count": 11,
   "metadata": {},
   "outputs": [
    {
     "data": {
      "text/plain": [
       "\"Sb\""
      ]
     },
     "execution_count": 11,
     "metadata": {},
     "output_type": "execute_result"
    }
   ],
   "source": [
    "gas_to_formula[\"Phosphate Ion\"] = \"PO4\"\n",
    "gas_to_formula[\"Sb(V)\"] = \"Sb\"\n",
    "gas_to_formula[\"Arsenite      \"] = \"AsO3\"\n",
    "gas_to_formula[\"Ag(I)\"] = \"Ag\"\n",
    "gas_to_formula[\"Paladium(II) Ion\"] = \"Pd\"\n",
    "gas_to_formula[\"Fluoride Ion\"] = \"F\"\n",
    "gas_to_formula[\"Fe(II)\"] = \"Fe\"\n",
    "gas_to_formula[\"Lead(II) Ion\"] = \"Pb\"\n",
    "gas_to_formula[\"Co(II)\"] = \"Co\"\n",
    "gas_to_formula[\"Dichromate\"] = \"Cr2O7\"\n",
    "gas_to_formula[\"Au(III)\"] = \"Au\"\n",
    "gas_to_formula[\"U(VI)\"] = \"U\"\n",
    "gas_to_formula[\"Hg(II)\"] = \"Hg\"\n",
    "gas_to_formula[\"Copper(II) Ion\"] = \"Cu\"\n",
    "gas_to_formula[\"Chromate\"] = \"C4O4\"\n",
    "gas_to_formula[\"Triiodide\"] = \"I3\"\n",
    "gas_to_formula[\"Ni(II)\"] = \"Ni\"\n",
    "gas_to_formula[\" Arsenate\"] = \"As\"\n",
    "gas_to_formula[\"As(III)\"] = \"As\"\n",
    "gas_to_formula[\"Zn(II)\"] = \"Zn\"\n",
    "gas_to_formula[\"Eu(III)\"] = \"Eu\"\n",
    "gas_to_formula[\"Molybdenum hexacarbonyl\"] = \"MoC6O6\"\n",
    "gas_to_formula[\"Cr(III)\"] = \"Cr\"\n",
    "gas_to_formula[\"Cadmium(II) Ion\"] = \"Cd\"\n",
    "gas_to_formula[\"Sb(III)\"] = \"Sb\""
   ]
  },
  {
   "cell_type": "code",
   "execution_count": 12,
   "metadata": {},
   "outputs": [
    {
     "data": {
      "text/plain": [
       "Dict{Symbol,Float64} with 103 entries:\n",
       "  :Xe__    => 131.293\n",
       "  :Cl      => 35.453\n",
       "  :Al      => 26.9815\n",
       "  :Be      => 9.01218\n",
       "  :Re      => 186.207\n",
       "  :D       => 2.0141\n",
       "  :O_RCOO  => 15.9994\n",
       "  :Cr      => 51.996\n",
       "  :Na      => 22.9898\n",
       "  :N_in_N2 => 14.0067\n",
       "  :VOID    => 0.0\n",
       "  :Sb      => 121.76\n",
       "  :Kr      => 83.798\n",
       "  :Ni      => 58.6934\n",
       "  :S       => 32.065\n",
       "  :CH4     => 16.04\n",
       "  :O_zeo   => 15.9994\n",
       "  :Ru      => 101.07\n",
       "  :Tm      => 168.934\n",
       "  :C_sp3   => 12.0107\n",
       "  :Xe_     => 131.293\n",
       "  :Nd      => 144.242\n",
       "  :O       => 15.9994\n",
       "  :Tb      => 158.925\n",
       "  :Th      => 232.038\n",
       "  ⋮        => ⋮"
      ]
     },
     "execution_count": 12,
     "metadata": {},
     "output_type": "execute_result"
    }
   ],
   "source": [
    "atomic_masses = read_atomic_masses()"
   ]
  },
  {
   "cell_type": "code",
   "execution_count": 13,
   "metadata": {},
   "outputs": [],
   "source": [
    "function formula_to_mw(formula::AbstractString)\n",
    "    start_i = 1\n",
    "    elements = []\n",
    "    for (end_i, letter) in enumerate(formula)\n",
    "        if end_i == 1\n",
    "            continue\n",
    "        end\n",
    "        if isuppercase(letter)\n",
    "            push!(elements, [start_i, end_i-1])\n",
    "            start_i = end_i\n",
    "        end\n",
    "    end\n",
    "    push!(elements, [start_i, length(formula)])\n",
    "    \n",
    "    total_mw = 0\n",
    "    for element in elements\n",
    "        form = formula[element[1]:element[2]]\n",
    "        contains_digits = any(isdigit(c) for c in form)\n",
    "        if contains_digits\n",
    "            for (i, letter) in enumerate(form)\n",
    "                if isdigit(letter)\n",
    "                    element_mw = atomic_masses[Symbol(form[1:i-1])]\n",
    "                    total_mw += element_mw * parse(Int, form[i:end])\n",
    "                    break\n",
    "                end\n",
    "            end\n",
    "        else\n",
    "            element_mw = atomic_masses[Symbol(form)]\n",
    "            total_mw += element_mw\n",
    "        end\n",
    "    end\n",
    "    return total_mw\n",
    "end\n",
    "\n",
    "@assert isapprox(formula_to_mw(\"CH3OH\"), 32.04, atol=0.01)\n",
    "@assert isapprox(formula_to_mw(\"Ar20\"), 20 * atomic_masses[:Ar], atol=0.01)\n",
    "_atoms = [:C, :H, :Cl, :F, :N, :O, :S]\n",
    "_freq = [9, 11, 2, 1, 2, 2, 2]\n",
    "@assert isapprox(formula_to_mw(\"C9H11Cl2FN2O2S2\"), sum([atomic_masses[a]*f for (a, f) in zip(_atoms, _freq)]),\n",
    "    atol=0.01)"
   ]
  },
  {
   "cell_type": "code",
   "execution_count": 14,
   "metadata": {
    "scrolled": true
   },
   "outputs": [
    {
     "data": {
      "text/plain": [
       "Dict{String,Any} with 15 entries:\n",
       "  \"isotherm_data\"      => Any[Dict{String,Any}(\"pressure\"=>0.0171192,\"total_ads…\n",
       "  \"temperature\"        => 77\n",
       "  \"articleSource\"      => \"UNKNOWN\"\n",
       "  \"compositionType\"    => \"molefraction\"\n",
       "  \"adsorbates\"         => Any[Dict{String,Any}(\"name\"=>\"Hydrogen\",\"InChIKey\"=>\"…\n",
       "  \"adsorptionUnits\"    => \"cm3(STP)/g\"\n",
       "  \"date\"               => \"1000-01-01\"\n",
       "  \"category\"           => \"\"\n",
       "  \"digitizer\"          => \"UNKNOWN\"\n",
       "  \"pressureUnits\"      => \"bar\"\n",
       "  \"DOI\"                => \"10.1002/adem.200500223\"\n",
       "  \"adsorbent\"          => Dict{String,Any}(\"name\"=>\"CuBTC\",\"hashkey\"=>\"NIST-MAT…\n",
       "  \"concentrationUnits\" => \"\"\n",
       "  \"filename\"           => \"10.1002adem.200500223.isotherm1\"\n",
       "  \"isotherm_type\"      => \"\""
      ]
     },
     "execution_count": 14,
     "metadata": {},
     "output_type": "execute_result"
    }
   ],
   "source": [
    "function read_isotherm(isotherm_filename::AbstractString)\n",
    "    isotherm = Dict{AbstractString, Any}()\n",
    "    open(\"isotherms/\" * isotherm_filename * \".json\") do isotherm_file\n",
    "        isotherm = JSON.parse(isotherm_file)\n",
    "    end\n",
    "    return isotherm\n",
    "end\n",
    "\n",
    "test_isotherm = read_isotherm(\"10.1002adem.200500223.isotherm1\")"
   ]
  },
  {
   "cell_type": "markdown",
   "metadata": {},
   "source": [
    "there are conversion factors to convert the adsorption units into mmol/g."
   ]
  },
  {
   "cell_type": "code",
   "execution_count": 15,
   "metadata": {},
   "outputs": [
    {
     "data": {
      "text/plain": [
       "([0.0171192, 0.0586318, 0.102329, 0.211573, 0.303338, 0.412581, 0.499976, 0.60485, 0.705355, 0.801489, 0.901993, 0.998128], [0.9231339285714286, 3.093375, 4.580848214285715, 6.4096875, 7.507008928571429, 8.409241071428571, 8.921339285714286, 9.506562500000001, 9.969866071428571, 10.311250000000001, 10.603883928571427, 10.823348214285716])"
      ]
     },
     "execution_count": 15,
     "metadata": {},
     "output_type": "execute_result"
    }
   ],
   "source": [
    "function convert_units(isotherm::Dict{<:AbstractString, Any})\n",
    "    aUnit = isotherm[\"adsorptionUnits\"]\n",
    "    @assert aUnit in [\"cm3(STP)/g\", \"g/g\", \"mg/g\", \"ml/g\", \"mmol/g\", \"mmol/kg\", \"mol/g\", \"wt%\"]\n",
    "    @assert isotherm[\"pressureUnits\"] == \"bar\"\n",
    "    aConversion = 0.0\n",
    "    if aUnit == \"mmol/g\"\n",
    "        aConversion = 1.0\n",
    "    elseif aUnit == \"mmol/kg\"\n",
    "        aConversion = 1.0 / 1000.0\n",
    "    elseif aUnit == \"mol/g\"\n",
    "        aConversion = 1000.0\n",
    "    elseif aUnit == \"wt%\"\n",
    "        # 0.01 (wt %) = (grams of gas adsorbed / grams of empty MOF)\n",
    "        gas = isotherm[\"adsorbates\"][1][\"name\"]\n",
    "        mw = formula_to_mw(gas_to_formula[gas])\n",
    "        aConversion = 1000.0 / mw * 0.01\n",
    "    elseif aUnit == \"g/g\"\n",
    "        gas = isotherm[\"adsorbates\"][1][\"name\"]\n",
    "        mw = formula_to_mw(gas_to_formula[gas])\n",
    "        aConversion = 1000.0 / mw\n",
    "    elseif aUnit == \"ml/g\" || aUnit == \"cm3(STP)/g\"\n",
    "        aConversion = 1.0 / 22.4\n",
    "    elseif aUnit == \"mg/g\"\n",
    "        gas = isotherm[\"adsorbates\"][1][\"name\"]\n",
    "        mw = formula_to_mw(gas_to_formula[gas])\n",
    "        aConversion = 1.0 / mw\n",
    "    else\n",
    "        @error @sprintf(\"Something went wrong with the unit conversion in file %s\", isotherm[\"filename\"])\n",
    "    end\n",
    "    # note: Cory and Arni rigorously checked these multiple times.\n",
    "                                \n",
    "    adsorption = Array{Float64, 1}()\n",
    "    pressure = Array{Float64, 1}()\n",
    "    for data_point in isotherm[\"isotherm_data\"]\n",
    "        push!(pressure, data_point[\"pressure\"])\n",
    "        push!(adsorption, data_point[\"species_data\"][1][\"adsorption\"] * aConversion)\n",
    "    end\n",
    "    \n",
    "    if any(diff(pressure) .< 0.0)\n",
    "        order = sortperm(pressure)\n",
    "        pressure = pressure[order]\n",
    "        adsorption = adsorption[order]\n",
    "    end\n",
    "                                \n",
    "    # assert pressures are sorted\n",
    "    @assert all(diff(pressure) .>= 0.0) \"Pressure is not ordered in \" * isotherm[\"filename\"]\n",
    "    \n",
    "    return pressure, adsorption\n",
    "end\n",
    "\n",
    "p, a = convert_units(test_isotherm)"
   ]
  },
  {
   "cell_type": "markdown",
   "metadata": {},
   "source": [
    "## Filter functions\n",
    "\n",
    "these functions return `true` if we want to keep an isotherm and `false` if we want to throw it away because it doesn't match our criteria."
   ]
  },
  {
   "cell_type": "code",
   "execution_count": 16,
   "metadata": {},
   "outputs": [
    {
     "data": {
      "text/plain": [
       "_check_nb_of_adsorbates (generic function with 2 methods)"
      ]
     },
     "execution_count": 16,
     "metadata": {},
     "output_type": "execute_result"
    }
   ],
   "source": [
    "# is the isotherm unary (if max_adsorbates == 1)?\n",
    "function _check_nb_of_adsorbates(isotherm::Dict{<:AbstractString, Any}, max_adsorbates::Int=1)\n",
    "    if length(isotherm[\"adsorbates\"]) > max_adsorbates\n",
    "        return false\n",
    "    end\n",
    "    return true\n",
    "end"
   ]
  },
  {
   "cell_type": "code",
   "execution_count": 17,
   "metadata": {},
   "outputs": [
    {
     "data": {
      "text/plain": [
       "_check_temperature (generic function with 3 methods)"
      ]
     },
     "execution_count": 17,
     "metadata": {},
     "output_type": "execute_result"
    }
   ],
   "source": [
    "# is the temperature in our range of interest?\n",
    "function _check_temperature(isotherm::Dict{<:AbstractString, Any}, low_temp::Float64=293.0, high_temp::Float64=303.0)\n",
    "    if isotherm[\"temperature\"] >= low_temp && isotherm[\"temperature\"] <= high_temp\n",
    "        return true\n",
    "    end\n",
    "    return false\n",
    "end     "
   ]
  },
  {
   "cell_type": "code",
   "execution_count": 18,
   "metadata": {},
   "outputs": [
    {
     "data": {
      "text/plain": [
       "_check_units (generic function with 2 methods)"
      ]
     },
     "execution_count": 18,
     "metadata": {},
     "output_type": "execute_result"
    }
   ],
   "source": [
    "# are the units valid? (e.g. we don't want to consider per volume adsorption b/c then we need the crystal densities)\n",
    "function _check_units(isotherm::Dict{<:AbstractString, Any}, \n",
    "        valid_units::Array{<:AbstractString, 1}=[\"cm3(STP)/g\", \"g/g\", \"mg/g\", \"ml/g\", \"mmol/g\", \"mmol/kg\", \"mol/g\", \"wt%\"])\n",
    "    if (isotherm[\"adsorptionUnits\"] in valid_units) && isotherm[\"pressureUnits\"] == \"bar\"\n",
    "        return true\n",
    "    end\n",
    "    return false\n",
    "end"
   ]
  },
  {
   "cell_type": "code",
   "execution_count": 19,
   "metadata": {},
   "outputs": [
    {
     "data": {
      "text/plain": [
       "_check_category (generic function with 2 methods)"
      ]
     },
     "execution_count": 19,
     "metadata": {},
     "output_type": "execute_result"
    }
   ],
   "source": [
    "# is the adsorption isotherm categorized as \"exp\" or uncategorized, as opposed to simulated?\n",
    "function _check_category(isotherm::Dict{<:AbstractString, Any}, allow_uncategorized::Bool=true)\n",
    "    if isotherm[\"category\"] == \"exp\" || (isotherm[\"category\"] == \"\" && allow_uncategorized)\n",
    "        return true\n",
    "    end\n",
    "    return false\n",
    "end"
   ]
  },
  {
   "cell_type": "markdown",
   "metadata": {},
   "source": [
    "Lets load in an isotherm to test these functions:"
   ]
  },
  {
   "cell_type": "code",
   "execution_count": 20,
   "metadata": {},
   "outputs": [
    {
     "data": {
      "text/plain": [
       "Dict{String,Any} with 15 entries:\n",
       "  \"isotherm_data\"      => Any[Dict{String,Any}(\"pressure\"=>0.0171192,\"total_ads…\n",
       "  \"temperature\"        => 77\n",
       "  \"articleSource\"      => \"UNKNOWN\"\n",
       "  \"compositionType\"    => \"molefraction\"\n",
       "  \"adsorbates\"         => Any[Dict{String,Any}(\"name\"=>\"Hydrogen\",\"InChIKey\"=>\"…\n",
       "  \"adsorptionUnits\"    => \"cm3(STP)/g\"\n",
       "  \"date\"               => \"1000-01-01\"\n",
       "  \"category\"           => \"\"\n",
       "  \"digitizer\"          => \"UNKNOWN\"\n",
       "  \"pressureUnits\"      => \"bar\"\n",
       "  \"DOI\"                => \"10.1002/adem.200500223\"\n",
       "  \"adsorbent\"          => Dict{String,Any}(\"name\"=>\"CuBTC\",\"hashkey\"=>\"NIST-MAT…\n",
       "  \"concentrationUnits\" => \"\"\n",
       "  \"filename\"           => \"10.1002adem.200500223.isotherm1\"\n",
       "  \"isotherm_type\"      => \"\""
      ]
     },
     "execution_count": 20,
     "metadata": {},
     "output_type": "execute_result"
    }
   ],
   "source": [
    "test_isotherm = read_isotherm(\"10.1002adem.200500223.isotherm1\")"
   ]
  },
  {
   "cell_type": "code",
   "execution_count": 21,
   "metadata": {},
   "outputs": [],
   "source": [
    "@assert _check_category(test_isotherm)\n",
    "@assert !_check_category(test_isotherm, false)\n",
    "@assert _check_units(test_isotherm)\n",
    "@assert !_check_temperature(test_isotherm)\n",
    "@assert _check_temperature(test_isotherm, 0., 100.)\n",
    "@assert _check_nb_of_adsorbates(test_isotherm)"
   ]
  },
  {
   "cell_type": "markdown",
   "metadata": {},
   "source": [
    "## Fitting Functions"
   ]
  },
  {
   "cell_type": "code",
   "execution_count": 27,
   "metadata": {},
   "outputs": [
    {
     "data": {
      "text/plain": [
       "0-element Array{AbstractString,1}"
      ]
     },
     "execution_count": 27,
     "metadata": {},
     "output_type": "execute_result"
    }
   ],
   "source": [
    "list_of_scaled_mses = Array{Float64, 1}()\n",
    "list_of_max_adsorption = Array{Float64, 1}()\n",
    "list_of_min_adsorption = Array{Float64, 1}()\n",
    "list_of_H = Array{Float64, 1}()\n",
    "list_of_cs = Array{Bool, 1}()\n",
    "list_of_filenames = Array{AbstractString, 1}()"
   ]
  },
  {
   "cell_type": "code",
   "execution_count": 42,
   "metadata": {},
   "outputs": [
    {
     "data": {
      "text/plain": [
       "_fit_henry_to_isotherm (generic function with 4 methods)"
      ]
     },
     "execution_count": 42,
     "metadata": {},
     "output_type": "execute_result"
    }
   ],
   "source": [
    "function _fit_henry_to_isotherm(isotherm::Dict{<:AbstractString, Any}, MSE_threshold::Float64=0.05)\n",
    "    params = Dict()\n",
    "    adsorption = Array{Float64, 1}()\n",
    "    pressure = Array{Float64, 1}()\n",
    "    try\n",
    "        pressure, adsorption = convert_units(isotherm)\n",
    "        isotherm_df = DataFrame(:p => pressure, :a => adsorption)\n",
    "        options = Optim.Options(iterations=5000)\n",
    "        params = fit_adsorption_isotherm(isotherm_df, :p, :a, :langmuir, options)\n",
    "    catch err\n",
    "        if isa(err, FitError)\n",
    "            @warn \"It's a FitError! Returning missing.\"\n",
    "            return (missing, missing)\n",
    "        elseif isa(err, KeyError)\n",
    "            @warn \"Atomic Mass not available for an element in \" * isotherm[\"adsorbates\"][1][\"name\"] * \"! Returning missing.\"\n",
    "            @warn err\n",
    "            return (missing, missing)\n",
    "        else\n",
    "            println(err)\n",
    "            error(\"Something went wrong\")\n",
    "        end\n",
    "    end\n",
    "    H = params[\"M\"] * params[\"K\"]\n",
    "    MSE = params[\"MSE\"]/maximum(adsorption)^2\n",
    "    if params[\"M\"] <= 0 || params[\"K\"] <= 0\n",
    "        @warn @sprintf(\"Optimization of %s resulted in a negative Henry coefficient\\nReturning `missing`\\n\", isotherm[\"filename\"])\n",
    "        return (missing, missing)\n",
    "    elseif MSE >= MSE_threshold\n",
    "        push!(list_of_scaled_mses, MSE)\n",
    "        push!(list_of_max_adsorption, maximum(adsorption))\n",
    "        push!(list_of_min_adsorption, minimum(adsorption))\n",
    "        push!(list_of_H, H)                    \n",
    "        push!(list_of_cs, false)\n",
    "        push!(list_of_filenames, isotherm[\"filename\"])\n",
    "        @warn @sprintf(\"MSE of henry fit of file %s is too large\\nReturning `missing`\\n\", isotherm[\"filename\"])\n",
    "        return (missing, missing)\n",
    "    end\n",
    "    push!(list_of_scaled_mses, MSE)\n",
    "    push!(list_of_max_adsorption, maximum(adsorption))\n",
    "    push!(list_of_min_adsorption, minimum(adsorption))\n",
    "    push!(list_of_H, H)                    \n",
    "    push!(list_of_cs, true)\n",
    "    push!(list_of_filenames, isotherm[\"filename\"])\n",
    "    return (H, MSE)\n",
    "end"
   ]
  },
  {
   "cell_type": "code",
   "execution_count": 29,
   "metadata": {},
   "outputs": [
    {
     "data": {
      "text/plain": [
       "_fit_henry_to_isotherm (generic function with 4 methods)"
      ]
     },
     "execution_count": 29,
     "metadata": {},
     "output_type": "execute_result"
    }
   ],
   "source": [
    "function _fit_henry_to_isotherm(isotherms::Array{Dict{String, Any}, 1}, MSE_threshold::Float64=0.05)\n",
    "    Hs = Array{Union{Float64, Missing}, 1}(undef, length(isotherms))\n",
    "    MSEs = Array{Union{Float64, Missing}, 1}(undef, length(isotherms))\n",
    "    for (i, isotherm) in enumerate(isotherms)\n",
    "        H, MSE = _fit_henry_to_isotherm(isotherm)\n",
    "        Hs[i] = H\n",
    "        MSEs[i] = MSE\n",
    "    end\n",
    "    return Hs, MSEs \n",
    "end"
   ]
  },
  {
   "cell_type": "code",
   "execution_count": 44,
   "metadata": {},
   "outputs": [
    {
     "data": {
      "text/plain": [
       "_interpolate_isotherm (generic function with 2 methods)"
      ]
     },
     "execution_count": 44,
     "metadata": {},
     "output_type": "execute_result"
    }
   ],
   "source": [
    "function _interpolate_isotherm(isotherm::Dict{<:AbstractString, Any}, interpolation_pressure::Float64=0.1)\n",
    "    adsorption = Array{Float64, 1}()\n",
    "    pressure = Array{Float64, 1}()\n",
    "    try\n",
    "        pressure, adsorption = convert_units(isotherm)\n",
    "    catch err\n",
    "        if isa(err, KeyError)\n",
    "            @warn \"Atomic Mass not available for an element in \" * isotherm[\"adsorbates\"][1][\"name\"] * \"! Returning missing.\"\n",
    "            @warn err\n",
    "            return missing  \n",
    "        else\n",
    "            error(\"Something went wrong\")\n",
    "        end\n",
    "    end\n",
    "    if interpolation_pressure < minimum(pressure) || interpolation_pressure > maximum(pressure)\n",
    "        @warn @sprintf(\"Interpolation is not possible in file %s at %.3f bar\\nReturning `missing`\\n\", isotherm[\"filename\"], interpolation_pressure)\n",
    "        return missing\n",
    "    end\n",
    "    pressure_difference = pressure .- interpolation_pressure\n",
    "    i_high = findfirst(pressure_difference .>= 0)\n",
    "    i_low = i_high - 1\n",
    "    if isapprox(pressure[1], interpolation_pressure)\n",
    "        return adsorption[1]\n",
    "    end\n",
    "    interpolated_adsorption = adsorption[i_low] + (adsorption[i_high] - adsorption[i_low]) / (pressure[i_high] - pressure[i_low]) * (interpolation_pressure - pressure[i_low])\n",
    "    if interpolated_adsorption < 0.0\n",
    "        @warn @sprintf(\"Negative interpolated adsorption in %s at %.3f bar\\nReturning `missing`\\n\", isotherm[\"filename\"], interpolation_pressure)\n",
    "        return missing\n",
    "    elseif abs(interpolated_adsorption) == 0\n",
    "        @warn @sprintf(\"Zero interpolated adsorption in %s at %.3f bar\\nReturning `missing`\\n\", isotherm[\"filename\"], interpolation_pressure)\n",
    "        return missing\n",
    "    end\n",
    "    return interpolated_adsorption\n",
    "end"
   ]
  },
  {
   "cell_type": "markdown",
   "metadata": {},
   "source": [
    "Lets visualize the fits on the test isotherm we loaded previously:"
   ]
  },
  {
   "cell_type": "code",
   "execution_count": 32,
   "metadata": {},
   "outputs": [
    {
     "data": {
      "image/png": "[encoded data removed]",
      "text/plain": [
       "Figure(PyObject <Figure size 400x400 with 1 Axes>)"
      ]
     },
     "metadata": {},
     "output_type": "display_data"
    }
   ],
   "source": [
    "pressure, adsorption = convert_units(test_isotherm)\n",
    "H, _ = _fit_henry_to_isotherm(test_isotherm)\n",
    "fig, ax = plt.subplots(figsize=(4,4))\n",
    "ax.scatter(pressure, adsorption, c=\"red\")\n",
    "old_ylim = ax.get_ylim()\n",
    "ax.plot([0, pressure[end]], [0, pressure[end]*H], c=\"blue\")\n",
    "ax.set_ylim(old_ylim)\n",
    "ax.set_xlabel(\"Pressure (bar)\")\n",
    "ax.set_ylabel(\"Adsorption (mmol/g)\")\n",
    "ax.set_title(\"_fit_henry_to_isotherm Test\")\n",
    "ax.grid(\"on\")\n",
    "plt.tight_layout()\n",
    "plt.show()"
   ]
  },
  {
   "cell_type": "code",
   "execution_count": 33,
   "metadata": {},
   "outputs": [
    {
     "data": {
      "image/png": "[encoded data removed]",
      "text/plain": [
       "Figure(PyObject <Figure size 400x400 with 1 Axes>)"
      ]
     },
     "metadata": {},
     "output_type": "display_data"
    }
   ],
   "source": [
    "pressure, adsorption = convert_units(test_isotherm)\n",
    "interpolated_adsorption = _interpolate_isotherm(test_isotherm)\n",
    "fig, ax = plt.subplots(figsize=(4,4))\n",
    "ax.scatter(pressure, adsorption, c=\"red\")\n",
    "old_ylim = ax.get_ylim()\n",
    "ax.scatter(0.1, interpolated_adsorption, c=\"blue\")\n",
    "ax.set_ylim(old_ylim)\n",
    "ax.set_xlabel(\"Pressure (bar)\")\n",
    "ax.set_ylabel(\"Adsorption (mmol/g)\")\n",
    "ax.set_title(\"_interpolate_isotherm Test\")\n",
    "ax.grid(\"on\")\n",
    "plt.tight_layout()\n",
    "plt.show()"
   ]
  },
  {
   "cell_type": "markdown",
   "metadata": {},
   "source": [
    "### We'll also need a function to get rid of columns and/or rows that contain too few values"
   ]
  },
  {
   "cell_type": "code",
   "execution_count": 34,
   "metadata": {},
   "outputs": [
    {
     "data": {
      "text/plain": [
       "prune (generic function with 2 methods)"
      ]
     },
     "execution_count": 34,
     "metadata": {},
     "output_type": "execute_result"
    }
   ],
   "source": [
    "function prune(H::Array{Union{Float64, Missing}, 2}, min_entries::Int=3)\n",
    "    nm, ng = size(H)\n",
    "    keep_col = trues(ng)\n",
    "    keep_row = trues(nm)\n",
    "    nb_kept_rows_and_cols = sum(keep_row) + sum(keep_col)\n",
    "    nb_cut_cols = 0\n",
    "    nb_cut_rows = 0\n",
    "    count = 0\n",
    "    \n",
    "    while true\n",
    "        for i_row = 1:nm\n",
    "            if sum(.!ismissing.(H[i_row, keep_col])) < min_entries\n",
    "                keep_row[i_row] = false\n",
    "            end\n",
    "        end\n",
    "        \n",
    "        for i_col = 1:ng\n",
    "            if sum(.!ismissing.(H[keep_row, i_col])) < min_entries\n",
    "                keep_col[i_col] = false\n",
    "            end\n",
    "        end\n",
    "        \n",
    "        if nb_kept_rows_and_cols == (sum(keep_row) + sum(keep_col))\n",
    "            break\n",
    "        end\n",
    "        \n",
    "        nb_kept_rows_and_cols = sum(keep_row) + sum(keep_col)\n",
    "        count += 1\n",
    "    end\n",
    "    \n",
    "    rows_cut = sum(.!keep_row)\n",
    "    cols_cut  = sum(.!keep_col)\n",
    "    \n",
    "    @printf(\"Minimum entries required in each column/row of H: %d\\n\", min_entries)\n",
    "    @printf(\"Number of gases cut: %d\\n\", cols_cut)\n",
    "    @printf(\"Number of materials cut: %d\\n\", rows_cut)\n",
    "    @printf(\"Dimensions of H went from (%d, %d) to (%d, %d)\\n\", nm, ng, nm-rows_cut, ng-cols_cut)\n",
    "    @printf(\"Number of iterations required to prune H: %d\\n\", count)\n",
    "    \n",
    "    return keep_row, keep_col\n",
    "end"
   ]
  },
  {
   "cell_type": "markdown",
   "metadata": {},
   "source": [
    "### Before we start filling <b>H</b>, lets merge some materials together that should be listed under the same material but aren't"
   ]
  },
  {
   "cell_type": "code",
   "execution_count": 35,
   "metadata": {},
   "outputs": [
    {
     "data": {
      "text/plain": [
       "delete_materials (generic function with 1 method)"
      ]
     },
     "execution_count": 35,
     "metadata": {},
     "output_type": "execute_result"
    }
   ],
   "source": [
    "function delete_materials(master_list_of_materials::Array{AbstractString, 1}, to_be_deleted::Array{<:AbstractString, 1})\n",
    "    to_keep = trues(length(master_list_of_materials))\n",
    "    for material in to_be_deleted\n",
    "        if !(material in master_list_of_materials)\n",
    "            @warn @sprintf(\"%s does not exist in the master list of materials.\", material)\n",
    "        else\n",
    "            delete_index = findfirst(master_list_of_materials .== material)\n",
    "            to_keep[delete_index] = false\n",
    "        end\n",
    "    end\n",
    "    return master_list_of_materials[to_keep]\n",
    "end\n"
   ]
  },
  {
   "cell_type": "code",
   "execution_count": 36,
   "metadata": {},
   "outputs": [
    {
     "name": "stderr",
     "output_type": "stream",
     "text": [
      "┌ Warning: should_not_exist does not exist in the master list of materials.\n",
      "└ @ Main In[35]:5\n"
     ]
    },
    {
     "data": {
      "text/plain": [
       "7006-element Array{AbstractString,1}:\n",
       " \"Li-FAU(1.0)\"                                                                    \n",
       " \"Soc-MOF\"                                                                        \n",
       " \"MIL-140C-25\"                                                                    \n",
       " \"MOF-GO PSN\"                                                                     \n",
       " \"HFCP-17\"                                                                        \n",
       " \"36 wt% CuCl/NaX\"                                                                \n",
       " \"Coal RU1\"                                                                       \n",
       " \"MG-A-900\"                                                                       \n",
       " \"CMS-3K\"                                                                         \n",
       " \"[Zn11(H2O)2(ur)4(bpdc)11]\"                                                      \n",
       " \"CuMOF\"                                                                          \n",
       " \"Hydrated MIL-53\"                                                                \n",
       " \"Faujasite DAY\"                                                                  \n",
       " ⋮                                                                                \n",
       " \"Activated Carbon L9\"                                                            \n",
       " \"Cu-MOF-SDS\"                                                                     \n",
       " \"Wyodak Coal\"                                                                    \n",
       " \"Activated Carbon Coronene-(OH)3\"                                                \n",
       " \"sulfur doped activated carbon (activated with 2.5:1 sodium thiosulfate mixture)\"\n",
       " \"S-ZrO2-0.6\"                                                                     \n",
       " \"Mg-MOF-74(S)\"                                                                   \n",
       " \"Carbon Sphere\"                                                                  \n",
       " \"ValZnOAc\"                                                                       \n",
       " \"Graphite (2-nm pore width)\"                                                     \n",
       " \"Gd2(ADB)3(DMSO)4*6DMSO*8H2O\"                                                    \n",
       " \"IRMOF-M8\"                                                                       "
      ]
     },
     "execution_count": 36,
     "metadata": {},
     "output_type": "execute_result"
    }
   ],
   "source": [
    "master_list_of_materials = delete_materials(master_list_of_materials, [\"Pillared Layered Materials\", \"should_not_exist\"])"
   ]
  },
  {
   "cell_type": "code",
   "execution_count": 37,
   "metadata": {},
   "outputs": [
    {
     "data": {
      "text/plain": [
       "merge_materials (generic function with 1 method)"
      ]
     },
     "execution_count": 37,
     "metadata": {},
     "output_type": "execute_result"
    }
   ],
   "source": [
    "# Return a new master_list_of_materials\n",
    "# Also modifies the pre-existing `isotherm_dictionary`\n",
    "function merge_materials(master_list_of_materials::Array{AbstractString, 1}, target::AbstractString, to_be_merged::Array{<:AbstractString, 1})\n",
    "    # First we delete the MOFs that are to be merged from the master list of materials\n",
    "    index_of_to_be_merged = [(mof in to_be_merged) for mof in master_list_of_materials]\n",
    "    new_master_list_of_materials = master_list_of_materials[.!index_of_to_be_merged]\n",
    "\n",
    "    # Then we combine the isotherms from the merged materials with the target material\n",
    "    for gas_key in keys(isotherm_dictionary)\n",
    "        for merging_material in to_be_merged\n",
    "            if haskey(isotherm_dictionary[gas_key], merging_material)\n",
    "                if !haskey(isotherm_dictionary[gas_key], target)\n",
    "                    isotherm_dictionary[gas_key][target] = Array{AbstractString, 1}()\n",
    "                end\n",
    "                append!(isotherm_dictionary[gas_key][target], isotherm_dictionary[gas_key][merging_material])\n",
    "            end\n",
    "        end\n",
    "    end\n",
    "    return new_master_list_of_materials\n",
    "end"
   ]
  },
  {
   "cell_type": "code",
   "execution_count": 38,
   "metadata": {},
   "outputs": [
    {
     "data": {
      "text/plain": [
       "6863-element Array{AbstractString,1}:\n",
       " \"Li-FAU(1.0)\"                                                                    \n",
       " \"Soc-MOF\"                                                                        \n",
       " \"MIL-140C-25\"                                                                    \n",
       " \"MOF-GO PSN\"                                                                     \n",
       " \"HFCP-17\"                                                                        \n",
       " \"36 wt% CuCl/NaX\"                                                                \n",
       " \"Coal RU1\"                                                                       \n",
       " \"MG-A-900\"                                                                       \n",
       " \"CMS-3K\"                                                                         \n",
       " \"[Zn11(H2O)2(ur)4(bpdc)11]\"                                                      \n",
       " \"CuMOF\"                                                                          \n",
       " \"Hydrated MIL-53\"                                                                \n",
       " \"Faujasite DAY\"                                                                  \n",
       " ⋮                                                                                \n",
       " \"[Al(OH)(NDC-(NO2)2)]\"                                                           \n",
       " \"Activated Carbon L9\"                                                            \n",
       " \"Cu-MOF-SDS\"                                                                     \n",
       " \"Wyodak Coal\"                                                                    \n",
       " \"Activated Carbon Coronene-(OH)3\"                                                \n",
       " \"sulfur doped activated carbon (activated with 2.5:1 sodium thiosulfate mixture)\"\n",
       " \"S-ZrO2-0.6\"                                                                     \n",
       " \"Carbon Sphere\"                                                                  \n",
       " \"ValZnOAc\"                                                                       \n",
       " \"Graphite (2-nm pore width)\"                                                     \n",
       " \"Gd2(ADB)3(DMSO)4*6DMSO*8H2O\"                                                    \n",
       " \"IRMOF-M8\"                                                                       "
      ]
     },
     "execution_count": 38,
     "metadata": {},
     "output_type": "execute_result"
    }
   ],
   "source": [
    "new_master_list_of_materials = merge_materials(master_list_of_materials, \"Mg-MOF-74\", \n",
    "                                                            [\"CPO-27-Mg\", \"CPO-27-Mg(100%)\", \"CPO-27-Mg-a\", \"CPO-27-Mg-b\", \"CPO-27-Mg-c\", \"Mg-MOF-74 (3)\", \n",
    "                                                             \"Mg-MOF-74 (4)\", \"MOF-74(Mg)-1st cycle\", \"Mg-MOF-74(C)\", \"Mg-MOF-74(C)-TEA\", \"Mg-MOF-74(S)\",\n",
    "                                                             \"Mg-DOBDC\", \"Mg2(dobdc)\"])\n",
    "new_master_list_of_materials = merge_materials(new_master_list_of_materials, \"CPO-27-Co\",\n",
    "                                                            [\"Co-MOF-74(M)\", \"Co-MOF-74(S)\", \"Co-DOBDC\", \"Co2(dobdc)\"])\n",
    "new_master_list_of_materials = merge_materials(new_master_list_of_materials, \"CPO-27-Ni\",\n",
    "                                                            [\"Ni-MOF-74 (1)\", \"Ni-MOF-74 (2)\", \"MOF-74-Ni\", \"MOF-74Ni 70C\", \"Ni-DOBDC\", \"Ni2(dobdc)\"])\n",
    "new_master_list_of_materials = merge_materials(new_master_list_of_materials, \"Mn-MOF-74\",\n",
    "                                                            [\"CPO-27-Mn\", \"Mn-DOBDC\", \"Mn2(dobdc)\"])\n",
    "new_master_list_of_materials = merge_materials(new_master_list_of_materials, \"Zn-MOF-74\",\n",
    "                                                            [\"Zn-MOF-74(cycle 1)\", \"Zn-MOF-74(cycle 2)\", \"Zn-MOF-74(cycle 3)\", \"Zn-MOF-74(cycle 4)\",\n",
    "                                                             \"Zn-MOF-74(cycle 5)\", \"CPO-27-Zn\", \"MOF-74\", \"MOF-74 (DMF)\", \"MOF-74 (water)\",\n",
    "                                                             \"Zn-DOBDC\", \"Zn2(dobdc)\"])\n",
    "new_master_list_of_materials = merge_materials(new_master_list_of_materials, \"Cu-BDC\",\n",
    "                                                            [\"Cu(BDC) (60mL DMF 100W Microwave)\", \"Cu(BDC) (60mL DMF 300W Microwave)\",\n",
    "                                                             \"Cu(BDC) (87mL DMF 100W Microwave)\", \"Cu(BDC) (87mL DMF 300W Microwave)\"])\n",
    "new_master_list_of_materials = merge_materials(new_master_list_of_materials, \"CuBTC\",\n",
    "                                                            [\"Cu-BTC (diethylene glycol)\", \"Cu-BTC (ethylene glycol)\", \"Cu-HKUST-1\", \"CuBTC 100/100\",\n",
    "                                                             \"CuBTC 50/110\", \"CuBTC 75/110\", \"CuBTC 75/140\", \"CuBTC 75/80\", \"Cu2(BTC)3\", \"CuBTC(Cu)\",\n",
    "                                                             \"CuBTC-MW\", \"HKUST-1 (0T)\", \"HKUST-1 (1 pot)\"])\n",
    "new_master_list_of_materials = merge_materials(new_master_list_of_materials, \"Cu-SDU-1\",\n",
    "                                                            [\"Cu-SDU-1 (100 degrees C)\", \"Cu-SDU-1 (40 degrees C)\", \"Cu-SDU-1 (80 degrees C)\"])\n",
    "new_master_list_of_materials = merge_materials(new_master_list_of_materials, \"Fe-MOF-74\",\n",
    "                                                            [\"CPO-27-Fe\", \"Fe2(dobdc)\"])\n",
    "new_master_list_of_materials = merge_materials(new_master_list_of_materials, \"IRMOF-1\",\n",
    "                                                            [\"MOF-5 (1.5 hours activated)\", \"MOF-5 (Na2BDC 298)\", \"MOF-5 (Na2BDC 373)\", \"MOF-5-.5h in humid air\",\n",
    "                                                             \"MOF-5-24h in humid air\", \"MOF-5-2h in humid air\", \"MOF-5-48h in humid air\", \"MOF-5-40h\", \n",
    "                                                             \"MOF-5-61% humidity\", \"MOF-5-61% humidity-exposedtoair.5h\", \"MOF-5-61% humidity-exposedtoair24h\",\n",
    "                                                             \"MOF-5-61% humidity-exposedtoair2h\", \"MOF-5-61% humidity-exposedtoair48h\", \"MOF-5-BPO\",\n",
    "                                                             \"MOF-5-BPO (cBPO = .04 M)\", \"MOF-5-BPO (cBPO = .06 M)\"])\n",
    "new_master_list_of_materials = merge_materials(new_master_list_of_materials, \"Ni(bodc)(ted)0.5\",\n",
    "                                                            [\"Ni-bodc-ted\"])\n",
    "new_master_list_of_materials = merge_materials(new_master_list_of_materials, \"Ni(bdc)(ted)0.5\",\n",
    "                                                            [\"Ni(bdc)(ted)0.5 t=100\", \"Ni(bdc)(ted)0.5 t=15\"])\n",
    "new_master_list_of_materials = merge_materials(new_master_list_of_materials, \"PCN-14\",\n",
    "                                                            [\"PCN-14(440)\", \"PCN-14(450)\", \"PCN-14(500)\", \"PCN-14(550)\", \"PCN-14(600)\"])\n",
    "new_master_list_of_materials = merge_materials(new_master_list_of_materials, \"UiO-66\",\n",
    "                                                            [\"UiO-66 (24h)\", \"UiO-66 (2h)\", \"UiO-66 (48h)\", \"UiO-66 (4h)\", \"UiO-66 (72h)\",\n",
    "                                                             \"UiO-66 (8h)\", \"UiO-66 (solvothermal)\", \"UiO-66(Zr)\", \"UiO-66(Zr) 100 Equ. FA\",\n",
    "                                                             \"UiO-66(Zr) 30 Equ. AA\"])\n",
    "new_master_list_of_materials = merge_materials(new_master_list_of_materials, \"UiO-66-NH2\",\n",
    "                                                            [\"UiO-66-NH2(100)\", \"UiO-66-NH2(67)\", \"UiO-66-NH2(33)\"])\n",
    "new_master_list_of_materials = merge_materials(new_master_list_of_materials, \"UiO-66-(COOH)2\",\n",
    "                                                            [\"UiO-66(Zr)-(COOH)2\", \"UiO-66(Zr)-(COOH)2 (303K)\", \"UiO-66(Zr)-(COOH)2 (323K)\", \n",
    "                                                             \"UiO-66(Zr)-(COOH)2 (343K)\", \"UiO-66(Zr)-(COOH)2 (348K)\", \"UiO-66(Zr)-(COOH)2 (373K)\",\n",
    "                                                             \"UiO-66(Zr)-(COOH)2 (383K)\", \"UiO-66(Zr)-(COOH)2 (423K)\", \"UiO-66(Zr)-(COOH)2 (463K)\", \n",
    "                                                             \"UiO-66(Zr)-(COOH)2 (473K)\"])\n",
    "new_master_list_of_materials = merge_materials(new_master_list_of_materials, \"SNU-9\",\n",
    "                                                            [\"SNU-9 (10 cycles)\", \"SNU-9 (100 cycles)\"])\n",
    "new_master_list_of_materials = merge_materials(new_master_list_of_materials, \"ZIF-8\",\n",
    "                                                            [\"ZIF-8 (BULK)\", \"ZIF-8 (crystal = 0.060 micrometers)\", \"ZIF-8 (crystal = 0.33 micrometers)\", \n",
    "                                                             \"ZIF-8 (crystal = 0.47 micrometers)\", \"ZIF-8 (crystal = 0.73 micrometers)\", \n",
    "                                                             \"ZIF-8 (crystal = 1.2 micrometers)\", \"ZIF-8 (crystal = 2.1 micrometers)\",\n",
    "                                                             \"ZIF-8 (crystal = 88 micrometers)\", \"ZIF-8 (Large Size)\", \"ZIF-8 (Middle Size)\", \"ZIF-8 (Small Size)\",\n",
    "                                                             \"ZIF-8-0.025 WT% CTAB\", \"ZIF-8-C_100_2d\", \"ZIF-8-C_200_2d\", \"ZIF-8-C_250_2d\", \"ZIF-8-C_250_2d_V\",\n",
    "                                                             \"ZIF-8-M_100_7d\", \"ZIF-8-M_200_2d\", \"ZIF-8-M_250_2d\", \"ZIF-8-M_250_2d_V\", \"ZIF-8-W_100_7d\",\n",
    "                                                             \"ZIF-8-W_200_2d\", \"ZIF-8-W_250_2d\", \"ZIF-8-W_250_2d_V\", \"ZIF-8ER\", \"ZIF-8HP\", \"ZIF-8HT\",\n",
    "                                                             \"ZIF-8LT\", \"ZIF-8LT-HT\"])\n",
    "new_master_list_of_materials = merge_materials(new_master_list_of_materials, \"MCM-41\",\n",
    "                                                            [\"2650 K MCM-41\", \"300 K MCM-41\", \"MCM-41 d=2.8 nm\", \"MCM-41 d=3.1 nm\",\n",
    "                                                             \"MCM-41 1000C\", \"MCM-41 500C\", \"MCM-41 700C\", \"MCM-41 900C\"])\n",
    "master_list_of_materials = merge_materials(new_master_list_of_materials, \"Cu-MOF-74\",\n",
    "                                                            [\"Cu-DOBDC (DREIDING Parameters-Universal Force Field + TraPPe Model)\", \n",
    "                                                             \"CPO-27-Cu\", \"Cu2(dobdc)\"])"
   ]
  },
  {
   "cell_type": "markdown",
   "metadata": {},
   "source": [
    "## Lets create the function that fills in <b>H</b>"
   ]
  },
  {
   "cell_type": "code",
   "execution_count": 57,
   "metadata": {},
   "outputs": [
    {
     "name": "stderr",
     "output_type": "stream",
     "text": [
      "┌ Warning: Optimization of 10.1039C3sc52348a.Isotherm3 resulted in a negative Henry coefficient\n",
      "│ Returning `missing`\n",
      "└ @ Main In[42]:26\n",
      "┌ Warning: It's a FitError! Returning missing.\n",
      "└ @ Main In[42]:12\n",
      "┌ Warning: Optimization of 10.1039C3cc48275h.Isotherm21 resulted in a negative Henry coefficient\n",
      "│ Returning `missing`\n",
      "└ @ Main In[42]:26\n",
      "┌ Warning: It's a FitError! Returning missing.\n",
      "└ @ Main In[42]:12\n",
      "┌ Warning: Optimization of 10.1002adfm.201302854.Isotherm15 resulted in a negative Henry coefficient\n",
      "│ Returning `missing`\n",
      "└ @ Main In[42]:26\n",
      "┌ Warning: Optimization of 10.1021Ic4020256.Isotherm8 resulted in a negative Henry coefficient\n",
      "│ Returning `missing`\n",
      "└ @ Main In[42]:26\n",
      "┌ Warning: Optimization of 10.1039c5sc01796c.Isotherm3 resulted in a negative Henry coefficient\n",
      "│ Returning `missing`\n",
      "└ @ Main In[42]:26\n",
      "┌ Warning: MSE of henry fit of file 10.1039B807470d.isotherm5 is too large\n",
      "│ Returning `missing`\n",
      "└ @ Main In[42]:35\n",
      "┌ Warning: MSE of henry fit of file 10.1007978-1-4613-1375-5_17.isotherm2 is too large\n",
      "│ Returning `missing`\n",
      "└ @ Main In[42]:35\n",
      "┌ Warning: MSE of henry fit of file 10.1007978-1-4613-1375-5_17.isotherm3 is too large\n",
      "│ Returning `missing`\n",
      "└ @ Main In[42]:35\n",
      "┌ Warning: MSE of henry fit of file 10.1007978-1-4613-1375-5_17.isotherm4 is too large\n",
      "│ Returning `missing`\n",
      "└ @ Main In[42]:35\n",
      "┌ Warning: Optimization of 10.1016j.procs.2011.04.128.Isotherm3 resulted in a negative Henry coefficient\n",
      "│ Returning `missing`\n",
      "└ @ Main In[42]:26\n",
      "┌ Warning: It's a FitError! Returning missing.\n",
      "└ @ Main In[42]:12\n",
      "┌ Warning: Optimization of 10.1016j.ijhydene.2013.02.074.isotherm5 resulted in a negative Henry coefficient\n",
      "│ Returning `missing`\n",
      "└ @ Main In[42]:26\n",
      "┌ Warning: Optimization of 10.1039c4ta03992k.Isotherm28 resulted in a negative Henry coefficient\n",
      "│ Returning `missing`\n",
      "└ @ Main In[42]:26\n",
      "┌ Warning: It's a FitError! Returning missing.\n",
      "└ @ Main In[42]:12\n",
      "┌ Warning: Optimization of 10.1039c4ta03992k.Isotherm27 resulted in a negative Henry coefficient\n",
      "│ Returning `missing`\n",
      "└ @ Main In[42]:26\n",
      "┌ Warning: Optimization of 10.1039c4ta03992k.Isotherm26 resulted in a negative Henry coefficient\n",
      "│ Returning `missing`\n",
      "└ @ Main In[42]:26\n",
      "┌ Warning: Optimization of 10.1039c4ta03992k.Isotherm25 resulted in a negative Henry coefficient\n",
      "│ Returning `missing`\n",
      "└ @ Main In[42]:26\n",
      "┌ Warning: Optimization of 10.1039c4ta03992k.Isotherm23 resulted in a negative Henry coefficient\n",
      "│ Returning `missing`\n",
      "└ @ Main In[42]:26\n",
      "┌ Warning: Optimization of 10.1039c4ta03992k.Isotherm24 resulted in a negative Henry coefficient\n",
      "│ Returning `missing`\n",
      "└ @ Main In[42]:26\n",
      "┌ Warning: It's a FitError! Returning missing.\n",
      "└ @ Main In[42]:12\n",
      "┌ Warning: It's a FitError! Returning missing.\n",
      "└ @ Main In[42]:12\n",
      "┌ Warning: It's a FitError! Returning missing.\n",
      "└ @ Main In[42]:12\n",
      "┌ Warning: It's a FitError! Returning missing.\n",
      "└ @ Main In[42]:12\n",
      "┌ Warning: It's a FitError! Returning missing.\n",
      "└ @ Main In[42]:12\n",
      "┌ Warning: Optimization of 10.1002Aic.14467.Isotherm5 resulted in a negative Henry coefficient\n",
      "│ Returning `missing`\n",
      "└ @ Main In[42]:26\n",
      "┌ Warning: Optimization of 10.1021Ie202777q.isotherm1 resulted in a negative Henry coefficient\n",
      "│ Returning `missing`\n",
      "└ @ Main In[42]:26\n",
      "┌ Warning: It's a FitError! Returning missing.\n",
      "└ @ Main In[42]:12\n",
      "┌ Warning: MSE of henry fit of file 10.1021Jp307319u.isotherm1e is too large\n",
      "│ Returning `missing`\n",
      "└ @ Main In[42]:35\n",
      "┌ Warning: It's a FitError! Returning missing.\n",
      "└ @ Main In[42]:12\n",
      "┌ Warning: It's a FitError! Returning missing.\n",
      "└ @ Main In[42]:12\n",
      "┌ Warning: It's a FitError! Returning missing.\n",
      "└ @ Main In[42]:12\n",
      "┌ Warning: MSE of henry fit of file 10.1021La800369s.isotherm1a is too large\n",
      "│ Returning `missing`\n",
      "└ @ Main In[42]:35\n",
      "┌ Warning: MSE of henry fit of file 10.1021La800369s.isotherm1b is too large\n",
      "│ Returning `missing`\n",
      "└ @ Main In[42]:35\n",
      "┌ Warning: MSE of henry fit of file 10.1021La800369s.isotherm1c is too large\n",
      "│ Returning `missing`\n",
      "└ @ Main In[42]:35\n",
      "┌ Warning: It's a FitError! Returning missing.\n",
      "└ @ Main In[42]:12\n",
      "┌ Warning: It's a FitError! Returning missing.\n",
      "└ @ Main In[42]:12\n",
      "┌ Warning: MSE of henry fit of file 10.1039C0nj00836b.isotherm9 is too large\n",
      "│ Returning `missing`\n",
      "└ @ Main In[42]:35\n",
      "┌ Warning: It's a FitError! Returning missing.\n",
      "└ @ Main In[42]:12\n",
      "┌ Warning: Optimization of 10.1016j.ijggc.2009.04.005.Isotherm1 resulted in a negative Henry coefficient\n",
      "│ Returning `missing`\n",
      "└ @ Main In[42]:26\n",
      "┌ Warning: Optimization of 10.1016j.ijggc.2009.04.005.Isotherm6 resulted in a negative Henry coefficient\n",
      "│ Returning `missing`\n",
      "└ @ Main In[42]:26\n",
      "┌ Warning: Optimization of 10.1039c5dt03137k.Isotherm23 resulted in a negative Henry coefficient\n",
      "│ Returning `missing`\n",
      "└ @ Main In[42]:26\n",
      "┌ Warning: It's a FitError! Returning missing.\n",
      "└ @ Main In[42]:12\n",
      "┌ Warning: It's a FitError! Returning missing.\n",
      "└ @ Main In[42]:12\n",
      "┌ Warning: It's a FitError! Returning missing.\n",
      "└ @ Main In[42]:12\n",
      "┌ Warning: MSE of henry fit of file 10.1016j.seppur.2014.08.021.Isotherm3 is too large\n",
      "│ Returning `missing`\n",
      "└ @ Main In[42]:35\n",
      "┌ Warning: It's a FitError! Returning missing.\n",
      "└ @ Main In[42]:12\n",
      "┌ Warning: It's a FitError! Returning missing.\n",
      "└ @ Main In[42]:12\n",
      "┌ Warning: MSE of henry fit of file 10.1016j.egypro.2013.05.098.Isotherm4 is too large\n",
      "│ Returning `missing`\n",
      "└ @ Main In[42]:35\n",
      "┌ Warning: It's a FitError! Returning missing.\n",
      "└ @ Main In[42]:12\n",
      "┌ Warning: Optimization of 10.108008927022.2011.583648.isotherm17 resulted in a negative Henry coefficient\n",
      "│ Returning `missing`\n",
      "└ @ Main In[42]:26\n",
      "┌ Warning: Optimization of 10.1002Aic.14467.Isotherm17 resulted in a negative Henry coefficient\n",
      "│ Returning `missing`\n",
      "└ @ Main In[42]:26\n",
      "┌ Warning: It's a FitError! Returning missing.\n",
      "└ @ Main In[42]:12\n",
      "┌ Warning: It's a FitError! Returning missing.\n",
      "└ @ Main In[42]:12\n",
      "┌ Warning: It's a FitError! Returning missing.\n",
      "└ @ Main In[42]:12\n",
      "┌ Warning: It's a FitError! Returning missing.\n",
      "└ @ Main In[42]:12\n",
      "┌ Warning: It's a FitError! Returning missing.\n",
      "└ @ Main In[42]:12\n",
      "┌ Warning: It's a FitError! Returning missing.\n",
      "└ @ Main In[42]:12\n",
      "┌ Warning: Optimization of 10.1016j.egypro.2013.05.098.Isotherm5 resulted in a negative Henry coefficient\n",
      "│ Returning `missing`\n",
      "└ @ Main In[42]:26\n",
      "┌ Warning: It's a FitError! Returning missing.\n",
      "└ @ Main In[42]:12\n",
      "┌ Warning: It's a FitError! Returning missing.\n",
      "└ @ Main In[42]:12\n",
      "┌ Warning: It's a FitError! Returning missing.\n",
      "└ @ Main In[42]:12\n",
      "┌ Warning: Optimization of 10.1021Sc300036p.Isotherm9 resulted in a negative Henry coefficient\n",
      "│ Returning `missing`\n",
      "└ @ Main In[42]:26\n",
      "┌ Warning: MSE of henry fit of file 10.1016j.egypro.2013.05.098.Isotherm3 is too large\n",
      "│ Returning `missing`\n",
      "└ @ Main In[42]:35\n",
      "┌ Warning: It's a FitError! Returning missing.\n",
      "└ @ Main In[42]:12\n",
      "┌ Warning: It's a FitError! Returning missing.\n",
      "└ @ Main In[42]:12\n",
      "┌ Warning: It's a FitError! Returning missing.\n",
      "└ @ Main In[42]:12\n",
      "┌ Warning: It's a FitError! Returning missing.\n",
      "└ @ Main In[42]:12\n",
      "┌ Warning: It's a FitError! Returning missing.\n",
      "└ @ Main In[42]:12\n",
      "┌ Warning: It's a FitError! Returning missing.\n",
      "└ @ Main In[42]:12\n",
      "┌ Warning: It's a FitError! Returning missing.\n",
      "└ @ Main In[42]:12\n",
      "┌ Warning: Optimization of 10.1002Aic.14467.Isotherm14 resulted in a negative Henry coefficient\n",
      "│ Returning `missing`\n",
      "└ @ Main In[42]:26\n",
      "┌ Warning: It's a FitError! Returning missing.\n",
      "└ @ Main In[42]:12\n",
      "┌ Warning: Optimization of 10.5012bkcs.2011.32.8.2705.isotherm35 resulted in a negative Henry coefficient\n",
      "│ Returning `missing`\n",
      "└ @ Main In[42]:26\n",
      "┌ Warning: Optimization of 10.1016j.micromeso.2014.02.014.Isotherm2 resulted in a negative Henry coefficient\n",
      "│ Returning `missing`\n",
      "└ @ Main In[42]:26\n",
      "┌ Warning: Optimization of 10.1016j.fluid.2013.10.050.Isotherm1 resulted in a negative Henry coefficient\n",
      "│ Returning `missing`\n",
      "└ @ Main In[42]:26\n",
      "┌ Warning: It's a FitError! Returning missing.\n",
      "└ @ Main In[42]:12\n",
      "┌ Warning: It's a FitError! Returning missing.\n",
      "└ @ Main In[42]:12\n",
      "┌ Warning: Optimization of 10.108008927022.2011.583648.isotherm24 resulted in a negative Henry coefficient\n",
      "│ Returning `missing`\n",
      "└ @ Main In[42]:26\n",
      "┌ Warning: It's a FitError! Returning missing.\n",
      "└ @ Main In[42]:12\n",
      "┌ Warning: It's a FitError! Returning missing.\n",
      "└ @ Main In[42]:12\n",
      "┌ Warning: Optimization of 10.1039C1jm10394f.Isotherm4 resulted in a negative Henry coefficient\n",
      "│ Returning `missing`\n",
      "└ @ Main In[42]:26\n",
      "┌ Warning: It's a FitError! Returning missing.\n",
      "└ @ Main In[42]:12\n",
      "┌ Warning: Optimization of 10.1002chem.201102734.Isotherm6 resulted in a negative Henry coefficient\n",
      "│ Returning `missing`\n",
      "└ @ Main In[42]:26\n",
      "┌ Warning: MSE of henry fit of file 10.108001496399508225610.isotherm1 is too large\n",
      "│ Returning `missing`\n",
      "└ @ Main In[42]:35\n",
      "┌ Warning: It's a FitError! Returning missing.\n",
      "└ @ Main In[42]:12\n",
      "┌ Warning: It's a FitError! Returning missing.\n",
      "└ @ Main In[42]:12\n",
      "┌ Warning: It's a FitError! Returning missing.\n",
      "└ @ Main In[42]:12\n",
      "┌ Warning: It's a FitError! Returning missing.\n",
      "└ @ Main In[42]:12\n",
      "┌ Warning: It's a FitError! Returning missing.\n",
      "└ @ Main In[42]:12\n",
      "┌ Warning: It's a FitError! Returning missing.\n",
      "└ @ Main In[42]:12\n",
      "┌ Warning: MSE of henry fit of file 10.1021Ie202325p.Isotherm2 is too large\n",
      "│ Returning `missing`\n",
      "└ @ Main In[42]:35\n",
      "┌ Warning: Optimization of 10.1021Jp503778m.Isotherm1 resulted in a negative Henry coefficient\n",
      "│ Returning `missing`\n",
      "└ @ Main In[42]:26\n",
      "┌ Warning: MSE of henry fit of file 10.1021Jp503778m.Isotherm3 is too large\n",
      "│ Returning `missing`\n",
      "└ @ Main In[42]:35\n",
      "┌ Warning: Optimization of 10.1021Jp503778m.Isotherm6 resulted in a negative Henry coefficient\n",
      "│ Returning `missing`\n",
      "└ @ Main In[42]:26\n",
      "┌ Warning: It's a FitError! Returning missing.\n",
      "└ @ Main In[42]:12\n",
      "┌ Warning: It's a FitError! Returning missing.\n",
      "└ @ Main In[42]:12\n",
      "┌ Warning: It's a FitError! Returning missing.\n",
      "└ @ Main In[42]:12\n",
      "┌ Warning: MSE of henry fit of file 10.1021Ie202325p.Isotherm1 is too large\n",
      "│ Returning `missing`\n",
      "└ @ Main In[42]:35\n",
      "┌ Warning: It's a FitError! Returning missing.\n",
      "└ @ Main In[42]:12\n",
      "┌ Warning: It's a FitError! Returning missing.\n",
      "└ @ Main In[42]:12\n",
      "┌ Warning: MSE of henry fit of file 10.1021Ie202325p.Isotherm3 is too large\n",
      "│ Returning `missing`\n",
      "└ @ Main In[42]:35\n",
      "┌ Warning: MSE of henry fit of file 10.1039C4cc04945d.Isotherm1 is too large\n",
      "│ Returning `missing`\n",
      "└ @ Main In[42]:35\n",
      "┌ Warning: Optimization of 10.1039C4dt00230j.Isotherm11 resulted in a negative Henry coefficient\n",
      "│ Returning `missing`\n",
      "└ @ Main In[42]:26\n",
      "┌ Warning: MSE of henry fit of file 10.1039C000931h.Isotherm1 is too large\n",
      "│ Returning `missing`\n",
      "└ @ Main In[42]:35\n",
      "┌ Warning: MSE of henry fit of file 10.1039C000931h.Isotherm2 is too large\n",
      "│ Returning `missing`\n",
      "└ @ Main In[42]:35\n",
      "┌ Warning: MSE of henry fit of file 10.1039C000931h.Isotherm3 is too large\n",
      "│ Returning `missing`\n",
      "└ @ Main In[42]:35\n",
      "┌ Warning: MSE of henry fit of file 10.1039C000931h.Isotherm4 is too large\n",
      "│ Returning `missing`\n",
      "└ @ Main In[42]:35\n",
      "┌ Warning: MSE of henry fit of file 10.1002adfm.201302854.Isotherm20 is too large\n",
      "│ Returning `missing`\n",
      "└ @ Main In[42]:35\n",
      "┌ Warning: MSE of henry fit of file 10.1002adfm.201302854.Isotherm22 is too large\n",
      "│ Returning `missing`\n",
      "└ @ Main In[42]:35\n",
      "┌ Warning: It's a FitError! Returning missing.\n",
      "└ @ Main In[42]:12\n",
      "┌ Warning: It's a FitError! Returning missing.\n",
      "└ @ Main In[42]:12\n",
      "┌ Warning: MSE of henry fit of file 10.1021Ie202325p.Isotherm4 is too large\n",
      "│ Returning `missing`\n",
      "└ @ Main In[42]:35\n",
      "┌ Warning: Optimization of 10.1002anie.201506345.Isotherm4 resulted in a negative Henry coefficient\n",
      "│ Returning `missing`\n",
      "└ @ Main In[42]:26\n",
      "┌ Warning: Optimization of 10.1039c4ta03992k.Isotherm2 resulted in a negative Henry coefficient\n",
      "│ Returning `missing`\n",
      "└ @ Main In[42]:26\n",
      "┌ Warning: Optimization of 10.1039c4ta03992k.Isotherm22 resulted in a negative Henry coefficient\n",
      "│ Returning `missing`\n",
      "└ @ Main In[42]:26\n",
      "┌ Warning: Optimization of 10.1039c4ta03992k.Isotherm20 resulted in a negative Henry coefficient\n",
      "│ Returning `missing`\n",
      "└ @ Main In[42]:26\n",
      "┌ Warning: Optimization of 10.1039c4ta03992k.Isotherm21 resulted in a negative Henry coefficient\n",
      "│ Returning `missing`\n",
      "└ @ Main In[42]:26\n",
      "┌ Warning: Optimization of 10.1039c4ta03992k.Isotherm19 resulted in a negative Henry coefficient\n",
      "│ Returning `missing`\n",
      "└ @ Main In[42]:26\n",
      "┌ Warning: Optimization of 10.1039c4ta03992k.Isotherm18 resulted in a negative Henry coefficient\n",
      "│ Returning `missing`\n",
      "└ @ Main In[42]:26\n",
      "┌ Warning: Optimization of 10.1039c4ta03992k.Isotherm17 resulted in a negative Henry coefficient\n",
      "│ Returning `missing`\n",
      "└ @ Main In[42]:26\n",
      "┌ Warning: Optimization of 10.1039c5ce00015g.Isotherm20 resulted in a negative Henry coefficient\n",
      "│ Returning `missing`\n",
      "└ @ Main In[42]:26\n",
      "┌ Warning: It's a FitError! Returning missing.\n",
      "└ @ Main In[42]:12\n",
      "┌ Warning: MSE of henry fit of file 10.1039B807470d.isotherm6 is too large\n",
      "│ Returning `missing`\n",
      "└ @ Main In[42]:35\n",
      "┌ Warning: MSE of henry fit of file 10.108008927020802609447.Isotherm1 is too large\n",
      "│ Returning `missing`\n",
      "└ @ Main In[42]:35\n",
      "┌ Warning: It's a FitError! Returning missing.\n",
      "└ @ Main In[42]:12\n",
      "┌ Warning: Optimization of 10.10631.4897351.Isotherm6 resulted in a negative Henry coefficient\n",
      "│ Returning `missing`\n",
      "└ @ Main In[42]:26\n",
      "┌ Warning: It's a FitError! Returning missing.\n",
      "└ @ Main In[42]:12\n",
      "┌ Warning: Optimization of 10.1021Ie8005269.isotherm3 resulted in a negative Henry coefficient\n",
      "│ Returning `missing`\n",
      "└ @ Main In[42]:26\n",
      "┌ Warning: MSE of henry fit of file 10.1039C4ra12432d.Isotherm5 is too large\n",
      "│ Returning `missing`\n",
      "└ @ Main In[42]:35\n",
      "┌ Warning: Optimization of 10.1002ceat.201400741.Isotherm3 resulted in a negative Henry coefficient\n",
      "│ Returning `missing`\n",
      "└ @ Main In[42]:26\n",
      "┌ Warning: Optimization of 10.5012bkcs.2011.32.8.2705.isotherm20 resulted in a negative Henry coefficient\n",
      "│ Returning `missing`\n",
      "└ @ Main In[42]:26\n",
      "┌ Warning: Optimization of 10.1016j.fluid.2013.10.050.Isotherm2 resulted in a negative Henry coefficient\n",
      "│ Returning `missing`\n",
      "└ @ Main In[42]:26\n",
      "┌ Warning: MSE of henry fit of file 10.1021La4027128.isotherm15 is too large\n",
      "│ Returning `missing`\n",
      "└ @ Main In[42]:35\n",
      "┌ Warning: MSE of henry fit of file 10.1021La034766z.Isotherm14 is too large\n",
      "│ Returning `missing`\n",
      "└ @ Main In[42]:35\n",
      "┌ Warning: It's a FitError! Returning missing.\n",
      "└ @ Main In[42]:12\n",
      "┌ Warning: It's a FitError! Returning missing.\n",
      "└ @ Main In[42]:12\n",
      "┌ Warning: Optimization of 10.1016j.procs.2011.04.128.Isotherm2 resulted in a negative Henry coefficient\n",
      "│ Returning `missing`\n",
      "└ @ Main In[42]:26\n",
      "┌ Warning: It's a FitError! Returning missing.\n",
      "└ @ Main In[42]:12\n",
      "┌ Warning: It's a FitError! Returning missing.\n",
      "└ @ Main In[42]:12\n",
      "┌ Warning: MSE of henry fit of file 10.1021Ja203291n.Isotherm3 is too large\n",
      "│ Returning `missing`\n",
      "└ @ Main In[42]:35\n",
      "┌ Warning: It's a FitError! Returning missing.\n",
      "└ @ Main In[42]:12\n",
      "┌ Warning: Optimization of 10.1039C3cc48275h.Isotherm18 resulted in a negative Henry coefficient\n",
      "│ Returning `missing`\n",
      "└ @ Main In[42]:26\n",
      "┌ Warning: It's a FitError! Returning missing.\n",
      "└ @ Main In[42]:12\n",
      "┌ Warning: MSE of henry fit of file 10.1021Ic301481p.isotherm4 is too large\n",
      "│ Returning `missing`\n",
      "└ @ Main In[42]:35\n",
      "┌ Warning: Optimization of 10.1039C4dt00230j.Isotherm13 resulted in a negative Henry coefficient\n",
      "│ Returning `missing`\n",
      "└ @ Main In[42]:26\n",
      "┌ Warning: It's a FitError! Returning missing.\n",
      "└ @ Main In[42]:12\n",
      "┌ Warning: Optimization of 10.1002adfm.201302854.Isotherm14 resulted in a negative Henry coefficient\n",
      "│ Returning `missing`\n",
      "└ @ Main In[42]:26\n",
      "┌ Warning: Optimization of 10.1021Cr4006473.Isotherm3 resulted in a negative Henry coefficient\n",
      "│ Returning `missing`\n",
      "└ @ Main In[42]:26\n",
      "┌ Warning: Optimization of 10.1021Cr4006473.Isotherm4 resulted in a negative Henry coefficient\n",
      "│ Returning `missing`\n",
      "└ @ Main In[42]:26\n",
      "┌ Warning: Optimization of 10.1021Cr4006473.Isotherm6 resulted in a negative Henry coefficient\n",
      "│ Returning `missing`\n",
      "└ @ Main In[42]:26\n",
      "┌ Warning: Optimization of 10.1021la4004998.isotherm4 resulted in a negative Henry coefficient\n",
      "│ Returning `missing`\n",
      "└ @ Main In[42]:26\n",
      "┌ Warning: MSE of henry fit of file 10.1039C1cc14685h.Isotherm6 is too large\n",
      "│ Returning `missing`\n",
      "└ @ Main In[42]:35\n",
      "┌ Warning: Optimization of 10.1002cplu.201500104.Isotherm7 resulted in a negative Henry coefficient\n",
      "│ Returning `missing`\n",
      "└ @ Main In[42]:26\n",
      "┌ Warning: It's a FitError! Returning missing.\n",
      "└ @ Main In[42]:12\n",
      "┌ Warning: Optimization of 10.1021Cg500235j.Isotherm9 resulted in a negative Henry coefficient\n",
      "│ Returning `missing`\n",
      "└ @ Main In[42]:26\n",
      "┌ Warning: Optimization of 10.1021Jp3099768.Isotherm32 resulted in a negative Henry coefficient\n",
      "│ Returning `missing`\n",
      "└ @ Main In[42]:26\n",
      "┌ Warning: Optimization of 10.1021Am5028346.Isotherm2 resulted in a negative Henry coefficient\n",
      "│ Returning `missing`\n",
      "└ @ Main In[42]:26\n",
      "┌ Warning: Optimization of 10.1039C4ce01165a.Isotherm18 resulted in a negative Henry coefficient\n",
      "│ Returning `missing`\n",
      "└ @ Main In[42]:26\n",
      "┌ Warning: Optimization of 10.1021Je1002225.isotherm12 resulted in a negative Henry coefficient\n",
      "│ Returning `missing`\n",
      "└ @ Main In[42]:26\n",
      "┌ Warning: MSE of henry fit of file 10.1039B807470d.isotherm8 is too large\n",
      "│ Returning `missing`\n",
      "└ @ Main In[42]:35\n",
      "┌ Warning: Optimization of 10.1039C4cc06697a.Isotherm8 resulted in a negative Henry coefficient\n",
      "│ Returning `missing`\n",
      "└ @ Main In[42]:26\n",
      "┌ Warning: Optimization of 10.1039C4ee00143e.Isotherm35 resulted in a negative Henry coefficient\n",
      "│ Returning `missing`\n",
      "└ @ Main In[42]:26\n",
      "┌ Warning: MSE of henry fit of file 10.1039C1cc14685h.Isotherm5 is too large\n",
      "│ Returning `missing`\n",
      "└ @ Main In[42]:35\n",
      "┌ Warning: Optimization of 10.1039C3dt50704a.isotherm10 resulted in a negative Henry coefficient\n",
      "│ Returning `missing`\n",
      "└ @ Main In[42]:26\n",
      "┌ Warning: MSE of henry fit of file 10.1039C1jm10394f.Isotherm3 is too large\n",
      "│ Returning `missing`\n",
      "└ @ Main In[42]:35\n",
      "┌ Warning: It's a FitError! Returning missing.\n",
      "└ @ Main In[42]:12\n",
      "┌ Warning: It's a FitError! Returning missing.\n",
      "└ @ Main In[42]:12\n",
      "┌ Warning: Optimization of 10.1021acs.iecr.7b01536.Isotherm2 resulted in a negative Henry coefficient\n",
      "│ Returning `missing`\n",
      "└ @ Main In[42]:26\n",
      "┌ Warning: Optimization of 10.1021Ie500310c.Isotherm43 resulted in a negative Henry coefficient\n",
      "│ Returning `missing`\n",
      "└ @ Main In[42]:26\n",
      "┌ Warning: MSE of henry fit of file 10.1016j.micromeso.2012.02.034.Isotherm2 is too large\n",
      "│ Returning `missing`\n",
      "└ @ Main In[42]:35\n",
      "┌ Warning: It's a FitError! Returning missing.\n",
      "└ @ Main In[42]:12\n",
      "┌ Warning: MSE of henry fit of file 10.1021La4027128.isotherm17 is too large\n",
      "│ Returning `missing`\n",
      "└ @ Main In[42]:35\n",
      "┌ Warning: MSE of henry fit of file 10.1039B703502k.isotherm4 is too large\n",
      "│ Returning `missing`\n",
      "└ @ Main In[42]:35\n",
      "┌ Warning: It's a FitError! Returning missing.\n",
      "└ @ Main In[42]:12\n",
      "┌ Warning: Optimization of 10.1002adfm.201302854.Isotherm24 resulted in a negative Henry coefficient\n",
      "│ Returning `missing`\n",
      "└ @ Main In[42]:26\n",
      "┌ Warning: Optimization of 10.1002adfm.201302854.Isotherm25 resulted in a negative Henry coefficient\n",
      "│ Returning `missing`\n",
      "└ @ Main In[42]:26\n",
      "┌ Warning: MSE of henry fit of file 10.1021La2030473.isotherm19 is too large\n",
      "│ Returning `missing`\n",
      "└ @ Main In[42]:35\n",
      "┌ Warning: Optimization of 10.1021je000273plus.isotherm76 resulted in a negative Henry coefficient\n",
      "│ Returning `missing`\n",
      "└ @ Main In[42]:26\n",
      "┌ Warning: Optimization of 10.1021je000273plus.isotherm82 resulted in a negative Henry coefficient\n",
      "│ Returning `missing`\n",
      "└ @ Main In[42]:26\n",
      "┌ Warning: Optimization of 10.1021je000273plus.isotherm83 resulted in a negative Henry coefficient\n",
      "│ Returning `missing`\n",
      "└ @ Main In[42]:26\n",
      "┌ Warning: It's a FitError! Returning missing.\n",
      "└ @ Main In[42]:12\n",
      "┌ Warning: Optimization of 10.1021je000273plus.isotherm74 resulted in a negative Henry coefficient\n",
      "│ Returning `missing`\n",
      "└ @ Main In[42]:26\n",
      "┌ Warning: It's a FitError! Returning missing.\n",
      "└ @ Main In[42]:12\n",
      "┌ Warning: It's a FitError! Returning missing.\n",
      "└ @ Main In[42]:12\n",
      "┌ Warning: It's a FitError! Returning missing.\n",
      "└ @ Main In[42]:12\n",
      "┌ Warning: Optimization of 10.1021Jp509672c.Isotherm7 resulted in a negative Henry coefficient\n",
      "│ Returning `missing`\n",
      "└ @ Main In[42]:26\n",
      "┌ Warning: Optimization of 10.1021Jp509672c.Isotherm8 resulted in a negative Henry coefficient\n",
      "│ Returning `missing`\n",
      "└ @ Main In[42]:26\n",
      "┌ Warning: MSE of henry fit of file 10.1021La034766z.Isotherm12 is too large\n",
      "│ Returning `missing`\n",
      "└ @ Main In[42]:35\n",
      "┌ Warning: MSE of henry fit of file 10.1021La034766z.Isotherm5 is too large\n",
      "│ Returning `missing`\n",
      "└ @ Main In[42]:35\n",
      "┌ Warning: It's a FitError! Returning missing.\n",
      "└ @ Main In[42]:12\n",
      "┌ Warning: MSE of henry fit of file 10.1039c4qi00138a.Isotherm6 is too large\n",
      "│ Returning `missing`\n",
      "└ @ Main In[42]:35\n",
      "┌ Warning: Optimization of 10.1039C3cc48275h.Isotherm22 resulted in a negative Henry coefficient\n",
      "│ Returning `missing`\n",
      "└ @ Main In[42]:26\n",
      "┌ Warning: Optimization of 10.1039C3cc48275h.Isotherm23 resulted in a negative Henry coefficient\n",
      "│ Returning `missing`\n",
      "└ @ Main In[42]:26\n",
      "┌ Warning: MSE of henry fit of file 10.1039C0cc02496a.Isotherm7 is too large\n",
      "│ Returning `missing`\n",
      "└ @ Main In[42]:35\n",
      "┌ Warning: MSE of henry fit of file 10.1002anie.201506345.Isotherm2 is too large\n",
      "│ Returning `missing`\n",
      "└ @ Main In[42]:35\n",
      "┌ Warning: MSE of henry fit of file 10.1016j.fluid.2007.06.030.Isotherm25 is too large\n",
      "│ Returning `missing`\n",
      "└ @ Main In[42]:35\n",
      "┌ Warning: It's a FitError! Returning missing.\n",
      "└ @ Main In[42]:12\n",
      "┌ Warning: Optimization of 10.1016j.ijhydene.2013.02.074.isotherm8 resulted in a negative Henry coefficient\n",
      "│ Returning `missing`\n",
      "└ @ Main In[42]:26\n",
      "┌ Warning: Optimization of 10.1016j.micromeso.2010.04.015.isotherm59 resulted in a negative Henry coefficient\n",
      "│ Returning `missing`\n",
      "└ @ Main In[42]:26\n",
      "┌ Warning: Optimization of 10.1021Jp809539w.isotherm24 resulted in a negative Henry coefficient\n",
      "│ Returning `missing`\n",
      "└ @ Main In[42]:26\n",
      "┌ Warning: Optimization of 10.1021Jp809539w.isotherm20 resulted in a negative Henry coefficient\n",
      "│ Returning `missing`\n",
      "└ @ Main In[42]:26\n",
      "┌ Warning: Optimization of 10.1021Ja404514r.isotherm34 resulted in a negative Henry coefficient\n",
      "│ Returning `missing`\n",
      "└ @ Main In[42]:26\n",
      "┌ Warning: Optimization of 10.1016j.fluid.2013.11.029.Isotherm18 resulted in a negative Henry coefficient\n",
      "│ Returning `missing`\n",
      "└ @ Main In[42]:26\n",
      "┌ Warning: It's a FitError! Returning missing.\n",
      "└ @ Main In[42]:12\n",
      "┌ Warning: MSE of henry fit of file 10.1021Jp074889i.Isotherm27 is too large\n",
      "│ Returning `missing`\n",
      "└ @ Main In[42]:35\n",
      "┌ Warning: Optimization of 10.1021Jp305524f.Isotherm100 resulted in a negative Henry coefficient\n",
      "│ Returning `missing`\n",
      "└ @ Main In[42]:26\n",
      "┌ Warning: Optimization of 10.1021Jp305524f.Isotherm73 resulted in a negative Henry coefficient\n",
      "│ Returning `missing`\n",
      "└ @ Main In[42]:26\n",
      "┌ Warning: Optimization of 10.1021Jp305524f.Isotherm9 resulted in a negative Henry coefficient\n",
      "│ Returning `missing`\n",
      "└ @ Main In[42]:26\n",
      "┌ Warning: Optimization of 10.1021Jp809539w.isotherm12 resulted in a negative Henry coefficient\n",
      "│ Returning `missing`\n",
      "└ @ Main In[42]:26\n",
      "┌ Warning: It's a FitError! Returning missing.\n",
      "└ @ Main In[42]:12\n",
      "┌ Warning: It's a FitError! Returning missing.\n",
      "└ @ Main In[42]:12\n",
      "┌ Warning: MSE of henry fit of file 10.1039C3cc40819a.isotherm23 is too large\n",
      "│ Returning `missing`\n",
      "└ @ Main In[42]:35\n",
      "┌ Warning: It's a FitError! Returning missing.\n",
      "└ @ Main In[42]:12\n",
      "┌ Warning: It's a FitError! Returning missing.\n",
      "└ @ Main In[42]:12\n",
      "┌ Warning: MSE of henry fit of file 10.1016j.memsci.2011.09.040.Isotherm4 is too large\n",
      "│ Returning `missing`\n",
      "└ @ Main In[42]:35\n",
      "┌ Warning: Optimization of 10.1021Jp074889i.Isotherm69 resulted in a negative Henry coefficient\n",
      "│ Returning `missing`\n",
      "└ @ Main In[42]:26\n",
      "┌ Warning: Optimization of 10.1016j.fluid.2013.11.029.Isotherm49 resulted in a negative Henry coefficient\n",
      "│ Returning `missing`\n",
      "└ @ Main In[42]:26\n",
      "┌ Warning: MSE of henry fit of file 10.12600263-6174.28.8-9.823.isotherm2a is too large\n",
      "│ Returning `missing`\n",
      "└ @ Main In[42]:35\n",
      "┌ Warning: MSE of henry fit of file 10.12600263-6174.28.8-9.823.isotherm2c is too large\n",
      "│ Returning `missing`\n",
      "└ @ Main In[42]:35\n",
      "┌ Warning: MSE of henry fit of file 10.12600263-6174.28.8-9.823.isotherm2e is too large\n",
      "│ Returning `missing`\n",
      "└ @ Main In[42]:35\n",
      "┌ Warning: Optimization of 10.1021Jp809539w.isotherm16 resulted in a negative Henry coefficient\n",
      "│ Returning `missing`\n",
      "└ @ Main In[42]:26\n",
      "┌ Warning: Optimization of 10.1002ceat.201400741.Isotherm5 resulted in a negative Henry coefficient\n",
      "│ Returning `missing`\n",
      "└ @ Main In[42]:26\n",
      "┌ Warning: It's a FitError! Returning missing.\n",
      "└ @ Main In[42]:12\n",
      "┌ Warning: Optimization of 10.1021Jp809539w.isotherm28 resulted in a negative Henry coefficient\n",
      "│ Returning `missing`\n",
      "└ @ Main In[42]:26\n",
      "┌ Warning: Optimization of 10.1039C4ra06295g.Isotherm6 resulted in a negative Henry coefficient\n",
      "│ Returning `missing`\n",
      "└ @ Main In[42]:26\n",
      "┌ Warning: Optimization of 10.1016j.jcat.2014.07.010.Isotherm26 resulted in a negative Henry coefficient\n",
      "│ Returning `missing`\n",
      "└ @ Main In[42]:26\n"
     ]
    },
    {
     "name": "stdout",
     "output_type": "stream",
     "text": [
      "Sparsity before pruning: 90.45%\n",
      "Minimum entries required in each column/row of H: 3\n",
      "Number of gases cut: 0\n",
      "Number of materials cut: 0\n",
      "Dimensions of H went from (423, 46) to (423, 46)\n",
      "Number of iterations required to prune H: 0\n",
      "Sparsity after pruning: 90.45%\n"
     ]
    },
    {
     "name": "stderr",
     "output_type": "stream",
     "text": [
      "┌ Warning: Optimization of 10.1021Jp203607s.isotherm10 resulted in a negative Henry coefficient\n",
      "│ Returning `missing`\n",
      "└ @ Main In[42]:26\n",
      "┌ Warning: Optimization of 10.1021Jp203607s.isotherm15 resulted in a negative Henry coefficient\n",
      "│ Returning `missing`\n",
      "└ @ Main In[42]:26\n",
      "┌ Warning: MSE of henry fit of file 10.12600263-6174.28.8-9.823.isotherm3d is too large\n",
      "│ Returning `missing`\n",
      "└ @ Main In[42]:35\n"
     ]
    }
   ],
   "source": [
    "function fill_H(filter_functions::Array{<:Function, 1}, fit_function::Function, post_functions::Array{<:Function, 1}, max_value_of_h::Float64=1e10)\n",
    "    nm = length(master_list_of_materials)\n",
    "    ng = length(master_list_of_gases)\n",
    "    H = Array{Union{Float64, Missing}, 2}(undef, nm, ng)\n",
    "    fill!(H, missing)\n",
    "    MSE = Array{Union{Float64, Missing}, 2}(undef, nm, ng)\n",
    "    fill!(MSE, missing)\n",
    "\n",
    "    for (j, gas) in enumerate(master_list_of_gases)\n",
    "        if !haskey(isotherm_dictionary, gas)\n",
    "            continue\n",
    "        end\n",
    "        for (i, material) in enumerate(master_list_of_materials)\n",
    "            if !haskey(isotherm_dictionary[gas], material)\n",
    "                continue\n",
    "            end\n",
    "            isotherm_list = isotherm_dictionary[gas][material]\n",
    "            isotherms = read_isotherm.(isotherm_list)\n",
    "            ### Lets run the validity functions to see which isotherm files are valid\n",
    "            valid_isotherms = trues(length(isotherm_list))\n",
    "            for filter_func in filter_functions\n",
    "                valid_isotherms .= valid_isotherms .& filter_func.(isotherms)\n",
    "            end\n",
    "            \n",
    "            fit_vals = Array{Union{Missing, Float64}, 1}(undef, sum(valid_isotherms))\n",
    "            fill!(fit_vals, missing)\n",
    "            mse_vals = Array{Union{Missing, Float64}, 1}(undef, sum(valid_isotherms))\n",
    "            fill!(fit_vals, missing)\n",
    "\n",
    "            ### Lets run the fitting function now\n",
    "            fit_vals, mse_vals = fit_function(isotherms[valid_isotherms], 0.05)\n",
    "\n",
    "            \n",
    "            if length(collect(skipmissing(fit_vals))) == 0\n",
    "                continue\n",
    "            end\n",
    "                \n",
    "            for k = 1:length(fit_vals)\n",
    "                if typeof(fit_vals[k]) == Missing\n",
    "                    continue\n",
    "                elseif fit_vals[k] > max_value_of_h\n",
    "                    fit_vals[k] = missing\n",
    "                end\n",
    "            end\n",
    "                \n",
    "            # Lets take the median of the fitted values to try to remove the effects of outlieres\n",
    "            H[i,j] = median(skipmissing(fit_vals))\n",
    "            MSE[i,j] = median(skipmissing(mse_vals))\n",
    "            \n",
    "                \n",
    "            ### And finally lets run the post processing functions\n",
    "            for post_func in post_functions\n",
    "                H[i,j] = post_func(H[i,j])\n",
    "            end\n",
    "        end\n",
    "    end\n",
    "    @printf(\"Sparsity before pruning: %.2f%%\\n\", sum(ismissing.(H))/length(H)*100)\n",
    "\n",
    "    keep_row, keep_col = prune(H)\n",
    "    H = H[keep_row, keep_col]\n",
    "    MSE = MSE[keep_row, keep_col]\n",
    "    \n",
    "\n",
    "    @printf(\"Sparsity after pruning: %.2f%%\\n\", sum(ismissing.(H))/length(H)*100)\n",
    "    return H, keep_row, keep_col, MSE\n",
    "end\n",
    "                    \n",
    "H, keep_row, keep_col, MSE = fill_H([_check_nb_of_adsorbates, _check_temperature, _check_units, _check_category], _fit_henry_to_isotherm, [log10])\n",
    "master_list_of_gases = master_list_of_gases[keep_col];\n",
    "master_list_of_materials = master_list_of_materials[keep_row];"
   ]
  },
  {
   "cell_type": "code",
   "execution_count": 46,
   "metadata": {},
   "outputs": [],
   "source": [
    "@save joinpath(\"data\", \"logH_matrix_materials_and_gases.jld2\") H master_list_of_materials master_list_of_gases"
   ]
  },
  {
   "cell_type": "code",
   "execution_count": 47,
   "metadata": {},
   "outputs": [
    {
     "data": {
      "text/plain": [
       "2-element Array{AbstractString,1}:\n",
       " \"10.108008927020701275068.Isotherm11\"\n",
       " \"10.108008927020701275068.Isotherm12\""
      ]
     },
     "execution_count": 47,
     "metadata": {},
     "output_type": "execute_result"
    }
   ],
   "source": [
    "sanity_isotherms = isotherm_dictionary[\"Hydrogen cyanide\"][\"Silicalite MFI\"]"
   ]
  },
  {
   "cell_type": "code",
   "execution_count": 143,
   "metadata": {},
   "outputs": [
    {
     "data": {
      "image/png": "[encoded data removed]",
      "text/plain": [
       "Figure(PyObject <Figure size 1200x600 with 1 Axes>)"
      ]
     },
     "metadata": {},
     "output_type": "display_data"
    }
   ],
   "source": [
    "function h_dist_for_gas(gases::Array{<:Union{AbstractString, Int}, 1})\n",
    "    gas_Hs = Array{Array{Float64, 1}, 1}()\n",
    "    gases = convert(Array{Union{AbstractString, Int}, 1}, gases)\n",
    "    for i in 1:length(gases)\n",
    "        if typeof(gases[i]) <: AbstractString\n",
    "            @assert gases[i] in master_list_of_gases\n",
    "            gases[i] = findfirst(gases[i] .== master_list_of_gases)\n",
    "        end\n",
    "        push!(gas_Hs, collect(skipmissing(H[:, gases[i]])))\n",
    "    end\n",
    "    fig, ax = plt.subplots(figsize=(12,6))\n",
    "    violin_parts = ax.violinplot(gas_Hs, showmedians=true)\n",
    "    # Make color of violins orange\n",
    "    for piece in violin_parts[\"bodies\"]\n",
    "        piece.set_facecolor(\"#f58231\")\n",
    "        piece.set_edgecolor(\"k\")\n",
    "    end\n",
    "    # Make the max, min, median bars maroon\n",
    "    for partname in [\"cbars\", \"cmins\", \"cmaxes\", \"cmedians\"]\n",
    "        piece = violin_parts[partname]\n",
    "        piece.set_edgecolor(\"#800000\")\n",
    "    end\n",
    "    xlim = ax.get_xlim()\n",
    "    ax.plot(xlim, [0, 0], c=\"#a9a9a9\", alpha=0.8, zorder=.8)\n",
    "    ax.set_xlim(xlim)\n",
    "    ax.set_xticks(1:length(gases))\n",
    "    ax.set_xticklabels([master_list_of_gases[i] for i in gases], rotation=45, ha=\"right\")\n",
    "    #ax.set_xlabel(master_list_of_gases[gases])\n",
    "    ax.set_ylabel(L\"log$_{10}$ Henry Coefficient\")\n",
    "    #ax.set_title(\"MSE Distribution for \" * master_list_of_gases[gases])\n",
    "    plt.tight_layout()\n",
    "    plt.grid(\"on\", alpha=0.4)\n",
    "    plt.show()\n",
    "    return gas_Hs\n",
    "end\n",
    "\n",
    "#h_dist_for_gas([\"Water\", \"Carbon Dioxide\"])\n",
    "h_dist_for_gas(master_list_of_gases[1:20]);"
   ]
  },
  {
   "cell_type": "code",
   "execution_count": 87,
   "metadata": {},
   "outputs": [
    {
     "data": {
      "text/plain": [
       "true"
      ]
     },
     "execution_count": 87,
     "metadata": {},
     "output_type": "execute_result"
    }
   ],
   "source": [
    "typeof([\"Water\", \"Carbon Dioxide\"]) <: Array{<:Union{AbstractString, Int}, 1}"
   ]
  },
  {
   "cell_type": "code",
   "execution_count": 48,
   "metadata": {},
   "outputs": [
    {
     "data": {
      "image/png": "[encoded data removed]",
      "text/plain": [
       "Figure(PyObject <Figure size 600x600 with 1 Axes>)"
      ]
     },
     "metadata": {},
     "output_type": "display_data"
    },
    {
     "data": {
      "text/plain": [
       "98-element Array{Float64,1}:\n",
       " 0.02673887490808396   \n",
       " 0.0035690421996324006 \n",
       " 0.0026185412338804396 \n",
       " 0.007017421648755968  \n",
       " 0.00015100517302159543\n",
       " 0.010964100952607596  \n",
       " 0.007962453386614025  \n",
       " 0.025646230070628932  \n",
       " 0.02518146435726103   \n",
       " 0.003336677864673869  \n",
       " 0.0030237305754698828 \n",
       " 0.034617662965427044  \n",
       " 0.012820212241143089  \n",
       " ⋮                     \n",
       " 0.002291524813659407  \n",
       " 0.03171760141505694   \n",
       " 0.009881706563214637  \n",
       " 0.0006101947361194889 \n",
       " 0.04093715740120392   \n",
       " 0.025845558212493163  \n",
       " 0.002097569178571479  \n",
       " 0.0066327560470935566 \n",
       " 0.017609823651096077  \n",
       " 0.0009731430865910148 \n",
       " 0.009659048909505653  \n",
       " 0.009224117795395304  "
      ]
     },
     "execution_count": 48,
     "metadata": {},
     "output_type": "execute_result"
    }
   ],
   "source": [
    "function plot_mse_distribution_per_gas(gas::Union{AbstractString, Int})\n",
    "    if typeof(gas) <: AbstractString\n",
    "        @assert gas in master_list_of_gases\n",
    "        gas = findfirst(gas .== master_list_of_gases)\n",
    "    end\n",
    "    gas_mses = collect(skipmissing(MSE[:, gas]))\n",
    "    \n",
    "    fig, ax = plt.subplots(figsize=(6,6))\n",
    "    ax.hist(gas_mses, bins=20, fc=\"#3cb44b\", ec=\"k\")\n",
    "    ax.set_xlabel(\"MSE\")\n",
    "    ax.set_ylabel(\"Count\")\n",
    "    ax.set_title(\"MSE Distribution for \" * master_list_of_gases[gas])\n",
    "    plt.tight_layout()\n",
    "    plt.show()\n",
    "    return gas_mses\n",
    "end\n",
    "\n",
    "plot_mse_distribution_per_gas(\"Water\")"
   ]
  },
  {
   "cell_type": "code",
   "execution_count": 49,
   "metadata": {},
   "outputs": [
    {
     "data": {
      "image/png": "[encoded data removed]",
      "text/plain": [
       "Figure(PyObject <Figure size 600x600 with 1 Axes>)"
      ]
     },
     "metadata": {},
     "output_type": "display_data"
    },
    {
     "data": {
      "image/png": "[encoded data removed]",
      "text/plain": [
       "Figure(PyObject <Figure size 600x600 with 1 Axes>)"
      ]
     },
     "metadata": {},
     "output_type": "display_data"
    },
    {
     "data": {
      "image/png": "[encoded data removed]",
      "text/plain": [
       "Figure(PyObject <Figure size 600x600 with 1 Axes>)"
      ]
     },
     "metadata": {},
     "output_type": "display_data"
    },
    {
     "data": {
      "image/png": "[encoded data removed]",
      "text/plain": [
       "Figure(PyObject <Figure size 600x600 with 1 Axes>)"
      ]
     },
     "metadata": {},
     "output_type": "display_data"
    },
    {
     "data": {
      "image/png": "[encoded data removed]",
      "text/plain": [
       "Figure(PyObject <Figure size 600x600 with 1 Axes>)"
      ]
     },
     "metadata": {},
     "output_type": "display_data"
    },
    {
     "data": {
      "text/plain": [
       "5-element Array{Array{Float64,1},1}:\n",
       " [1.072909289501732, 0.9795861488663866, 1.016095353135283, -0.038547901483219654, -0.8637509822378301, 0.7469677870090351, 0.7639743722932015, 0.42958336991626245, 1.2620781561082672]                                                                                                                                                                                                                              \n",
       " [3.129418013188716, 1.0707940843886936, 0.4691772198716586, 0.7458191624798685, 4.191453149374808, -0.4500473222875485, 2.9153134079364253, 3.6473285912520588, 2.136730479315194, 2.7922685922263577  …  1.7831841464186269, 2.4604968518020804, 1.3606536003644925, 2.9574692397146216, 1.80175914460151, 2.5278707451113456, 0.7146788873768336, 2.0997834380698293, 0.4072412887132595, 2.05724115005001]        \n",
       " [3.87753753764111, 0.6483401075885297, -0.6715424247479485, 1.5767808004054964, 2.8475535379162586, 0.4431962664929722, 3.609116912653037, 4.309736903453064, 0.8498443511045386, 0.7199333749307855, 3.93221329290473, 2.174616421643977]                                                                                                                                                                           \n",
       " [0.6089123280529243, 0.40725782515637937, 1.0108161135084872, 0.4397078512520117, 1.8449710184640404, 1.622450519264207, 1.5425057991910436, 1.2156625327876136, 0.20415007805018795, 1.519219077934495  …  0.9583897537993619, -0.5739198930235446, -1.821333385962579, 1.3633865586346454, -0.4420681997884027, 1.4083926408424716, 0.10134454300293792, 0.5053606179768716, 3.418374390499006, 0.7756858905006341]\n",
       " [2.959134459143815, 0.8556849823521471, 1.2104770839014687, 2.0405646563312563, 2.3276887471683225, 2.5084342718051054]                                                                                                                                                                                                                                                                                              "
      ]
     },
     "execution_count": 49,
     "metadata": {},
     "output_type": "execute_result"
    }
   ],
   "source": [
    "function plot_H_distribution_per_gas(gas::Union{AbstractString, Int})\n",
    "    if typeof(gas) <: AbstractString\n",
    "        @assert gas in master_list_of_gases\n",
    "        gas = findfirst(gas .== master_list_of_gases)\n",
    "    end\n",
    "    gas_Hs = collect(skipmissing(H[:, gas]))\n",
    "    \n",
    "    fig, ax = plt.subplots(figsize=(6,6))\n",
    "    ax.hist(gas_Hs, bins=20, fc=\"#3cb44b\", ec=\"k\")\n",
    "    ax.set_xlabel(\"log10(Henry Coefficient)\")\n",
    "    ax.set_ylabel(\"Count\")\n",
    "    ax.set_title(\"Henry Coefficient Distribution for \" * master_list_of_gases[gas])\n",
    "    plt.tight_layout()\n",
    "    plt.show()\n",
    "    return gas_Hs\n",
    "end\n",
    "\n",
    "plot_H_distribution_per_gas.(1:5)"
   ]
  },
  {
   "cell_type": "code",
   "execution_count": 51,
   "metadata": {},
   "outputs": [
    {
     "data": {
      "image/png": "[encoded data removed]",
      "text/plain": [
       "Figure(PyObject <Figure size 800x800 with 1 Axes>)"
      ]
     },
     "metadata": {},
     "output_type": "display_data"
    },
    {
     "data": {
      "text/plain": [
       "PyObject <matplotlib.collections.PathCollection object at 0x7f0817a934e0>"
      ]
     },
     "execution_count": 51,
     "metadata": {},
     "output_type": "execute_result"
    }
   ],
   "source": [
    "fig, ax = plt.subplots(figsize=(8,8))\n",
    "ax.scatter(list_of_scaled_mses[list_of_cs], list_of_H[list_of_cs], s=8, c=\"#f58231\")\n",
    "ax.scatter(list_of_scaled_mses[.!list_of_cs], list_of_H[.!list_of_cs], s=8, c=\"#4363d8\")\n",
    "#ax.set_xscale(\"log\")\n",
    "#ax.set_ylim([-1, 50000])\n",
    "#ax.set_xlim([-0.01, 0.1])"
   ]
  },
  {
   "cell_type": "code",
   "execution_count": null,
   "metadata": {},
   "outputs": [],
   "source": [
    "sum(.!list_of_cs)"
   ]
  },
  {
   "cell_type": "code",
   "execution_count": null,
   "metadata": {},
   "outputs": [],
   "source": [
    "for fn in list_of_filenames[.!list_of_cs][1:1]\n",
    "    #println(fn)\n",
    "    fig, ax = plt.subplots(figsize=(5,5))\n",
    "    iso = read_isotherm(fn)\n",
    "    pre, ads = convert_units(iso)\n",
    "    ax.scatter(pre, ads)\n",
    "    ax.set_xlabel(\"Pressure (bar)\")\n",
    "    ax.set_ylabel(\"Adsorption (mmol/g)\")\n",
    "    plt.tight_layout()\n",
    "    #H = _fit_henry_to_isotherm(iso)\n",
    "    #ax.plot([0, maximum(pre)], [0, H*maximum(pre)])\n",
    "    #ax.set_title(fn)\n",
    "    plt.show(fig)\n",
    "    plt.savefig(\"bad_iso4.png\", dpi=300, format=\"png\")\n",
    "end"
   ]
  },
  {
   "cell_type": "markdown",
   "metadata": {},
   "source": [
    "## Sanity Check"
   ]
  },
  {
   "cell_type": "code",
   "execution_count": null,
   "metadata": {},
   "outputs": [],
   "source": [
    "gas = 7\n",
    "@show master_list_of_gases[gas]\n",
    "material = 211\n",
    "@show master_list_of_materials[material]"
   ]
  },
  {
   "cell_type": "code",
   "execution_count": null,
   "metadata": {},
   "outputs": [],
   "source": [
    "sanity_isotherms = isotherm_dictionary[master_list_of_gases[gas]][master_list_of_materials[material]]"
   ]
  },
  {
   "cell_type": "code",
   "execution_count": null,
   "metadata": {},
   "outputs": [],
   "source": [
    "sanity_Hs = Array{Union{Float64, Missing}, 1}(undef, length(sanity_isotherms))\n",
    "for (i, isotherm) in enumerate(sanity_isotherms)\n",
    "    @printf(\"Isotherm filename: %s\\n\", isotherm)\n",
    "    iso = read_isotherm(isotherm)\n",
    "    @show iso[\"temperature\"]\n",
    "    @show iso[\"adsorptionUnits\"]\n",
    "    @show iso[\"pressureUnits\"]\n",
    "    @show iso[\"category\"]\n",
    "    @show iso[\"adsorbates\"][1][\"name\"]\n",
    "    @show iso[\"adsorbent\"][\"name\"]\n",
    "\n",
    "    valid = true\n",
    "    valid = valid && _check_nb_of_adsorbates(iso)\n",
    "    valid = valid && _check_temperature(iso)\n",
    "    valid = valid && _check_units(iso)\n",
    "    valid = valid && _check_category(iso)\n",
    "    if !valid\n",
    "        @printf(\"%s is not a valid isotherm. Continuing\\n\", isotherm)\n",
    "        @printf(\"--------------------\\n\")\n",
    "        continue\n",
    "    end\n",
    "    pressure, adsorption = convert_units(iso)\n",
    "    MSE_threshold = 0.05\n",
    "    # Henry/Langmuir fit\n",
    "    params = Dict()\n",
    "    try\n",
    "        isotherm_df = DataFrame(:p => pressure, :a => adsorption)\n",
    "        options = Optim.Options(iterations=5000)\n",
    "        params = fit_adsorption_isotherm(isotherm_df, :p, :a, :langmuir, options)\n",
    "    catch err\n",
    "        if isa(err, FitError)\n",
    "            @printf(\"It's a FitError! Continuing.\\n\")\n",
    "            continue\n",
    "        elseif isa(err, KeyError)\n",
    "            @printf(\"Atomic Mass not available for an element in %s! Continuing.\\n\", iso[\"adsorbates\"][1][\"name\"])\n",
    "            continue\n",
    "        else\n",
    "            println(err)\n",
    "            error(\"Something went wrong\")\n",
    "        end\n",
    "    end\n",
    "    sanity_Hs[i] = params[\"M\"] * params[\"K\"]\n",
    "    sanity_MSE = params[\"MSE\"]/maximum(adsorption)^2\n",
    "    if params[\"M\"] <= 0 || params[\"K\"] <= 0\n",
    "        @warn @sprintf(\"Optimization of %s resulted in a negative Henry coefficient\\n\", iso[\"filename\"])\n",
    "    elseif sanity_MSE >= MSE_threshold\n",
    "        @warn @sprintf(\"MSE of henry fit of file %s is too large\\n\", iso[\"filename\"])\n",
    "    end\n",
    "    \n",
    "    \n",
    "    \n",
    "    \n",
    "    fig,ax = plt.subplots()\n",
    "    ax.scatter(pressure, adsorption, label=\"Adsorption Data Points\")\n",
    "    temp_p = range(0, maximum(pressure), length=101)\n",
    "    temp_a = params[\"M\"] * params[\"K\"] .* temp_p ./ (1 .+ params[\"K\"] .* temp_p)\n",
    "    ax.plot(temp_p, temp_a, c=\"red\", label=@sprintf(\"Langmuir fit (sMSE = %.3f)\", sanity_MSE))\n",
    "    old_ylim = ax.get_ylim()\n",
    "    ax.plot([0, maximum(pressure)], [0, maximum(pressure) * sanity_Hs[i]], c=\"orange\", label=@sprintf(\"H = %.3f\", sanity_Hs[i]))\n",
    "    ax.set_ylim(old_ylim)\n",
    "    ax.set_xlabel(\"Pressure (bar)\")\n",
    "    ax.set_ylabel(\"Adsorption (mmol/g)\")\n",
    "    ax.set_title(isotherm)\n",
    "    plt.legend()\n",
    "    plt.show(fig)\n",
    "    plt.tight_layout()\n",
    "    plt.grid(\"on\")\n",
    "    @printf(\"--------------------\\n\")\n",
    "end"
   ]
  },
  {
   "cell_type": "code",
   "execution_count": null,
   "metadata": {},
   "outputs": [],
   "source": [
    "@show sanity_Hs\n",
    "@show sanity_H = median(skipmissing(sanity_Hs))\n",
    "@show log10_sanity_H = log10(sanity_H)\n",
    "@show H[material,gas]\n",
    "@assert H[material, gas] == log10_sanity_H"
   ]
  }
 ],
 "metadata": {
  "@webio": {
   "lastCommId": "2209f65bb5b94e848773fa2d7b5b064a",
   "lastKernelId": "a5608e19-71bf-4569-ad0a-c3493d828425"
  },
  "kernelspec": {
   "display_name": "Julia 1.3.0",
   "language": "julia",
   "name": "julia-1.3"
  },
  "language_info": {
   "file_extension": ".jl",
   "mimetype": "application/julia",
   "name": "julia",
   "version": "1.3.0"
  }
 },
 "nbformat": 4,
 "nbformat_minor": 2
}
