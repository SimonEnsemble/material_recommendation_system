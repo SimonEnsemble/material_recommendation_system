{
 "cells": [
  {
   "cell_type": "markdown",
   "metadata": {},
   "source": [
    "# Lets create a Recommendation system for the Henry coefficients of porous materials"
   ]
  },
  {
   "cell_type": "code",
   "execution_count": 289,
   "metadata": {},
   "outputs": [],
   "source": [
    "import json\n",
    "import requests\n",
    "import numpy as np\n",
    "import pandas as pd\n",
    "import matplotlib.pyplot as plt\n",
    "import random\n",
    "import pprint\n",
    "import os\n",
    "import pygaps\n",
    "import scipy\n",
    "from scipy.sparse.linalg import svds\n",
    "import tensorflow as tf"
   ]
  },
  {
   "cell_type": "markdown",
   "metadata": {},
   "source": [
    "## We will use the Henry Coefficient matrix, created in `HenryMatrix.ipynb`"
   ]
  },
  {
   "cell_type": "code",
   "execution_count": 3,
   "metadata": {},
   "outputs": [
    {
     "data": {
      "text/html": [
       "<div>\n",
       "<style scoped>\n",
       "    .dataframe tbody tr th:only-of-type {\n",
       "        vertical-align: middle;\n",
       "    }\n",
       "\n",
       "    .dataframe tbody tr th {\n",
       "        vertical-align: top;\n",
       "    }\n",
       "\n",
       "    .dataframe thead th {\n",
       "        text-align: right;\n",
       "    }\n",
       "</style>\n",
       "<table border=\"1\" class=\"dataframe\">\n",
       "  <thead>\n",
       "    <tr style=\"text-align: right;\">\n",
       "      <th></th>\n",
       "      <th>CURLTUGMZLYLDI-UHFFFAOYSA-N_298K</th>\n",
       "      <th>IJGRMHOSHXDMSA-UHFFFAOYSA-N_298K</th>\n",
       "      <th>VNWKTOKETHGBQD-UHFFFAOYSA-N_298K</th>\n",
       "      <th>MYMOFIZGZYHOMD-UHFFFAOYSA-N_298K</th>\n",
       "      <th>QQONPFPTGQHPMA-UHFFFAOYSA-N_298K</th>\n",
       "      <th>ATUOYWHBWRKTHZ-UHFFFAOYSA-N_298K</th>\n",
       "      <th>HSFWRNGVRCDJHI-UHFFFAOYSA-N_298K</th>\n",
       "      <th>UFHFLCQGNIYNRP-UHFFFAOYSA-N_298K</th>\n",
       "      <th>MWUXSHHQAYIFBG-UHFFFAOYSA-N_298K</th>\n",
       "      <th>XLYOFNOQVPJJNP-UHFFFAOYSA-N_298K</th>\n",
       "      <th>...</th>\n",
       "      <th>VGGSQFUCUMXWEO-UHFFFAOYSA-N_298K</th>\n",
       "      <th>QGZKDVFQNNGYKY-UHFFFAOYSA-N_298K</th>\n",
       "      <th>CSCPPACGZOOCGX-UHFFFAOYSA-N_298K</th>\n",
       "      <th>IJDNQMDRQITEOD-UHFFFAOYSA-N_298K</th>\n",
       "      <th>NNPPMTNAJDCUHE-UHFFFAOYSA-N_298K</th>\n",
       "      <th>BDERNNFJNOPAEC-UHFFFAOYSA-N_298K</th>\n",
       "      <th>YXFVVABEGXRONW-UHFFFAOYSA-N_298K</th>\n",
       "      <th>OFBQJSOFQDEBGM-UHFFFAOYSA-N_298K</th>\n",
       "      <th>RAHZWNYVWXNFOC-UHFFFAOYSA-N_298K</th>\n",
       "      <th>VXNZUUAINFGPBY-UHFFFAOYSA-N_298K</th>\n",
       "    </tr>\n",
       "    <tr>\n",
       "      <th>Unnamed: 0</th>\n",
       "      <th></th>\n",
       "      <th></th>\n",
       "      <th></th>\n",
       "      <th></th>\n",
       "      <th></th>\n",
       "      <th></th>\n",
       "      <th></th>\n",
       "      <th></th>\n",
       "      <th></th>\n",
       "      <th></th>\n",
       "      <th></th>\n",
       "      <th></th>\n",
       "      <th></th>\n",
       "      <th></th>\n",
       "      <th></th>\n",
       "      <th></th>\n",
       "      <th></th>\n",
       "      <th></th>\n",
       "      <th></th>\n",
       "      <th></th>\n",
       "      <th></th>\n",
       "    </tr>\n",
       "  </thead>\n",
       "  <tbody>\n",
       "    <tr>\n",
       "      <th>NIST-MATDB-b2dc02871a66ac38e4b195796cf3e00b</th>\n",
       "      <td>0.627878</td>\n",
       "      <td>0.208338</td>\n",
       "      <td>0.240586</td>\n",
       "      <td>NaN</td>\n",
       "      <td>13.210824</td>\n",
       "      <td>15.439162</td>\n",
       "      <td>0.001502</td>\n",
       "      <td>3.488718</td>\n",
       "      <td>NaN</td>\n",
       "      <td>9.316021</td>\n",
       "      <td>...</td>\n",
       "      <td>1.370187</td>\n",
       "      <td>0.958055</td>\n",
       "      <td>NaN</td>\n",
       "      <td>NaN</td>\n",
       "      <td>NaN</td>\n",
       "      <td>NaN</td>\n",
       "      <td>NaN</td>\n",
       "      <td>NaN</td>\n",
       "      <td>18.192574</td>\n",
       "      <td>NaN</td>\n",
       "    </tr>\n",
       "    <tr>\n",
       "      <th>NIST-MATDB-035dc75dddd00241bd76627f78cbef2d</th>\n",
       "      <td>14.439543</td>\n",
       "      <td>0.613339</td>\n",
       "      <td>0.770274</td>\n",
       "      <td>0.096864</td>\n",
       "      <td>52.095266</td>\n",
       "      <td>80.817935</td>\n",
       "      <td>NaN</td>\n",
       "      <td>NaN</td>\n",
       "      <td>NaN</td>\n",
       "      <td>NaN</td>\n",
       "      <td>...</td>\n",
       "      <td>3.116040</td>\n",
       "      <td>442.583688</td>\n",
       "      <td>NaN</td>\n",
       "      <td>257.522347</td>\n",
       "      <td>NaN</td>\n",
       "      <td>NaN</td>\n",
       "      <td>NaN</td>\n",
       "      <td>NaN</td>\n",
       "      <td>NaN</td>\n",
       "      <td>97.061748</td>\n",
       "    </tr>\n",
       "    <tr>\n",
       "      <th>NIST-MATDB-453276ee992ed07dc207ed08b2b221ce</th>\n",
       "      <td>0.982443</td>\n",
       "      <td>0.286726</td>\n",
       "      <td>0.058081</td>\n",
       "      <td>0.188162</td>\n",
       "      <td>NaN</td>\n",
       "      <td>NaN</td>\n",
       "      <td>NaN</td>\n",
       "      <td>3.694219</td>\n",
       "      <td>NaN</td>\n",
       "      <td>2.344581</td>\n",
       "      <td>...</td>\n",
       "      <td>40.043567</td>\n",
       "      <td>1.409460</td>\n",
       "      <td>1.462035</td>\n",
       "      <td>NaN</td>\n",
       "      <td>NaN</td>\n",
       "      <td>NaN</td>\n",
       "      <td>NaN</td>\n",
       "      <td>NaN</td>\n",
       "      <td>NaN</td>\n",
       "      <td>NaN</td>\n",
       "    </tr>\n",
       "    <tr>\n",
       "      <th>NIST-MATDB-1b85b1862d4e9cc2e0f46d0e2698ab79</th>\n",
       "      <td>2.198198</td>\n",
       "      <td>0.206994</td>\n",
       "      <td>0.735486</td>\n",
       "      <td>0.097778</td>\n",
       "      <td>NaN</td>\n",
       "      <td>NaN</td>\n",
       "      <td>NaN</td>\n",
       "      <td>NaN</td>\n",
       "      <td>NaN</td>\n",
       "      <td>NaN</td>\n",
       "      <td>...</td>\n",
       "      <td>NaN</td>\n",
       "      <td>66.204409</td>\n",
       "      <td>NaN</td>\n",
       "      <td>NaN</td>\n",
       "      <td>NaN</td>\n",
       "      <td>NaN</td>\n",
       "      <td>NaN</td>\n",
       "      <td>NaN</td>\n",
       "      <td>NaN</td>\n",
       "      <td>NaN</td>\n",
       "    </tr>\n",
       "    <tr>\n",
       "      <th>NIST-MATDB-991daf7313251e7e607e2bab2da57e33</th>\n",
       "      <td>4.358242</td>\n",
       "      <td>0.250075</td>\n",
       "      <td>0.606177</td>\n",
       "      <td>0.238141</td>\n",
       "      <td>478.099058</td>\n",
       "      <td>25.528800</td>\n",
       "      <td>86.774658</td>\n",
       "      <td>0.077938</td>\n",
       "      <td>10.083501</td>\n",
       "      <td>2315.499440</td>\n",
       "      <td>...</td>\n",
       "      <td>36.576317</td>\n",
       "      <td>362.456884</td>\n",
       "      <td>NaN</td>\n",
       "      <td>0.267295</td>\n",
       "      <td>386.886107</td>\n",
       "      <td>NaN</td>\n",
       "      <td>NaN</td>\n",
       "      <td>NaN</td>\n",
       "      <td>34.533257</td>\n",
       "      <td>NaN</td>\n",
       "    </tr>\n",
       "    <tr>\n",
       "      <th>NIST-MATDB-acbbe796d49416e999dc819f2ae65fe9</th>\n",
       "      <td>3.040278</td>\n",
       "      <td>NaN</td>\n",
       "      <td>14.129264</td>\n",
       "      <td>NaN</td>\n",
       "      <td>NaN</td>\n",
       "      <td>NaN</td>\n",
       "      <td>51.060147</td>\n",
       "      <td>7.839395</td>\n",
       "      <td>NaN</td>\n",
       "      <td>NaN</td>\n",
       "      <td>...</td>\n",
       "      <td>NaN</td>\n",
       "      <td>NaN</td>\n",
       "      <td>NaN</td>\n",
       "      <td>NaN</td>\n",
       "      <td>NaN</td>\n",
       "      <td>NaN</td>\n",
       "      <td>NaN</td>\n",
       "      <td>NaN</td>\n",
       "      <td>55.104883</td>\n",
       "      <td>NaN</td>\n",
       "    </tr>\n",
       "    <tr>\n",
       "      <th>NIST-MATDB-2c9380bddc59f547484ff729eab7d7cb</th>\n",
       "      <td>1.015902</td>\n",
       "      <td>0.175303</td>\n",
       "      <td>0.351781</td>\n",
       "      <td>NaN</td>\n",
       "      <td>NaN</td>\n",
       "      <td>0.219119</td>\n",
       "      <td>1.156680</td>\n",
       "      <td>0.072082</td>\n",
       "      <td>0.171605</td>\n",
       "      <td>0.306919</td>\n",
       "      <td>...</td>\n",
       "      <td>NaN</td>\n",
       "      <td>37.412808</td>\n",
       "      <td>NaN</td>\n",
       "      <td>NaN</td>\n",
       "      <td>NaN</td>\n",
       "      <td>NaN</td>\n",
       "      <td>NaN</td>\n",
       "      <td>NaN</td>\n",
       "      <td>16.823514</td>\n",
       "      <td>NaN</td>\n",
       "    </tr>\n",
       "    <tr>\n",
       "      <th>NIST-MATDB-5ab0dbe0639729711750ef4b97715f0f</th>\n",
       "      <td>2.449089</td>\n",
       "      <td>0.195309</td>\n",
       "      <td>0.599994</td>\n",
       "      <td>0.122395</td>\n",
       "      <td>NaN</td>\n",
       "      <td>NaN</td>\n",
       "      <td>NaN</td>\n",
       "      <td>0.720796</td>\n",
       "      <td>NaN</td>\n",
       "      <td>493.780606</td>\n",
       "      <td>...</td>\n",
       "      <td>NaN</td>\n",
       "      <td>NaN</td>\n",
       "      <td>NaN</td>\n",
       "      <td>NaN</td>\n",
       "      <td>NaN</td>\n",
       "      <td>NaN</td>\n",
       "      <td>NaN</td>\n",
       "      <td>NaN</td>\n",
       "      <td>NaN</td>\n",
       "      <td>NaN</td>\n",
       "    </tr>\n",
       "    <tr>\n",
       "      <th>NIST-MATDB-0d52b4312e8dd98a53fcfaba14cd0e82</th>\n",
       "      <td>NaN</td>\n",
       "      <td>NaN</td>\n",
       "      <td>NaN</td>\n",
       "      <td>NaN</td>\n",
       "      <td>124.576242</td>\n",
       "      <td>88.002547</td>\n",
       "      <td>NaN</td>\n",
       "      <td>1.429994</td>\n",
       "      <td>NaN</td>\n",
       "      <td>52.073153</td>\n",
       "      <td>...</td>\n",
       "      <td>NaN</td>\n",
       "      <td>NaN</td>\n",
       "      <td>NaN</td>\n",
       "      <td>224.890244</td>\n",
       "      <td>NaN</td>\n",
       "      <td>NaN</td>\n",
       "      <td>NaN</td>\n",
       "      <td>NaN</td>\n",
       "      <td>NaN</td>\n",
       "      <td>125.484691</td>\n",
       "    </tr>\n",
       "    <tr>\n",
       "      <th>NIST-MATDB-b848f05ba9fb26cdd50755863b377c56</th>\n",
       "      <td>3.401754</td>\n",
       "      <td>0.415943</td>\n",
       "      <td>0.818044</td>\n",
       "      <td>NaN</td>\n",
       "      <td>NaN</td>\n",
       "      <td>NaN</td>\n",
       "      <td>NaN</td>\n",
       "      <td>0.008472</td>\n",
       "      <td>NaN</td>\n",
       "      <td>0.709734</td>\n",
       "      <td>...</td>\n",
       "      <td>NaN</td>\n",
       "      <td>NaN</td>\n",
       "      <td>NaN</td>\n",
       "      <td>NaN</td>\n",
       "      <td>NaN</td>\n",
       "      <td>NaN</td>\n",
       "      <td>NaN</td>\n",
       "      <td>NaN</td>\n",
       "      <td>24.879337</td>\n",
       "      <td>NaN</td>\n",
       "    </tr>\n",
       "  </tbody>\n",
       "</table>\n",
       "<p>10 rows × 27 columns</p>\n",
       "</div>"
      ],
      "text/plain": [
       "                                             CURLTUGMZLYLDI-UHFFFAOYSA-N_298K  \\\n",
       "Unnamed: 0                                                                      \n",
       "NIST-MATDB-b2dc02871a66ac38e4b195796cf3e00b                          0.627878   \n",
       "NIST-MATDB-035dc75dddd00241bd76627f78cbef2d                         14.439543   \n",
       "NIST-MATDB-453276ee992ed07dc207ed08b2b221ce                          0.982443   \n",
       "NIST-MATDB-1b85b1862d4e9cc2e0f46d0e2698ab79                          2.198198   \n",
       "NIST-MATDB-991daf7313251e7e607e2bab2da57e33                          4.358242   \n",
       "NIST-MATDB-acbbe796d49416e999dc819f2ae65fe9                          3.040278   \n",
       "NIST-MATDB-2c9380bddc59f547484ff729eab7d7cb                          1.015902   \n",
       "NIST-MATDB-5ab0dbe0639729711750ef4b97715f0f                          2.449089   \n",
       "NIST-MATDB-0d52b4312e8dd98a53fcfaba14cd0e82                               NaN   \n",
       "NIST-MATDB-b848f05ba9fb26cdd50755863b377c56                          3.401754   \n",
       "\n",
       "                                             IJGRMHOSHXDMSA-UHFFFAOYSA-N_298K  \\\n",
       "Unnamed: 0                                                                      \n",
       "NIST-MATDB-b2dc02871a66ac38e4b195796cf3e00b                          0.208338   \n",
       "NIST-MATDB-035dc75dddd00241bd76627f78cbef2d                          0.613339   \n",
       "NIST-MATDB-453276ee992ed07dc207ed08b2b221ce                          0.286726   \n",
       "NIST-MATDB-1b85b1862d4e9cc2e0f46d0e2698ab79                          0.206994   \n",
       "NIST-MATDB-991daf7313251e7e607e2bab2da57e33                          0.250075   \n",
       "NIST-MATDB-acbbe796d49416e999dc819f2ae65fe9                               NaN   \n",
       "NIST-MATDB-2c9380bddc59f547484ff729eab7d7cb                          0.175303   \n",
       "NIST-MATDB-5ab0dbe0639729711750ef4b97715f0f                          0.195309   \n",
       "NIST-MATDB-0d52b4312e8dd98a53fcfaba14cd0e82                               NaN   \n",
       "NIST-MATDB-b848f05ba9fb26cdd50755863b377c56                          0.415943   \n",
       "\n",
       "                                             VNWKTOKETHGBQD-UHFFFAOYSA-N_298K  \\\n",
       "Unnamed: 0                                                                      \n",
       "NIST-MATDB-b2dc02871a66ac38e4b195796cf3e00b                          0.240586   \n",
       "NIST-MATDB-035dc75dddd00241bd76627f78cbef2d                          0.770274   \n",
       "NIST-MATDB-453276ee992ed07dc207ed08b2b221ce                          0.058081   \n",
       "NIST-MATDB-1b85b1862d4e9cc2e0f46d0e2698ab79                          0.735486   \n",
       "NIST-MATDB-991daf7313251e7e607e2bab2da57e33                          0.606177   \n",
       "NIST-MATDB-acbbe796d49416e999dc819f2ae65fe9                         14.129264   \n",
       "NIST-MATDB-2c9380bddc59f547484ff729eab7d7cb                          0.351781   \n",
       "NIST-MATDB-5ab0dbe0639729711750ef4b97715f0f                          0.599994   \n",
       "NIST-MATDB-0d52b4312e8dd98a53fcfaba14cd0e82                               NaN   \n",
       "NIST-MATDB-b848f05ba9fb26cdd50755863b377c56                          0.818044   \n",
       "\n",
       "                                             MYMOFIZGZYHOMD-UHFFFAOYSA-N_298K  \\\n",
       "Unnamed: 0                                                                      \n",
       "NIST-MATDB-b2dc02871a66ac38e4b195796cf3e00b                               NaN   \n",
       "NIST-MATDB-035dc75dddd00241bd76627f78cbef2d                          0.096864   \n",
       "NIST-MATDB-453276ee992ed07dc207ed08b2b221ce                          0.188162   \n",
       "NIST-MATDB-1b85b1862d4e9cc2e0f46d0e2698ab79                          0.097778   \n",
       "NIST-MATDB-991daf7313251e7e607e2bab2da57e33                          0.238141   \n",
       "NIST-MATDB-acbbe796d49416e999dc819f2ae65fe9                               NaN   \n",
       "NIST-MATDB-2c9380bddc59f547484ff729eab7d7cb                               NaN   \n",
       "NIST-MATDB-5ab0dbe0639729711750ef4b97715f0f                          0.122395   \n",
       "NIST-MATDB-0d52b4312e8dd98a53fcfaba14cd0e82                               NaN   \n",
       "NIST-MATDB-b848f05ba9fb26cdd50755863b377c56                               NaN   \n",
       "\n",
       "                                             QQONPFPTGQHPMA-UHFFFAOYSA-N_298K  \\\n",
       "Unnamed: 0                                                                      \n",
       "NIST-MATDB-b2dc02871a66ac38e4b195796cf3e00b                         13.210824   \n",
       "NIST-MATDB-035dc75dddd00241bd76627f78cbef2d                         52.095266   \n",
       "NIST-MATDB-453276ee992ed07dc207ed08b2b221ce                               NaN   \n",
       "NIST-MATDB-1b85b1862d4e9cc2e0f46d0e2698ab79                               NaN   \n",
       "NIST-MATDB-991daf7313251e7e607e2bab2da57e33                        478.099058   \n",
       "NIST-MATDB-acbbe796d49416e999dc819f2ae65fe9                               NaN   \n",
       "NIST-MATDB-2c9380bddc59f547484ff729eab7d7cb                               NaN   \n",
       "NIST-MATDB-5ab0dbe0639729711750ef4b97715f0f                               NaN   \n",
       "NIST-MATDB-0d52b4312e8dd98a53fcfaba14cd0e82                        124.576242   \n",
       "NIST-MATDB-b848f05ba9fb26cdd50755863b377c56                               NaN   \n",
       "\n",
       "                                             ATUOYWHBWRKTHZ-UHFFFAOYSA-N_298K  \\\n",
       "Unnamed: 0                                                                      \n",
       "NIST-MATDB-b2dc02871a66ac38e4b195796cf3e00b                         15.439162   \n",
       "NIST-MATDB-035dc75dddd00241bd76627f78cbef2d                         80.817935   \n",
       "NIST-MATDB-453276ee992ed07dc207ed08b2b221ce                               NaN   \n",
       "NIST-MATDB-1b85b1862d4e9cc2e0f46d0e2698ab79                               NaN   \n",
       "NIST-MATDB-991daf7313251e7e607e2bab2da57e33                         25.528800   \n",
       "NIST-MATDB-acbbe796d49416e999dc819f2ae65fe9                               NaN   \n",
       "NIST-MATDB-2c9380bddc59f547484ff729eab7d7cb                          0.219119   \n",
       "NIST-MATDB-5ab0dbe0639729711750ef4b97715f0f                               NaN   \n",
       "NIST-MATDB-0d52b4312e8dd98a53fcfaba14cd0e82                         88.002547   \n",
       "NIST-MATDB-b848f05ba9fb26cdd50755863b377c56                               NaN   \n",
       "\n",
       "                                             HSFWRNGVRCDJHI-UHFFFAOYSA-N_298K  \\\n",
       "Unnamed: 0                                                                      \n",
       "NIST-MATDB-b2dc02871a66ac38e4b195796cf3e00b                          0.001502   \n",
       "NIST-MATDB-035dc75dddd00241bd76627f78cbef2d                               NaN   \n",
       "NIST-MATDB-453276ee992ed07dc207ed08b2b221ce                               NaN   \n",
       "NIST-MATDB-1b85b1862d4e9cc2e0f46d0e2698ab79                               NaN   \n",
       "NIST-MATDB-991daf7313251e7e607e2bab2da57e33                         86.774658   \n",
       "NIST-MATDB-acbbe796d49416e999dc819f2ae65fe9                         51.060147   \n",
       "NIST-MATDB-2c9380bddc59f547484ff729eab7d7cb                          1.156680   \n",
       "NIST-MATDB-5ab0dbe0639729711750ef4b97715f0f                               NaN   \n",
       "NIST-MATDB-0d52b4312e8dd98a53fcfaba14cd0e82                               NaN   \n",
       "NIST-MATDB-b848f05ba9fb26cdd50755863b377c56                               NaN   \n",
       "\n",
       "                                             UFHFLCQGNIYNRP-UHFFFAOYSA-N_298K  \\\n",
       "Unnamed: 0                                                                      \n",
       "NIST-MATDB-b2dc02871a66ac38e4b195796cf3e00b                          3.488718   \n",
       "NIST-MATDB-035dc75dddd00241bd76627f78cbef2d                               NaN   \n",
       "NIST-MATDB-453276ee992ed07dc207ed08b2b221ce                          3.694219   \n",
       "NIST-MATDB-1b85b1862d4e9cc2e0f46d0e2698ab79                               NaN   \n",
       "NIST-MATDB-991daf7313251e7e607e2bab2da57e33                          0.077938   \n",
       "NIST-MATDB-acbbe796d49416e999dc819f2ae65fe9                          7.839395   \n",
       "NIST-MATDB-2c9380bddc59f547484ff729eab7d7cb                          0.072082   \n",
       "NIST-MATDB-5ab0dbe0639729711750ef4b97715f0f                          0.720796   \n",
       "NIST-MATDB-0d52b4312e8dd98a53fcfaba14cd0e82                          1.429994   \n",
       "NIST-MATDB-b848f05ba9fb26cdd50755863b377c56                          0.008472   \n",
       "\n",
       "                                             MWUXSHHQAYIFBG-UHFFFAOYSA-N_298K  \\\n",
       "Unnamed: 0                                                                      \n",
       "NIST-MATDB-b2dc02871a66ac38e4b195796cf3e00b                               NaN   \n",
       "NIST-MATDB-035dc75dddd00241bd76627f78cbef2d                               NaN   \n",
       "NIST-MATDB-453276ee992ed07dc207ed08b2b221ce                               NaN   \n",
       "NIST-MATDB-1b85b1862d4e9cc2e0f46d0e2698ab79                               NaN   \n",
       "NIST-MATDB-991daf7313251e7e607e2bab2da57e33                         10.083501   \n",
       "NIST-MATDB-acbbe796d49416e999dc819f2ae65fe9                               NaN   \n",
       "NIST-MATDB-2c9380bddc59f547484ff729eab7d7cb                          0.171605   \n",
       "NIST-MATDB-5ab0dbe0639729711750ef4b97715f0f                               NaN   \n",
       "NIST-MATDB-0d52b4312e8dd98a53fcfaba14cd0e82                               NaN   \n",
       "NIST-MATDB-b848f05ba9fb26cdd50755863b377c56                               NaN   \n",
       "\n",
       "                                             XLYOFNOQVPJJNP-UHFFFAOYSA-N_298K  \\\n",
       "Unnamed: 0                                                                      \n",
       "NIST-MATDB-b2dc02871a66ac38e4b195796cf3e00b                          9.316021   \n",
       "NIST-MATDB-035dc75dddd00241bd76627f78cbef2d                               NaN   \n",
       "NIST-MATDB-453276ee992ed07dc207ed08b2b221ce                          2.344581   \n",
       "NIST-MATDB-1b85b1862d4e9cc2e0f46d0e2698ab79                               NaN   \n",
       "NIST-MATDB-991daf7313251e7e607e2bab2da57e33                       2315.499440   \n",
       "NIST-MATDB-acbbe796d49416e999dc819f2ae65fe9                               NaN   \n",
       "NIST-MATDB-2c9380bddc59f547484ff729eab7d7cb                          0.306919   \n",
       "NIST-MATDB-5ab0dbe0639729711750ef4b97715f0f                        493.780606   \n",
       "NIST-MATDB-0d52b4312e8dd98a53fcfaba14cd0e82                         52.073153   \n",
       "NIST-MATDB-b848f05ba9fb26cdd50755863b377c56                          0.709734   \n",
       "\n",
       "                                             ...  \\\n",
       "Unnamed: 0                                   ...   \n",
       "NIST-MATDB-b2dc02871a66ac38e4b195796cf3e00b  ...   \n",
       "NIST-MATDB-035dc75dddd00241bd76627f78cbef2d  ...   \n",
       "NIST-MATDB-453276ee992ed07dc207ed08b2b221ce  ...   \n",
       "NIST-MATDB-1b85b1862d4e9cc2e0f46d0e2698ab79  ...   \n",
       "NIST-MATDB-991daf7313251e7e607e2bab2da57e33  ...   \n",
       "NIST-MATDB-acbbe796d49416e999dc819f2ae65fe9  ...   \n",
       "NIST-MATDB-2c9380bddc59f547484ff729eab7d7cb  ...   \n",
       "NIST-MATDB-5ab0dbe0639729711750ef4b97715f0f  ...   \n",
       "NIST-MATDB-0d52b4312e8dd98a53fcfaba14cd0e82  ...   \n",
       "NIST-MATDB-b848f05ba9fb26cdd50755863b377c56  ...   \n",
       "\n",
       "                                             VGGSQFUCUMXWEO-UHFFFAOYSA-N_298K  \\\n",
       "Unnamed: 0                                                                      \n",
       "NIST-MATDB-b2dc02871a66ac38e4b195796cf3e00b                          1.370187   \n",
       "NIST-MATDB-035dc75dddd00241bd76627f78cbef2d                          3.116040   \n",
       "NIST-MATDB-453276ee992ed07dc207ed08b2b221ce                         40.043567   \n",
       "NIST-MATDB-1b85b1862d4e9cc2e0f46d0e2698ab79                               NaN   \n",
       "NIST-MATDB-991daf7313251e7e607e2bab2da57e33                         36.576317   \n",
       "NIST-MATDB-acbbe796d49416e999dc819f2ae65fe9                               NaN   \n",
       "NIST-MATDB-2c9380bddc59f547484ff729eab7d7cb                               NaN   \n",
       "NIST-MATDB-5ab0dbe0639729711750ef4b97715f0f                               NaN   \n",
       "NIST-MATDB-0d52b4312e8dd98a53fcfaba14cd0e82                               NaN   \n",
       "NIST-MATDB-b848f05ba9fb26cdd50755863b377c56                               NaN   \n",
       "\n",
       "                                             QGZKDVFQNNGYKY-UHFFFAOYSA-N_298K  \\\n",
       "Unnamed: 0                                                                      \n",
       "NIST-MATDB-b2dc02871a66ac38e4b195796cf3e00b                          0.958055   \n",
       "NIST-MATDB-035dc75dddd00241bd76627f78cbef2d                        442.583688   \n",
       "NIST-MATDB-453276ee992ed07dc207ed08b2b221ce                          1.409460   \n",
       "NIST-MATDB-1b85b1862d4e9cc2e0f46d0e2698ab79                         66.204409   \n",
       "NIST-MATDB-991daf7313251e7e607e2bab2da57e33                        362.456884   \n",
       "NIST-MATDB-acbbe796d49416e999dc819f2ae65fe9                               NaN   \n",
       "NIST-MATDB-2c9380bddc59f547484ff729eab7d7cb                         37.412808   \n",
       "NIST-MATDB-5ab0dbe0639729711750ef4b97715f0f                               NaN   \n",
       "NIST-MATDB-0d52b4312e8dd98a53fcfaba14cd0e82                               NaN   \n",
       "NIST-MATDB-b848f05ba9fb26cdd50755863b377c56                               NaN   \n",
       "\n",
       "                                             CSCPPACGZOOCGX-UHFFFAOYSA-N_298K  \\\n",
       "Unnamed: 0                                                                      \n",
       "NIST-MATDB-b2dc02871a66ac38e4b195796cf3e00b                               NaN   \n",
       "NIST-MATDB-035dc75dddd00241bd76627f78cbef2d                               NaN   \n",
       "NIST-MATDB-453276ee992ed07dc207ed08b2b221ce                          1.462035   \n",
       "NIST-MATDB-1b85b1862d4e9cc2e0f46d0e2698ab79                               NaN   \n",
       "NIST-MATDB-991daf7313251e7e607e2bab2da57e33                               NaN   \n",
       "NIST-MATDB-acbbe796d49416e999dc819f2ae65fe9                               NaN   \n",
       "NIST-MATDB-2c9380bddc59f547484ff729eab7d7cb                               NaN   \n",
       "NIST-MATDB-5ab0dbe0639729711750ef4b97715f0f                               NaN   \n",
       "NIST-MATDB-0d52b4312e8dd98a53fcfaba14cd0e82                               NaN   \n",
       "NIST-MATDB-b848f05ba9fb26cdd50755863b377c56                               NaN   \n",
       "\n",
       "                                             IJDNQMDRQITEOD-UHFFFAOYSA-N_298K  \\\n",
       "Unnamed: 0                                                                      \n",
       "NIST-MATDB-b2dc02871a66ac38e4b195796cf3e00b                               NaN   \n",
       "NIST-MATDB-035dc75dddd00241bd76627f78cbef2d                        257.522347   \n",
       "NIST-MATDB-453276ee992ed07dc207ed08b2b221ce                               NaN   \n",
       "NIST-MATDB-1b85b1862d4e9cc2e0f46d0e2698ab79                               NaN   \n",
       "NIST-MATDB-991daf7313251e7e607e2bab2da57e33                          0.267295   \n",
       "NIST-MATDB-acbbe796d49416e999dc819f2ae65fe9                               NaN   \n",
       "NIST-MATDB-2c9380bddc59f547484ff729eab7d7cb                               NaN   \n",
       "NIST-MATDB-5ab0dbe0639729711750ef4b97715f0f                               NaN   \n",
       "NIST-MATDB-0d52b4312e8dd98a53fcfaba14cd0e82                        224.890244   \n",
       "NIST-MATDB-b848f05ba9fb26cdd50755863b377c56                               NaN   \n",
       "\n",
       "                                             NNPPMTNAJDCUHE-UHFFFAOYSA-N_298K  \\\n",
       "Unnamed: 0                                                                      \n",
       "NIST-MATDB-b2dc02871a66ac38e4b195796cf3e00b                               NaN   \n",
       "NIST-MATDB-035dc75dddd00241bd76627f78cbef2d                               NaN   \n",
       "NIST-MATDB-453276ee992ed07dc207ed08b2b221ce                               NaN   \n",
       "NIST-MATDB-1b85b1862d4e9cc2e0f46d0e2698ab79                               NaN   \n",
       "NIST-MATDB-991daf7313251e7e607e2bab2da57e33                        386.886107   \n",
       "NIST-MATDB-acbbe796d49416e999dc819f2ae65fe9                               NaN   \n",
       "NIST-MATDB-2c9380bddc59f547484ff729eab7d7cb                               NaN   \n",
       "NIST-MATDB-5ab0dbe0639729711750ef4b97715f0f                               NaN   \n",
       "NIST-MATDB-0d52b4312e8dd98a53fcfaba14cd0e82                               NaN   \n",
       "NIST-MATDB-b848f05ba9fb26cdd50755863b377c56                               NaN   \n",
       "\n",
       "                                             BDERNNFJNOPAEC-UHFFFAOYSA-N_298K  \\\n",
       "Unnamed: 0                                                                      \n",
       "NIST-MATDB-b2dc02871a66ac38e4b195796cf3e00b                               NaN   \n",
       "NIST-MATDB-035dc75dddd00241bd76627f78cbef2d                               NaN   \n",
       "NIST-MATDB-453276ee992ed07dc207ed08b2b221ce                               NaN   \n",
       "NIST-MATDB-1b85b1862d4e9cc2e0f46d0e2698ab79                               NaN   \n",
       "NIST-MATDB-991daf7313251e7e607e2bab2da57e33                               NaN   \n",
       "NIST-MATDB-acbbe796d49416e999dc819f2ae65fe9                               NaN   \n",
       "NIST-MATDB-2c9380bddc59f547484ff729eab7d7cb                               NaN   \n",
       "NIST-MATDB-5ab0dbe0639729711750ef4b97715f0f                               NaN   \n",
       "NIST-MATDB-0d52b4312e8dd98a53fcfaba14cd0e82                               NaN   \n",
       "NIST-MATDB-b848f05ba9fb26cdd50755863b377c56                               NaN   \n",
       "\n",
       "                                             YXFVVABEGXRONW-UHFFFAOYSA-N_298K  \\\n",
       "Unnamed: 0                                                                      \n",
       "NIST-MATDB-b2dc02871a66ac38e4b195796cf3e00b                               NaN   \n",
       "NIST-MATDB-035dc75dddd00241bd76627f78cbef2d                               NaN   \n",
       "NIST-MATDB-453276ee992ed07dc207ed08b2b221ce                               NaN   \n",
       "NIST-MATDB-1b85b1862d4e9cc2e0f46d0e2698ab79                               NaN   \n",
       "NIST-MATDB-991daf7313251e7e607e2bab2da57e33                               NaN   \n",
       "NIST-MATDB-acbbe796d49416e999dc819f2ae65fe9                               NaN   \n",
       "NIST-MATDB-2c9380bddc59f547484ff729eab7d7cb                               NaN   \n",
       "NIST-MATDB-5ab0dbe0639729711750ef4b97715f0f                               NaN   \n",
       "NIST-MATDB-0d52b4312e8dd98a53fcfaba14cd0e82                               NaN   \n",
       "NIST-MATDB-b848f05ba9fb26cdd50755863b377c56                               NaN   \n",
       "\n",
       "                                             OFBQJSOFQDEBGM-UHFFFAOYSA-N_298K  \\\n",
       "Unnamed: 0                                                                      \n",
       "NIST-MATDB-b2dc02871a66ac38e4b195796cf3e00b                               NaN   \n",
       "NIST-MATDB-035dc75dddd00241bd76627f78cbef2d                               NaN   \n",
       "NIST-MATDB-453276ee992ed07dc207ed08b2b221ce                               NaN   \n",
       "NIST-MATDB-1b85b1862d4e9cc2e0f46d0e2698ab79                               NaN   \n",
       "NIST-MATDB-991daf7313251e7e607e2bab2da57e33                               NaN   \n",
       "NIST-MATDB-acbbe796d49416e999dc819f2ae65fe9                               NaN   \n",
       "NIST-MATDB-2c9380bddc59f547484ff729eab7d7cb                               NaN   \n",
       "NIST-MATDB-5ab0dbe0639729711750ef4b97715f0f                               NaN   \n",
       "NIST-MATDB-0d52b4312e8dd98a53fcfaba14cd0e82                               NaN   \n",
       "NIST-MATDB-b848f05ba9fb26cdd50755863b377c56                               NaN   \n",
       "\n",
       "                                             RAHZWNYVWXNFOC-UHFFFAOYSA-N_298K  \\\n",
       "Unnamed: 0                                                                      \n",
       "NIST-MATDB-b2dc02871a66ac38e4b195796cf3e00b                         18.192574   \n",
       "NIST-MATDB-035dc75dddd00241bd76627f78cbef2d                               NaN   \n",
       "NIST-MATDB-453276ee992ed07dc207ed08b2b221ce                               NaN   \n",
       "NIST-MATDB-1b85b1862d4e9cc2e0f46d0e2698ab79                               NaN   \n",
       "NIST-MATDB-991daf7313251e7e607e2bab2da57e33                         34.533257   \n",
       "NIST-MATDB-acbbe796d49416e999dc819f2ae65fe9                         55.104883   \n",
       "NIST-MATDB-2c9380bddc59f547484ff729eab7d7cb                         16.823514   \n",
       "NIST-MATDB-5ab0dbe0639729711750ef4b97715f0f                               NaN   \n",
       "NIST-MATDB-0d52b4312e8dd98a53fcfaba14cd0e82                               NaN   \n",
       "NIST-MATDB-b848f05ba9fb26cdd50755863b377c56                         24.879337   \n",
       "\n",
       "                                             VXNZUUAINFGPBY-UHFFFAOYSA-N_298K  \n",
       "Unnamed: 0                                                                     \n",
       "NIST-MATDB-b2dc02871a66ac38e4b195796cf3e00b                               NaN  \n",
       "NIST-MATDB-035dc75dddd00241bd76627f78cbef2d                         97.061748  \n",
       "NIST-MATDB-453276ee992ed07dc207ed08b2b221ce                               NaN  \n",
       "NIST-MATDB-1b85b1862d4e9cc2e0f46d0e2698ab79                               NaN  \n",
       "NIST-MATDB-991daf7313251e7e607e2bab2da57e33                               NaN  \n",
       "NIST-MATDB-acbbe796d49416e999dc819f2ae65fe9                               NaN  \n",
       "NIST-MATDB-2c9380bddc59f547484ff729eab7d7cb                               NaN  \n",
       "NIST-MATDB-5ab0dbe0639729711750ef4b97715f0f                               NaN  \n",
       "NIST-MATDB-0d52b4312e8dd98a53fcfaba14cd0e82                        125.484691  \n",
       "NIST-MATDB-b848f05ba9fb26cdd50755863b377c56                               NaN  \n",
       "\n",
       "[10 rows x 27 columns]"
      ]
     },
     "execution_count": 3,
     "metadata": {},
     "output_type": "execute_result"
    }
   ],
   "source": [
    "henry_df = pd.read_csv('data/henry_matrix_df.csv')\n",
    "henry_df.set_index(list(henry_df)[0], inplace=True)\n",
    "henry_df.head(10)"
   ]
  },
  {
   "cell_type": "markdown",
   "metadata": {},
   "source": [
    "## Lets also define a function that will randomly split our data into <i>k</i> folds"
   ]
  },
  {
   "cell_type": "code",
   "execution_count": 186,
   "metadata": {},
   "outputs": [
    {
     "name": "stdout",
     "output_type": "stream",
     "text": [
      "Number of iterations required to split data into 3-folds: 14\n"
     ]
    }
   ],
   "source": [
    "def k_fold_split(henry_df, k, max_iter=1000):\n",
    "    assert k > 1, 'Choose a `k` greater than 1, otherwise this function is pointless'\n",
    "    matrix = henry_df.values\n",
    "    fold_matrix = np.full_like(matrix, np.nan, dtype=np.double)\n",
    "    col_bool = True\n",
    "    n_col = 0\n",
    "    while col_bool:\n",
    "        n_col += 1\n",
    "        col_bool = False\n",
    "        for i_row in range(matrix.shape[0]):\n",
    "            # Grabs all available indices in row `i_row`\n",
    "            j_indices = np.where(~np.isnan(matrix[i_row,:]))[0]\n",
    "            # As long as there are enough data points to distribute between `k` folds, we'll equally distribute them.\n",
    "            while len(j_indices) >= k:\n",
    "                for fold in range(k):\n",
    "                    j = np.random.randint(0, len(j_indices))\n",
    "                    fold_matrix[i_row, j_indices[j]] = fold\n",
    "                    j_indices = np.delete(j_indices, j)\n",
    "            # If there are leftover data points (i.e. #data points left < `k`), we'll randomly assign them into folds\n",
    "            for j in j_indices:\n",
    "                fold_matrix[i_row, j] = np.int(np.random.rand()*k)\n",
    "        # We make sure we have enough data points in the columns as well\n",
    "        for j_col in range(matrix.shape[1]):\n",
    "            vals = np.unique(fold_matrix[:, j_col])\n",
    "            #print(len(vals[~np.isnan(vals)]))\n",
    "            if len(vals[~np.isnan(vals)]) < k:\n",
    "                #print(j_col)\n",
    "                col_bool = True\n",
    "                break\n",
    "        # If too many iteration are performed an Exception is raised.\n",
    "        if n_col > max_iter:\n",
    "            raise Exception('Maximum number of iterations reached. Try changing the `max_iter` argument.')\n",
    "    \n",
    "    print('Number of iterations required to split data into {}-folds: {}'.format(k, n_col))\n",
    "    return fold_matrix\n",
    "\n",
    "fold_matrix = k_fold_split(henry_df, 3, max_iter=1e4)"
   ]
  },
  {
   "cell_type": "code",
   "execution_count": 178,
   "metadata": {},
   "outputs": [
    {
     "data": {
      "text/plain": [
       "5"
      ]
     },
     "execution_count": 178,
     "metadata": {},
     "output_type": "execute_result"
    }
   ],
   "source": [
    "np.count_nonzero(~np.isnan(henry_df.values[:,8]))"
   ]
  },
  {
   "cell_type": "code",
   "execution_count": 184,
   "metadata": {},
   "outputs": [
    {
     "data": {
      "text/plain": [
       "array([[        nan,         nan,         nan, ...,         nan,\n",
       "        18.19257397,         nan],\n",
       "       [        nan,  0.6133393 ,  0.77027446, ...,         nan,\n",
       "                nan, 97.06174838],\n",
       "       [        nan,  0.28672616,         nan, ...,         nan,\n",
       "                nan,         nan],\n",
       "       ...,\n",
       "       [ 0.65160471,         nan,         nan, ...,         nan,\n",
       "                nan,         nan],\n",
       "       [        nan,         nan,         nan, ...,         nan,\n",
       "                nan,         nan],\n",
       "       [        nan,         nan,         nan, ...,         nan,\n",
       "                nan,         nan]])"
      ]
     },
     "execution_count": 184,
     "metadata": {},
     "output_type": "execute_result"
    }
   ],
   "source": [
    "henry_df.mask(fold_matrix==0).values"
   ]
  },
  {
   "cell_type": "markdown",
   "metadata": {},
   "source": [
    "### Lets start setting up the Recommender System algorithm"
   ]
  },
  {
   "cell_type": "code",
   "execution_count": 536,
   "metadata": {},
   "outputs": [],
   "source": [
    "def recsys_rmse(r, p, q, lambd):\n",
    "    return (r - np.transpose(q) * p)**2 + lambd * (np.linalg.norm(p)**2 + np.linalg.norm(q)**2)"
   ]
  },
  {
   "cell_type": "code",
   "execution_count": 537,
   "metadata": {},
   "outputs": [],
   "source": [
    "def predict(x, y, mu, b_i, b_u):\n",
    "    #print('x shape: {}, y shape: {}'.format(x.shape, y.shape))\n",
    "    return mu + b_i + b_u + (x.T).dot(y)"
   ]
  },
  {
   "cell_type": "code",
   "execution_count": 538,
   "metadata": {},
   "outputs": [],
   "source": [
    "def predict_all(X, Y, mu, b_i, b_u):\n",
    "    predictions = np.zeros((X.shape[1], Y.shape[1]))\n",
    "    for u in range(X.shape[1]):\n",
    "        for i in range(Y.shape[1]):\n",
    "            predictions[u, i] = predict(X[:,u], Y[:,i], mu, b_i[i], b_u[u])\n",
    "    return predictions"
   ]
  },
  {
   "cell_type": "markdown",
   "metadata": {},
   "source": [
    "#### ALS methods implemented according to http://stanford.edu/~rezab/classes/cme323/S15/notes/lec14.pdf"
   ]
  },
  {
   "cell_type": "code",
   "execution_count": 563,
   "metadata": {},
   "outputs": [
    {
     "name": "stdout",
     "output_type": "stream",
     "text": [
      "X_shape: (3, 86)\tY_shape: (3, 27)\n",
      "Train Error on iteration 0: 468.68027429399086\n",
      "-------------\n",
      "Train Error on iteration 1000: 38.252225218673956\n",
      "-------------\n",
      "Train Error on iteration 2000: 35.93258454085263\n",
      "-------------\n",
      "Train Error on iteration 3000: 35.474210490959706\n",
      "-------------\n",
      "Train Error on iteration 4000: 35.220791929632085\n",
      "-------------\n",
      "Train Error on iteration 5000: 35.056567237001985\n",
      "-------------\n",
      "Train Error on iteration 6000: 34.941842252390195\n",
      "-------------\n",
      "Train Error on iteration 7000: 34.85809471959162\n",
      "-------------\n",
      "Train Error on iteration 8000: 34.7951779922897\n",
      "-------------\n",
      "Train Error on iteration 9000: 34.74689523746692\n",
      "-------------\n",
      "Train Error on iteration 10000: 34.70919707296039\n",
      "-------------\n",
      "Train Error on iteration 11000: 34.679342344832754\n",
      "-------------\n",
      "Train Error on iteration 12000: 34.65540250269361\n",
      "-------------\n",
      "Train Error on iteration 13000: 34.63580653834097\n",
      "-------------\n",
      "Train Error on iteration 14000: 34.61998866333598\n",
      "-------------\n",
      "Train Error on iteration 15000: 34.60672690704385\n",
      "-------------\n",
      "Training has converged after 15303 iterations. See `convergence` parameter for convergence procedure.\n",
      "Train error: 34.60314088525505\n"
     ]
    },
    {
     "data": {
      "image/png": "[encoded data removed]",
      "text/plain": [
       "<Figure size 576x432 with 1 Axes>"
      ]
     },
     "metadata": {
      "needs_background": "light"
     },
     "output_type": "display_data"
    }
   ],
   "source": [
    "def ALS(henry_matrix, f, lambd, threshold, convergence=1e-5, verbose=True):\n",
    "    n = 0\n",
    "    train_error_arr = []\n",
    "    train_error = np.inf\n",
    "    prev_error = 0\n",
    "    convergence_cnt = 0\n",
    "    mu = np.nanmean(henry_matrix)\n",
    "    b_i = np.nanmean(henry_matrix, axis=0) - mu\n",
    "    b_u = np.nanmean(henry_matrix, axis=1) - mu\n",
    "    \n",
    "    M = (np.random.rand(f, henry_matrix.shape[0])-0.5)*0.1\n",
    "    G = (np.random.rand(f, henry_matrix.shape[1])-0.5)*0.1\n",
    "    print('X_shape: {}\\tY_shape: {}'.format(M.shape, G.shape))\n",
    "    while train_error > threshold:\n",
    "        for j in range(M.shape[1]):\n",
    "            B = mu + b_u[j] + b_i\n",
    "            mask = ~np.isnan(henry_matrix[j,:])\n",
    "            M[:,j] = ((henry_matrix[j,:][mask]-B[mask]).dot(G[:,mask].T)).dot(np.linalg.inv(G[:,mask].dot(G[:,mask].T)) + lambd * np.identity(f))\n",
    "        for j in range(G.shape[1]):\n",
    "            B = mu + b_i[j] + b_u\n",
    "            mask = ~np.isnan(henry_matrix[:,j])\n",
    "            G[:,j] = np.linalg.inv(M[:,mask].dot(M[:,mask].T) + lambd * np.identity(f)).dot(M[:,mask]).dot(henry_matrix[:,j][mask]-B[mask])\n",
    "                \n",
    "        #print(tf.math.subtract(henry_matrix, tf.matmul(np.transpose(X), Y)))\n",
    "        pred = predict_all(M, G, mu, b_i, b_u)[~np.isnan(henry_matrix)].flatten()\n",
    "        actual = henry_matrix[~np.isnan(henry_matrix)].flatten()\n",
    "        #print(pred)\n",
    "        prev_error = train_error\n",
    "        train_error = np.sqrt(np.sum([(actual[i] - pred[i])**2 for i in range(len(pred))])/len(pred))\n",
    "        train_error_arr.append(train_error)\n",
    "        error_diff = prev_error - train_error\n",
    "        if n % 1000 == 0:\n",
    "            print('Train Error on iteration {}: {}\\n-------------'.format(n, train_error))\n",
    "            \n",
    "        if error_diff < convergence:\n",
    "            convergence_cnt += 1\n",
    "            if convergence_cnt > 4:\n",
    "                print('Training has converged after {} iterations. See `convergence` parameter for convergence procedure.'.format(n))\n",
    "                print('Train error: {}'.format(train_error))\n",
    "                break\n",
    "        else:\n",
    "            convergence_cnt = 0\n",
    "        n += 1\n",
    "    \n",
    "    fig, ax = plt.subplots(figsize=(8,6))\n",
    "    #ax.scatter(np.arange(len(train_error_arr)), train_error_arr, color='red')\n",
    "    ax.plot(np.arange(len(train_error_arr)), train_error_arr, color='red')\n",
    "    ax.set_xlabel('Iteration')\n",
    "    ax.set_ylabel('Train Loss')\n",
    "    plt.show()\n",
    "    \n",
    "    return M.T, G, mu, b_i, b_u\n",
    "p,q,mu,b_i,b_u = ALS(henry_df.values, 3, 10.3, 0.01)"
   ]
  },
  {
   "cell_type": "code",
   "execution_count": 591,
   "metadata": {},
   "outputs": [
    {
     "data": {
      "text/plain": [
       "1.3240902624856403"
      ]
     },
     "execution_count": 591,
     "metadata": {},
     "output_type": "execute_result"
    }
   ],
   "source": [
    "h = p.dot(q)\n",
    "i = 9\n",
    "j = 9\n",
    "h[i,j] + mu + b_i[i] + b_u[j]"
   ]
  },
  {
   "cell_type": "code",
   "execution_count": 592,
   "metadata": {},
   "outputs": [
    {
     "data": {
      "text/plain": [
       "0.7097341380537214"
      ]
     },
     "execution_count": 592,
     "metadata": {},
     "output_type": "execute_result"
    }
   ],
   "source": [
    "henry_df.values[i,j]"
   ]
  },
  {
   "cell_type": "code",
   "execution_count": 240,
   "metadata": {},
   "outputs": [
    {
     "data": {
      "text/plain": [
       "array([ 0,  1,  2,  3,  4,  5,  6,  7,  8,  9, 10, 11, 12, 13, 14, 15, 16,\n",
       "       17, 18, 20, 21, 25])"
      ]
     },
     "execution_count": 240,
     "metadata": {},
     "output_type": "execute_result"
    }
   ],
   "source": [
    "np.where(~np.isnan(henry_df.values[4,:]))[0]"
   ]
  },
  {
   "cell_type": "code",
   "execution_count": 253,
   "metadata": {},
   "outputs": [
    {
     "name": "stdout",
     "output_type": "stream",
     "text": [
      "a shape: (4, 1), b shape: (1, 5)\n",
      "ab shape: (4, 5)\n"
     ]
    },
    {
     "data": {
      "text/plain": [
       "array([[1, 1, 1, 1, 1],\n",
       "       [2, 2, 2, 2, 2],\n",
       "       [3, 3, 3, 3, 3],\n",
       "       [4, 4, 4, 4, 4]])"
      ]
     },
     "execution_count": 253,
     "metadata": {},
     "output_type": "execute_result"
    }
   ],
   "source": [
    "a = np.array(([1], [2], [3], [4]))\n",
    "b = np.array([[1,1,1,1,1],])\n",
    "print('a shape: {}, b shape: {}'.format(a.shape, b.shape))\n",
    "\n",
    "ab = np.matmul(a, b)\n",
    "print('ab shape: {}'.format(ab.shape))\n",
    "ab"
   ]
  },
  {
   "cell_type": "code",
   "execution_count": 254,
   "metadata": {},
   "outputs": [
    {
     "data": {
      "text/plain": [
       "(2,)"
      ]
     },
     "execution_count": 254,
     "metadata": {},
     "output_type": "execute_result"
    }
   ],
   "source": [
    "Y[:,0].shape"
   ]
  },
  {
   "cell_type": "code",
   "execution_count": 257,
   "metadata": {},
   "outputs": [],
   "source": [
    "yi = Y[:,0].reshape((2,1))"
   ]
  },
  {
   "cell_type": "code",
   "execution_count": 295,
   "metadata": {},
   "outputs": [
    {
     "data": {
      "text/plain": [
       "<tf.Tensor: id=35, shape=(2, 2), dtype=float64, numpy=\n",
       "array([[0.96807413, 0.79354549],\n",
       "       [0.79354549, 0.65048164]])>"
      ]
     },
     "execution_count": 295,
     "metadata": {},
     "output_type": "execute_result"
    }
   ],
   "source": [
    "tf.matmul(yi, np.transpose(yi))"
   ]
  },
  {
   "cell_type": "code",
   "execution_count": 274,
   "metadata": {},
   "outputs": [],
   "source": [
    "j = 0\n",
    "f = 2\n",
    "comp05 = [Y[:,i].reshape((f, 1)) * np.transpose(Y[:,i]).reshape((1, f)) for i in np.where(~np.isnan(henry_df.values[j, :]))[0]]"
   ]
  },
  {
   "cell_type": "code",
   "execution_count": 307,
   "metadata": {},
   "outputs": [],
   "source": [
    "x = tf.math.add_n(comp05)"
   ]
  },
  {
   "cell_type": "code",
   "execution_count": 293,
   "metadata": {},
   "outputs": [
    {
     "name": "stdout",
     "output_type": "stream",
     "text": [
      "6.123233048651876\n"
     ]
    }
   ],
   "source": [
    "summ = 0\n",
    "for val in comp05:\n",
    "    summ += val[0,0]\n",
    "print(summ)"
   ]
  },
  {
   "cell_type": "code",
   "execution_count": 312,
   "metadata": {},
   "outputs": [
    {
     "data": {
      "text/plain": [
       "<tf.Tensor: id=597, shape=(4,), dtype=float64, numpy=array([6.12323305, 3.69262422, 3.69262422, 4.28796079])>"
      ]
     },
     "execution_count": 312,
     "metadata": {},
     "output_type": "execute_result"
    }
   ],
   "source": [
    "tf.reshape(x, (4,))"
   ]
  },
  {
   "cell_type": "code",
   "execution_count": 333,
   "metadata": {},
   "outputs": [],
   "source": [
    "train_error = [j for (i, j) in [np.where(~np.isnan(henry_df.values))]]"
   ]
  },
  {
   "cell_type": "code",
   "execution_count": 337,
   "metadata": {},
   "outputs": [],
   "source": [
    "henry_matrix = henry_df.values"
   ]
  },
  {
   "cell_type": "code",
   "execution_count": 345,
   "metadata": {},
   "outputs": [],
   "source": [
    "Z = tf.matmul(np.transpose(X),Y)"
   ]
  },
  {
   "cell_type": "code",
   "execution_count": 353,
   "metadata": {},
   "outputs": [
    {
     "data": {
      "text/plain": [
       "1180.0244736624365"
      ]
     },
     "execution_count": 353,
     "metadata": {},
     "output_type": "execute_result"
    }
   ],
   "source": [
    "np.sqrt(np.nansum(tf.math.subtract(henry_matrix, Z)**2)/np.count_nonzero(~np.isnan(henry_matrix)))"
   ]
  },
  {
   "cell_type": "code",
   "execution_count": null,
   "metadata": {},
   "outputs": [],
   "source": []
  }
 ],
 "metadata": {
  "kernelspec": {
   "display_name": "Python 3",
   "language": "python",
   "name": "python3"
  },
  "language_info": {
   "codemirror_mode": {
    "name": "ipython",
    "version": 3
   },
   "file_extension": ".py",
   "mimetype": "text/x-python",
   "name": "python",
   "nbconvert_exporter": "python",
   "pygments_lexer": "ipython3",
   "version": "3.7.3"
  }
 },
 "nbformat": 4,
 "nbformat_minor": 2
}
